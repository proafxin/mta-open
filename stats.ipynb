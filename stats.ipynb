{
 "cells": [
  {
   "cell_type": "code",
   "execution_count": 1,
   "id": "b5d8a885-74f8-4e34-a270-8cb0c3eaaa49",
   "metadata": {},
   "outputs": [],
   "source": [
    "import polars as pl"
   ]
  },
  {
   "cell_type": "code",
   "execution_count": 2,
   "id": "7130611d-1c35-4292-b558-b0d731d7dffb",
   "metadata": {},
   "outputs": [
    {
     "data": {
      "text/html": [
       "<div><style>\n",
       ".dataframe > thead > tr,\n",
       ".dataframe > tbody > tr {\n",
       "  text-align: right;\n",
       "  white-space: pre-wrap;\n",
       "}\n",
       "</style>\n",
       "<small>shape: (5, 31)</small><table border=\"1\" class=\"dataframe\"><thead><tr><th>borough</th><th>zip_code</th><th>latitude</th><th>longitude</th><th>on_street_name</th><th>cross_street_name</th><th>off_street_name</th><th>number_of_persons_injured</th><th>number_of_persons_killed</th><th>number_of_pedestrians_injured</th><th>number_of_pedestrians_killed</th><th>number_of_cyclist_injured</th><th>number_of_cyclist_killed</th><th>number_of_motorist_injured</th><th>number_of_motorist_killed</th><th>contributing_factor_vehicle_1</th><th>contributing_factor_vehicle_2</th><th>contributing_factor_vehicle_3</th><th>contributing_factor_vehicle_4</th><th>contributing_factor_vehicle_5</th><th>vehicle_type_code_1</th><th>vehicle_type_code_2</th><th>vehicle_type_code_3</th><th>vehicle_type_code_4</th><th>vehicle_type_code_5</th><th>date</th><th>year</th><th>month</th><th>time</th><th>hour</th><th>number_of_casualty</th></tr><tr><td>str</td><td>i64</td><td>f64</td><td>f64</td><td>str</td><td>str</td><td>str</td><td>i64</td><td>i64</td><td>i64</td><td>i64</td><td>i64</td><td>i64</td><td>i64</td><td>i64</td><td>str</td><td>str</td><td>str</td><td>str</td><td>str</td><td>str</td><td>str</td><td>str</td><td>str</td><td>str</td><td>date</td><td>i32</td><td>i8</td><td>time</td><td>i8</td><td>i64</td></tr></thead><tbody><tr><td>null</td><td>null</td><td>null</td><td>null</td><td>&quot;WHITESTONE EXPRESSWAY&quot;</td><td>&quot;20 AVENUE&quot;</td><td>null</td><td>2</td><td>0</td><td>0</td><td>0</td><td>0</td><td>0</td><td>2</td><td>0</td><td>&quot;Aggressive Driving/Road Rage&quot;</td><td>&quot;Unspecified&quot;</td><td>null</td><td>null</td><td>null</td><td>&quot;Sedan&quot;</td><td>&quot;Sedan&quot;</td><td>null</td><td>null</td><td>null</td><td>2021-09-11</td><td>2021</td><td>9</td><td>02:39:00</td><td>2</td><td>2</td></tr><tr><td>null</td><td>null</td><td>null</td><td>null</td><td>&quot;QUEENSBORO BRIDGE UPPER&quot;</td><td>null</td><td>null</td><td>1</td><td>0</td><td>0</td><td>0</td><td>0</td><td>0</td><td>1</td><td>0</td><td>&quot;Pavement Slippery&quot;</td><td>null</td><td>null</td><td>null</td><td>null</td><td>&quot;Sedan&quot;</td><td>null</td><td>null</td><td>null</td><td>null</td><td>2022-03-26</td><td>2022</td><td>3</td><td>11:45:00</td><td>11</td><td>1</td></tr><tr><td>null</td><td>null</td><td>null</td><td>null</td><td>&quot;THROGS NECK BRIDGE&quot;</td><td>null</td><td>null</td><td>0</td><td>0</td><td>0</td><td>0</td><td>0</td><td>0</td><td>0</td><td>0</td><td>&quot;Following Too Closely&quot;</td><td>&quot;Unspecified&quot;</td><td>null</td><td>null</td><td>null</td><td>&quot;Sedan&quot;</td><td>&quot;Pick-up Truck&quot;</td><td>null</td><td>null</td><td>null</td><td>2022-06-29</td><td>2022</td><td>6</td><td>06:55:00</td><td>6</td><td>0</td></tr><tr><td>&quot;BROOKLYN&quot;</td><td>11208</td><td>40.667202</td><td>-73.8665</td><td>null</td><td>null</td><td>&quot;1211      LORING AVENUE&quot;</td><td>0</td><td>0</td><td>0</td><td>0</td><td>0</td><td>0</td><td>0</td><td>0</td><td>&quot;Unspecified&quot;</td><td>null</td><td>null</td><td>null</td><td>null</td><td>&quot;Sedan&quot;</td><td>null</td><td>null</td><td>null</td><td>null</td><td>2021-09-11</td><td>2021</td><td>9</td><td>09:35:00</td><td>9</td><td>0</td></tr><tr><td>&quot;BROOKLYN&quot;</td><td>11233</td><td>40.683304</td><td>-73.917274</td><td>&quot;SARATOGA AVENUE&quot;</td><td>&quot;DECATUR STREET&quot;</td><td>null</td><td>0</td><td>0</td><td>0</td><td>0</td><td>0</td><td>0</td><td>0</td><td>0</td><td>null</td><td>null</td><td>null</td><td>null</td><td>null</td><td>null</td><td>null</td><td>null</td><td>null</td><td>null</td><td>2021-12-14</td><td>2021</td><td>12</td><td>08:13:00</td><td>8</td><td>0</td></tr></tbody></table></div>"
      ],
      "text/plain": [
       "shape: (5, 31)\n",
       "┌──────────┬──────────┬───────────┬────────────┬───┬───────┬──────────┬──────┬────────────────────┐\n",
       "│ borough  ┆ zip_code ┆ latitude  ┆ longitude  ┆ … ┆ month ┆ time     ┆ hour ┆ number_of_casualty │\n",
       "│ ---      ┆ ---      ┆ ---       ┆ ---        ┆   ┆ ---   ┆ ---      ┆ ---  ┆ ---                │\n",
       "│ str      ┆ i64      ┆ f64       ┆ f64        ┆   ┆ i8    ┆ time     ┆ i8   ┆ i64                │\n",
       "╞══════════╪══════════╪═══════════╪════════════╪═══╪═══════╪══════════╪══════╪════════════════════╡\n",
       "│ null     ┆ null     ┆ null      ┆ null       ┆ … ┆ 9     ┆ 02:39:00 ┆ 2    ┆ 2                  │\n",
       "│ null     ┆ null     ┆ null      ┆ null       ┆ … ┆ 3     ┆ 11:45:00 ┆ 11   ┆ 1                  │\n",
       "│ null     ┆ null     ┆ null      ┆ null       ┆ … ┆ 6     ┆ 06:55:00 ┆ 6    ┆ 0                  │\n",
       "│ BROOKLYN ┆ 11208    ┆ 40.667202 ┆ -73.8665   ┆ … ┆ 9     ┆ 09:35:00 ┆ 9    ┆ 0                  │\n",
       "│ BROOKLYN ┆ 11233    ┆ 40.683304 ┆ -73.917274 ┆ … ┆ 12    ┆ 08:13:00 ┆ 8    ┆ 0                  │\n",
       "└──────────┴──────────┴───────────┴────────────┴───┴───────┴──────────┴──────┴────────────────────┘"
      ]
     },
     "execution_count": 2,
     "metadata": {},
     "output_type": "execute_result"
    }
   ],
   "source": [
    "data = pl.read_parquet(\"data/processed.parquet\")\n",
    "data.head()"
   ]
  },
  {
   "cell_type": "code",
   "execution_count": 3,
   "id": "d62425f9-c88e-4f74-b710-adebd816fb99",
   "metadata": {},
   "outputs": [
    {
     "name": "stdout",
     "output_type": "stream",
     "text": [
      "shape: (5, 5)\n",
      "┌───────────────┬──────┬──────────────────────────┬───────────────────────────┬────────────────────┐\n",
      "│ borough       ┆ year ┆ number_of_persons_killed ┆ number_of_persons_injured ┆ number_of_casualty │\n",
      "│ ---           ┆ ---  ┆ ---                      ┆ ---                       ┆ ---                │\n",
      "│ str           ┆ i32  ┆ i64                      ┆ i64                       ┆ i64                │\n",
      "╞═══════════════╪══════╪══════════════════════════╪═══════════════════════════╪════════════════════╡\n",
      "│ BROOKLYN      ┆ 2021 ┆ 54                       ┆ 11676                     ┆ 11730              │\n",
      "│ BRONX         ┆ 2021 ┆ 23                       ┆ 5757                      ┆ 5780               │\n",
      "│ MANHATTAN     ┆ 2021 ┆ 26                       ┆ 4632                      ┆ 4658               │\n",
      "│ QUEENS        ┆ 2021 ┆ 34                       ┆ 8452                      ┆ 8486               │\n",
      "│ STATEN ISLAND ┆ 2021 ┆ 6                        ┆ 1095                      ┆ 1101               │\n",
      "└───────────────┴──────┴──────────────────────────┴───────────────────────────┴────────────────────┘\n",
      "shape: (5, 5)\n",
      "┌───────────┬───────┬──────────────────────────┬───────────────────────────┬────────────────────┐\n",
      "│ borough   ┆ month ┆ number_of_persons_killed ┆ number_of_persons_injured ┆ number_of_casualty │\n",
      "│ ---       ┆ ---   ┆ ---                      ┆ ---                       ┆ ---                │\n",
      "│ str       ┆ i8    ┆ i64                      ┆ i64                       ┆ i64                │\n",
      "╞═══════════╪═══════╪══════════════════════════╪═══════════════════════════╪════════════════════╡\n",
      "│ BROOKLYN  ┆ 9     ┆ 55                       ┆ 15125                     ┆ 15180              │\n",
      "│ BROOKLYN  ┆ 12    ┆ 67                       ┆ 12899                     ┆ 12966              │\n",
      "│ BRONX     ┆ 12    ┆ 15                       ┆ 5793                      ┆ 5808               │\n",
      "│ MANHATTAN ┆ 12    ┆ 33                       ┆ 5602                      ┆ 5635               │\n",
      "│ QUEENS    ┆ 12    ┆ 43                       ┆ 10136                     ┆ 10179              │\n",
      "└───────────┴───────┴──────────────────────────┴───────────────────────────┴────────────────────┘\n",
      "shape: (5, 5)\n",
      "┌───────────┬──────┬──────────────────────────┬───────────────────────────┬────────────────────┐\n",
      "│ borough   ┆ hour ┆ number_of_persons_killed ┆ number_of_persons_injured ┆ number_of_casualty │\n",
      "│ ---       ┆ ---  ┆ ---                      ┆ ---                       ┆ ---                │\n",
      "│ str       ┆ i8   ┆ i64                      ┆ i64                       ┆ i64                │\n",
      "╞═══════════╪══════╪══════════════════════════╪═══════════════════════════╪════════════════════╡\n",
      "│ BROOKLYN  ┆ 9    ┆ 16                       ┆ 6566                      ┆ 6582               │\n",
      "│ BROOKLYN  ┆ 8    ┆ 17                       ┆ 7315                      ┆ 7332               │\n",
      "│ BRONX     ┆ 8    ┆ 7                        ┆ 3812                      ┆ 3819               │\n",
      "│ BROOKLYN  ┆ 21   ┆ 37                       ┆ 7475                      ┆ 7512               │\n",
      "│ MANHATTAN ┆ 14   ┆ 14                       ┆ 4063                      ┆ 4077               │\n",
      "└───────────┴──────┴──────────────────────────┴───────────────────────────┴────────────────────┘\n"
     ]
    }
   ],
   "source": [
    "safety_columns = [\"year\", \"month\", \"hour\", \"borough\"]\n",
    "safety_statuses = [\"number_of_persons_killed\", \"number_of_persons_injured\"]\n",
    "\n",
    "status_readable_names = {\n",
    "    \"number_of_persons_killed\": \"death\",\n",
    "    \"number_of_persons_injured\": \"injury\",\n",
    "    \"number_of_casualty\": \"casualty\",\n",
    "}\n",
    "\n",
    "safety_data = data.select(safety_columns + safety_statuses).drop_nulls()\n",
    "# data = data.cast({safety_status: pl.Int64 for safety_status in safety_statuses})\n",
    "\n",
    "safety_data = safety_data.with_columns(pl.sum_horizontal(safety_statuses).alias(\"number_of_casualty\"))\n",
    "safety_statuses.append(\"number_of_casualty\")\n",
    "\n",
    "\n",
    "for column in safety_columns[:-1]:\n",
    "    joined = pl.DataFrame()\n",
    "\n",
    "    for i, safety_status in enumerate(safety_statuses):\n",
    "        columns = [\"borough\", column]\n",
    "        pivot = safety_data.pivot(on=columns, index=columns, values=[safety_status], aggregate_function=\"sum\")\n",
    "        pivot = pivot.with_columns(pl.coalesce(pl.col(pivot.columns[2:]).alias(safety_status)))\n",
    "        pivot = pivot.select(columns + [safety_status])\n",
    "        if joined.shape[0] == 0 and joined.shape[1] == 0:\n",
    "            joined = pivot\n",
    "        else:\n",
    "            joined = joined.join(pivot, on=columns)\n",
    "    print(joined.head())\n",
    "    joined.write_parquet(f\"data/borough_{column}.parquet\")"
   ]
  },
  {
   "cell_type": "code",
   "execution_count": 4,
   "id": "ec79d3dd-60cd-44cc-ab29-1a5a19d0b518",
   "metadata": {},
   "outputs": [
    {
     "data": {
      "text/plain": [
       "(2125763, 31)"
      ]
     },
     "execution_count": 4,
     "metadata": {},
     "output_type": "execute_result"
    }
   ],
   "source": [
    "data.shape"
   ]
  },
  {
   "cell_type": "code",
   "execution_count": 5,
   "id": "e5d68f95-ffe6-40df-8bcd-d1c43f8ac2da",
   "metadata": {},
   "outputs": [
    {
     "data": {
      "text/html": [
       "<div><style>\n",
       ".dataframe > thead > tr,\n",
       ".dataframe > tbody > tr {\n",
       "  text-align: right;\n",
       "  white-space: pre-wrap;\n",
       "}\n",
       "</style>\n",
       "<small>shape: (5, 31)</small><table border=\"1\" class=\"dataframe\"><thead><tr><th>borough</th><th>zip_code</th><th>latitude</th><th>longitude</th><th>on_street_name</th><th>cross_street_name</th><th>off_street_name</th><th>number_of_persons_injured</th><th>number_of_persons_killed</th><th>number_of_pedestrians_injured</th><th>number_of_pedestrians_killed</th><th>number_of_cyclist_injured</th><th>number_of_cyclist_killed</th><th>number_of_motorist_injured</th><th>number_of_motorist_killed</th><th>contributing_factor_vehicle_1</th><th>contributing_factor_vehicle_2</th><th>contributing_factor_vehicle_3</th><th>contributing_factor_vehicle_4</th><th>contributing_factor_vehicle_5</th><th>vehicle_type_code_1</th><th>vehicle_type_code_2</th><th>vehicle_type_code_3</th><th>vehicle_type_code_4</th><th>vehicle_type_code_5</th><th>date</th><th>year</th><th>month</th><th>time</th><th>hour</th><th>number_of_casualty</th></tr><tr><td>str</td><td>i64</td><td>f64</td><td>f64</td><td>str</td><td>str</td><td>str</td><td>i64</td><td>i64</td><td>i64</td><td>i64</td><td>i64</td><td>i64</td><td>i64</td><td>i64</td><td>str</td><td>str</td><td>str</td><td>str</td><td>str</td><td>str</td><td>str</td><td>str</td><td>str</td><td>str</td><td>date</td><td>i32</td><td>i8</td><td>time</td><td>i8</td><td>i64</td></tr></thead><tbody><tr><td>null</td><td>null</td><td>null</td><td>null</td><td>&quot;WHITESTONE EXPRESSWAY&quot;</td><td>&quot;20 AVENUE&quot;</td><td>null</td><td>2</td><td>0</td><td>0</td><td>0</td><td>0</td><td>0</td><td>2</td><td>0</td><td>&quot;Aggressive Driving/Road Rage&quot;</td><td>&quot;Unspecified&quot;</td><td>null</td><td>null</td><td>null</td><td>&quot;Sedan&quot;</td><td>&quot;Sedan&quot;</td><td>null</td><td>null</td><td>null</td><td>2021-09-11</td><td>2021</td><td>9</td><td>02:39:00</td><td>2</td><td>2</td></tr><tr><td>null</td><td>null</td><td>null</td><td>null</td><td>&quot;QUEENSBORO BRIDGE UPPER&quot;</td><td>null</td><td>null</td><td>1</td><td>0</td><td>0</td><td>0</td><td>0</td><td>0</td><td>1</td><td>0</td><td>&quot;Pavement Slippery&quot;</td><td>null</td><td>null</td><td>null</td><td>null</td><td>&quot;Sedan&quot;</td><td>null</td><td>null</td><td>null</td><td>null</td><td>2022-03-26</td><td>2022</td><td>3</td><td>11:45:00</td><td>11</td><td>1</td></tr><tr><td>null</td><td>null</td><td>null</td><td>null</td><td>&quot;THROGS NECK BRIDGE&quot;</td><td>null</td><td>null</td><td>0</td><td>0</td><td>0</td><td>0</td><td>0</td><td>0</td><td>0</td><td>0</td><td>&quot;Following Too Closely&quot;</td><td>&quot;Unspecified&quot;</td><td>null</td><td>null</td><td>null</td><td>&quot;Sedan&quot;</td><td>&quot;Pick-up Truck&quot;</td><td>null</td><td>null</td><td>null</td><td>2022-06-29</td><td>2022</td><td>6</td><td>06:55:00</td><td>6</td><td>0</td></tr><tr><td>&quot;BROOKLYN&quot;</td><td>11208</td><td>40.667202</td><td>-73.8665</td><td>null</td><td>null</td><td>&quot;1211      LORING AVENUE&quot;</td><td>0</td><td>0</td><td>0</td><td>0</td><td>0</td><td>0</td><td>0</td><td>0</td><td>&quot;Unspecified&quot;</td><td>null</td><td>null</td><td>null</td><td>null</td><td>&quot;Sedan&quot;</td><td>null</td><td>null</td><td>null</td><td>null</td><td>2021-09-11</td><td>2021</td><td>9</td><td>09:35:00</td><td>9</td><td>0</td></tr><tr><td>&quot;BROOKLYN&quot;</td><td>11233</td><td>40.683304</td><td>-73.917274</td><td>&quot;SARATOGA AVENUE&quot;</td><td>&quot;DECATUR STREET&quot;</td><td>null</td><td>0</td><td>0</td><td>0</td><td>0</td><td>0</td><td>0</td><td>0</td><td>0</td><td>null</td><td>null</td><td>null</td><td>null</td><td>null</td><td>null</td><td>null</td><td>null</td><td>null</td><td>null</td><td>2021-12-14</td><td>2021</td><td>12</td><td>08:13:00</td><td>8</td><td>0</td></tr></tbody></table></div>"
      ],
      "text/plain": [
       "shape: (5, 31)\n",
       "┌──────────┬──────────┬───────────┬────────────┬───┬───────┬──────────┬──────┬────────────────────┐\n",
       "│ borough  ┆ zip_code ┆ latitude  ┆ longitude  ┆ … ┆ month ┆ time     ┆ hour ┆ number_of_casualty │\n",
       "│ ---      ┆ ---      ┆ ---       ┆ ---        ┆   ┆ ---   ┆ ---      ┆ ---  ┆ ---                │\n",
       "│ str      ┆ i64      ┆ f64       ┆ f64        ┆   ┆ i8    ┆ time     ┆ i8   ┆ i64                │\n",
       "╞══════════╪══════════╪═══════════╪════════════╪═══╪═══════╪══════════╪══════╪════════════════════╡\n",
       "│ null     ┆ null     ┆ null      ┆ null       ┆ … ┆ 9     ┆ 02:39:00 ┆ 2    ┆ 2                  │\n",
       "│ null     ┆ null     ┆ null      ┆ null       ┆ … ┆ 3     ┆ 11:45:00 ┆ 11   ┆ 1                  │\n",
       "│ null     ┆ null     ┆ null      ┆ null       ┆ … ┆ 6     ┆ 06:55:00 ┆ 6    ┆ 0                  │\n",
       "│ BROOKLYN ┆ 11208    ┆ 40.667202 ┆ -73.8665   ┆ … ┆ 9     ┆ 09:35:00 ┆ 9    ┆ 0                  │\n",
       "│ BROOKLYN ┆ 11233    ┆ 40.683304 ┆ -73.917274 ┆ … ┆ 12    ┆ 08:13:00 ┆ 8    ┆ 0                  │\n",
       "└──────────┴──────────┴───────────┴────────────┴───┴───────┴──────────┴──────┴────────────────────┘"
      ]
     },
     "execution_count": 5,
     "metadata": {},
     "output_type": "execute_result"
    }
   ],
   "source": [
    "data.head()"
   ]
  },
  {
   "cell_type": "code",
   "execution_count": null,
   "id": "d699dd5d-bf93-4e9b-9d66-e76d9449865d",
   "metadata": {},
   "outputs": [],
   "source": []
  }
 ],
 "metadata": {
  "kernelspec": {
   "display_name": "Python 3 (ipykernel)",
   "language": "python",
   "name": "python3"
  },
  "language_info": {
   "codemirror_mode": {
    "name": "ipython",
    "version": 3
   },
   "file_extension": ".py",
   "mimetype": "text/x-python",
   "name": "python",
   "nbconvert_exporter": "python",
   "pygments_lexer": "ipython3",
   "version": "3.12.4"
  }
 },
 "nbformat": 4,
 "nbformat_minor": 5
}
