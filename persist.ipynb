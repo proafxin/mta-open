{
 "cells": [
  {
   "cell_type": "code",
   "execution_count": 1,
   "id": "26e95d63-093e-46fb-9d22-e188c6a00018",
   "metadata": {},
   "outputs": [],
   "source": [
    "import polars as pl\n",
    "\n",
    "from common import persist_data_bitmask"
   ]
  },
  {
   "cell_type": "code",
   "execution_count": 2,
   "id": "89be2b11-1df2-45e6-9a9e-5cf8e7f0a748",
   "metadata": {},
   "outputs": [],
   "source": [
    "df = pl.read_parquet(\"data/vehicle_crash.parquet\")"
   ]
  },
  {
   "cell_type": "code",
   "execution_count": 3,
   "id": "022f1cea-b439-4f54-91f2-a3b083341d14",
   "metadata": {},
   "outputs": [
    {
     "data": {
      "text/html": [
       "<div><style>\n",
       ".dataframe > thead > tr,\n",
       ".dataframe > tbody > tr {\n",
       "  text-align: right;\n",
       "  white-space: pre-wrap;\n",
       "}\n",
       "</style>\n",
       "<small>shape: (5, 29)</small><table border=\"1\" class=\"dataframe\"><thead><tr><th>crash_date</th><th>crash_time</th><th>borough</th><th>zip_code</th><th>latitude</th><th>longitude</th><th>location</th><th>on_street_name</th><th>cross_street_name</th><th>off_street_name</th><th>number_of_persons_injured</th><th>number_of_persons_killed</th><th>number_of_pedestrians_injured</th><th>number_of_pedestrians_killed</th><th>number_of_cyclist_injured</th><th>number_of_cyclist_killed</th><th>number_of_motorist_injured</th><th>number_of_motorist_killed</th><th>contributing_factor_vehicle_1</th><th>contributing_factor_vehicle_2</th><th>contributing_factor_vehicle_3</th><th>contributing_factor_vehicle_4</th><th>contributing_factor_vehicle_5</th><th>collision_id</th><th>vehicle_type_code_1</th><th>vehicle_type_code_2</th><th>vehicle_type_code_3</th><th>vehicle_type_code_4</th><th>vehicle_type_code_5</th></tr><tr><td>str</td><td>str</td><td>str</td><td>i64</td><td>f64</td><td>f64</td><td>str</td><td>str</td><td>str</td><td>str</td><td>i64</td><td>i64</td><td>i64</td><td>i64</td><td>i64</td><td>i64</td><td>i64</td><td>i64</td><td>str</td><td>str</td><td>str</td><td>str</td><td>str</td><td>i64</td><td>str</td><td>str</td><td>str</td><td>str</td><td>str</td></tr></thead><tbody><tr><td>&quot;09/11/2021&quot;</td><td>&quot;2:39&quot;</td><td>null</td><td>null</td><td>null</td><td>null</td><td>null</td><td>&quot;WHITESTONE EXPRESSWAY&quot;</td><td>&quot;20 AVENUE&quot;</td><td>null</td><td>2</td><td>0</td><td>0</td><td>0</td><td>0</td><td>0</td><td>2</td><td>0</td><td>&quot;Aggressive Driving/Road Rage&quot;</td><td>&quot;Unspecified&quot;</td><td>null</td><td>null</td><td>null</td><td>4455765</td><td>&quot;Sedan&quot;</td><td>&quot;Sedan&quot;</td><td>null</td><td>null</td><td>null</td></tr><tr><td>&quot;03/26/2022&quot;</td><td>&quot;11:45&quot;</td><td>null</td><td>null</td><td>null</td><td>null</td><td>null</td><td>&quot;QUEENSBORO BRIDGE UPPER&quot;</td><td>null</td><td>null</td><td>1</td><td>0</td><td>0</td><td>0</td><td>0</td><td>0</td><td>1</td><td>0</td><td>&quot;Pavement Slippery&quot;</td><td>null</td><td>null</td><td>null</td><td>null</td><td>4513547</td><td>&quot;Sedan&quot;</td><td>null</td><td>null</td><td>null</td><td>null</td></tr><tr><td>&quot;06/29/2022&quot;</td><td>&quot;6:55&quot;</td><td>null</td><td>null</td><td>null</td><td>null</td><td>null</td><td>&quot;THROGS NECK BRIDGE&quot;</td><td>null</td><td>null</td><td>0</td><td>0</td><td>0</td><td>0</td><td>0</td><td>0</td><td>0</td><td>0</td><td>&quot;Following Too Closely&quot;</td><td>&quot;Unspecified&quot;</td><td>null</td><td>null</td><td>null</td><td>4541903</td><td>&quot;Sedan&quot;</td><td>&quot;Pick-up Truck&quot;</td><td>null</td><td>null</td><td>null</td></tr><tr><td>&quot;09/11/2021&quot;</td><td>&quot;9:35&quot;</td><td>&quot;BROOKLYN&quot;</td><td>11208</td><td>40.667202</td><td>-73.8665</td><td>&quot;(40.667202, -73.8665)&quot;</td><td>null</td><td>null</td><td>&quot;1211      LORING AVENUE&quot;</td><td>0</td><td>0</td><td>0</td><td>0</td><td>0</td><td>0</td><td>0</td><td>0</td><td>&quot;Unspecified&quot;</td><td>null</td><td>null</td><td>null</td><td>null</td><td>4456314</td><td>&quot;Sedan&quot;</td><td>null</td><td>null</td><td>null</td><td>null</td></tr><tr><td>&quot;12/14/2021&quot;</td><td>&quot;8:13&quot;</td><td>&quot;BROOKLYN&quot;</td><td>11233</td><td>40.683304</td><td>-73.917274</td><td>&quot;(40.683304, -73.917274)&quot;</td><td>&quot;SARATOGA AVENUE&quot;</td><td>&quot;DECATUR STREET&quot;</td><td>null</td><td>0</td><td>0</td><td>0</td><td>0</td><td>0</td><td>0</td><td>0</td><td>0</td><td>null</td><td>null</td><td>null</td><td>null</td><td>null</td><td>4486609</td><td>null</td><td>null</td><td>null</td><td>null</td><td>null</td></tr></tbody></table></div>"
      ],
      "text/plain": [
       "shape: (5, 29)\n",
       "┌────────────┬───────────┬──────────┬──────────┬───┬───────────┬───────────┬───────────┬───────────┐\n",
       "│ crash_date ┆ crash_tim ┆ borough  ┆ zip_code ┆ … ┆ vehicle_t ┆ vehicle_t ┆ vehicle_t ┆ vehicle_t │\n",
       "│ ---        ┆ e         ┆ ---      ┆ ---      ┆   ┆ ype_code_ ┆ ype_code_ ┆ ype_code_ ┆ ype_code_ │\n",
       "│ str        ┆ ---       ┆ str      ┆ i64      ┆   ┆ 2         ┆ 3         ┆ 4         ┆ 5         │\n",
       "│            ┆ str       ┆          ┆          ┆   ┆ ---       ┆ ---       ┆ ---       ┆ ---       │\n",
       "│            ┆           ┆          ┆          ┆   ┆ str       ┆ str       ┆ str       ┆ str       │\n",
       "╞════════════╪═══════════╪══════════╪══════════╪═══╪═══════════╪═══════════╪═══════════╪═══════════╡\n",
       "│ 09/11/2021 ┆ 2:39      ┆ null     ┆ null     ┆ … ┆ Sedan     ┆ null      ┆ null      ┆ null      │\n",
       "│ 03/26/2022 ┆ 11:45     ┆ null     ┆ null     ┆ … ┆ null      ┆ null      ┆ null      ┆ null      │\n",
       "│ 06/29/2022 ┆ 6:55      ┆ null     ┆ null     ┆ … ┆ Pick-up   ┆ null      ┆ null      ┆ null      │\n",
       "│            ┆           ┆          ┆          ┆   ┆ Truck     ┆           ┆           ┆           │\n",
       "│ 09/11/2021 ┆ 9:35      ┆ BROOKLYN ┆ 11208    ┆ … ┆ null      ┆ null      ┆ null      ┆ null      │\n",
       "│ 12/14/2021 ┆ 8:13      ┆ BROOKLYN ┆ 11233    ┆ … ┆ null      ┆ null      ┆ null      ┆ null      │\n",
       "└────────────┴───────────┴──────────┴──────────┴───┴───────────┴───────────┴───────────┴───────────┘"
      ]
     },
     "execution_count": 3,
     "metadata": {},
     "output_type": "execute_result"
    }
   ],
   "source": [
    "df.head()"
   ]
  },
  {
   "cell_type": "code",
   "execution_count": 4,
   "id": "c7ac75f3-5da4-4441-abbd-cfd2fc42a602",
   "metadata": {},
   "outputs": [],
   "source": [
    "df.write_parquet(\"data/random.parquet\")"
   ]
  },
  {
   "cell_type": "code",
   "execution_count": 5,
   "id": "e6833fa1-5c5a-4ca5-8d25-29c4b550816c",
   "metadata": {},
   "outputs": [
    {
     "data": {
      "text/html": [
       "<div><style>\n",
       ".dataframe > thead > tr,\n",
       ".dataframe > tbody > tr {\n",
       "  text-align: right;\n",
       "  white-space: pre-wrap;\n",
       "}\n",
       "</style>\n",
       "<small>shape: (5, 31)</small><table border=\"1\" class=\"dataframe\"><thead><tr><th>borough</th><th>zip_code</th><th>latitude</th><th>longitude</th><th>on_street_name</th><th>cross_street_name</th><th>off_street_name</th><th>number_of_persons_injured</th><th>number_of_persons_killed</th><th>number_of_pedestrians_injured</th><th>number_of_pedestrians_killed</th><th>number_of_cyclist_injured</th><th>number_of_cyclist_killed</th><th>number_of_motorist_injured</th><th>number_of_motorist_killed</th><th>contributing_factor_vehicle_1</th><th>contributing_factor_vehicle_2</th><th>contributing_factor_vehicle_3</th><th>contributing_factor_vehicle_4</th><th>contributing_factor_vehicle_5</th><th>vehicle_type_code_1</th><th>vehicle_type_code_2</th><th>vehicle_type_code_3</th><th>vehicle_type_code_4</th><th>vehicle_type_code_5</th><th>date</th><th>year</th><th>month</th><th>time</th><th>hour</th><th>number_of_casualty</th></tr><tr><td>str</td><td>i64</td><td>f64</td><td>f64</td><td>str</td><td>str</td><td>str</td><td>i64</td><td>i64</td><td>i64</td><td>i64</td><td>i64</td><td>i64</td><td>i64</td><td>i64</td><td>str</td><td>str</td><td>str</td><td>str</td><td>str</td><td>str</td><td>str</td><td>str</td><td>str</td><td>str</td><td>date</td><td>i32</td><td>i8</td><td>time</td><td>i8</td><td>i64</td></tr></thead><tbody><tr><td>null</td><td>null</td><td>null</td><td>null</td><td>&quot;WHITESTONE EXPRESSWAY&quot;</td><td>&quot;20 AVENUE&quot;</td><td>null</td><td>2</td><td>0</td><td>0</td><td>0</td><td>0</td><td>0</td><td>2</td><td>0</td><td>&quot;Aggressive Driving/Road Rage&quot;</td><td>&quot;Unspecified&quot;</td><td>null</td><td>null</td><td>null</td><td>&quot;Sedan&quot;</td><td>&quot;Sedan&quot;</td><td>null</td><td>null</td><td>null</td><td>2021-09-11</td><td>2021</td><td>9</td><td>02:39:00</td><td>2</td><td>2</td></tr><tr><td>null</td><td>null</td><td>null</td><td>null</td><td>&quot;QUEENSBORO BRIDGE UPPER&quot;</td><td>null</td><td>null</td><td>1</td><td>0</td><td>0</td><td>0</td><td>0</td><td>0</td><td>1</td><td>0</td><td>&quot;Pavement Slippery&quot;</td><td>null</td><td>null</td><td>null</td><td>null</td><td>&quot;Sedan&quot;</td><td>null</td><td>null</td><td>null</td><td>null</td><td>2022-03-26</td><td>2022</td><td>3</td><td>11:45:00</td><td>11</td><td>1</td></tr><tr><td>null</td><td>null</td><td>null</td><td>null</td><td>&quot;THROGS NECK BRIDGE&quot;</td><td>null</td><td>null</td><td>0</td><td>0</td><td>0</td><td>0</td><td>0</td><td>0</td><td>0</td><td>0</td><td>&quot;Following Too Closely&quot;</td><td>&quot;Unspecified&quot;</td><td>null</td><td>null</td><td>null</td><td>&quot;Sedan&quot;</td><td>&quot;Pick-up Truck&quot;</td><td>null</td><td>null</td><td>null</td><td>2022-06-29</td><td>2022</td><td>6</td><td>06:55:00</td><td>6</td><td>0</td></tr><tr><td>&quot;BROOKLYN&quot;</td><td>11208</td><td>40.667202</td><td>-73.8665</td><td>null</td><td>null</td><td>&quot;1211      LORING AVENUE&quot;</td><td>0</td><td>0</td><td>0</td><td>0</td><td>0</td><td>0</td><td>0</td><td>0</td><td>&quot;Unspecified&quot;</td><td>null</td><td>null</td><td>null</td><td>null</td><td>&quot;Sedan&quot;</td><td>null</td><td>null</td><td>null</td><td>null</td><td>2021-09-11</td><td>2021</td><td>9</td><td>09:35:00</td><td>9</td><td>0</td></tr><tr><td>&quot;BROOKLYN&quot;</td><td>11233</td><td>40.683304</td><td>-73.917274</td><td>&quot;SARATOGA AVENUE&quot;</td><td>&quot;DECATUR STREET&quot;</td><td>null</td><td>0</td><td>0</td><td>0</td><td>0</td><td>0</td><td>0</td><td>0</td><td>0</td><td>null</td><td>null</td><td>null</td><td>null</td><td>null</td><td>null</td><td>null</td><td>null</td><td>null</td><td>null</td><td>2021-12-14</td><td>2021</td><td>12</td><td>08:13:00</td><td>8</td><td>0</td></tr></tbody></table></div>"
      ],
      "text/plain": [
       "shape: (5, 31)\n",
       "┌──────────┬──────────┬───────────┬────────────┬───┬───────┬──────────┬──────┬────────────────────┐\n",
       "│ borough  ┆ zip_code ┆ latitude  ┆ longitude  ┆ … ┆ month ┆ time     ┆ hour ┆ number_of_casualty │\n",
       "│ ---      ┆ ---      ┆ ---       ┆ ---        ┆   ┆ ---   ┆ ---      ┆ ---  ┆ ---                │\n",
       "│ str      ┆ i64      ┆ f64       ┆ f64        ┆   ┆ i8    ┆ time     ┆ i8   ┆ i64                │\n",
       "╞══════════╪══════════╪═══════════╪════════════╪═══╪═══════╪══════════╪══════╪════════════════════╡\n",
       "│ null     ┆ null     ┆ null      ┆ null       ┆ … ┆ 9     ┆ 02:39:00 ┆ 2    ┆ 2                  │\n",
       "│ null     ┆ null     ┆ null      ┆ null       ┆ … ┆ 3     ┆ 11:45:00 ┆ 11   ┆ 1                  │\n",
       "│ null     ┆ null     ┆ null      ┆ null       ┆ … ┆ 6     ┆ 06:55:00 ┆ 6    ┆ 0                  │\n",
       "│ BROOKLYN ┆ 11208    ┆ 40.667202 ┆ -73.8665   ┆ … ┆ 9     ┆ 09:35:00 ┆ 9    ┆ 0                  │\n",
       "│ BROOKLYN ┆ 11233    ┆ 40.683304 ┆ -73.917274 ┆ … ┆ 12    ┆ 08:13:00 ┆ 8    ┆ 0                  │\n",
       "└──────────┴──────────┴───────────┴────────────┴───┴───────┴──────────┴──────┴────────────────────┘"
      ]
     },
     "execution_count": 5,
     "metadata": {},
     "output_type": "execute_result"
    }
   ],
   "source": [
    "processed = pl.read_parquet(\"data/processed.parquet\")\n",
    "processed.head()"
   ]
  },
  {
   "cell_type": "code",
   "execution_count": 6,
   "id": "b96ccecc-cbe7-450f-9a18-6605c79bdd45",
   "metadata": {},
   "outputs": [],
   "source": [
    "# processed = processed.with_columns(pl.sum_horizontal(\"number_of_persons_injured\",\"number_of_persons_killed\").alias(\"number_of_casualty\"))"
   ]
  },
  {
   "cell_type": "code",
   "execution_count": 7,
   "id": "f6cd1ca3-412e-4e9c-85b3-ce2993895cd3",
   "metadata": {},
   "outputs": [],
   "source": [
    "# processed.write_parquet(\"data/processed.parquet\", use_pyarrow=True)"
   ]
  },
  {
   "cell_type": "code",
   "execution_count": 8,
   "id": "dfeb83c8-924d-4a68-b30d-7f7556af00b0",
   "metadata": {},
   "outputs": [],
   "source": [
    "persist_data_bitmask(data=processed, by=[\"borough\", \"date\"], on=[\"number_of_persons_injured\", \"number_of_persons_killed\", \"number_of_casualty\"])"
   ]
  },
  {
   "cell_type": "code",
   "execution_count": 9,
   "id": "5dae0f4f-1400-4c98-8ec5-2308a85cbc88",
   "metadata": {},
   "outputs": [],
   "source": [
    "persist_data_bitmask(data=processed, by=[\"borough\", \"year\", \"month\", \"hour\"], on=[\"number_of_persons_injured\", \"number_of_persons_killed\", \"number_of_casualty\"])"
   ]
  },
  {
   "cell_type": "code",
   "execution_count": null,
   "id": "6fa8176a-4b08-4b94-bc83-5a0ee6b0610f",
   "metadata": {},
   "outputs": [],
   "source": []
  }
 ],
 "metadata": {
  "kernelspec": {
   "display_name": "Python 3 (ipykernel)",
   "language": "python",
   "name": "python3"
  },
  "language_info": {
   "codemirror_mode": {
    "name": "ipython",
    "version": 3
   },
   "file_extension": ".py",
   "mimetype": "text/x-python",
   "name": "python",
   "nbconvert_exporter": "python",
   "pygments_lexer": "ipython3",
   "version": "3.12.4"
  }
 },
 "nbformat": 4,
 "nbformat_minor": 5
}
