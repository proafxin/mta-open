{
 "cells": [
  {
   "cell_type": "code",
   "execution_count": 1,
   "id": "a2588c0a-5acf-4c3c-8697-3c8ae3fea02e",
   "metadata": {},
   "outputs": [],
   "source": [
    "import polars as pl"
   ]
  },
  {
   "cell_type": "code",
   "execution_count": 2,
   "id": "0323ab50-c1d6-45b0-9d31-d4ff63faa973",
   "metadata": {},
   "outputs": [],
   "source": [
    "df = pl.read_parquet(\"data/clean_map.parquet\")"
   ]
  },
  {
   "cell_type": "code",
   "execution_count": 3,
   "id": "64597a71-c40f-4694-9905-1aceb729c5c8",
   "metadata": {},
   "outputs": [
    {
     "data": {
      "text/html": [
       "<div><style>\n",
       ".dataframe > thead > tr,\n",
       ".dataframe > tbody > tr {\n",
       "  text-align: right;\n",
       "  white-space: pre-wrap;\n",
       "}\n",
       "</style>\n",
       "<small>shape: (5, 9)</small><table border=\"1\" class=\"dataframe\"><thead><tr><th>date</th><th>borough</th><th>latitude</th><th>longitude</th><th>month</th><th>year</th><th>time</th><th>hour</th><th>color</th></tr><tr><td>date</td><td>str</td><td>f64</td><td>f64</td><td>i8</td><td>i32</td><td>time</td><td>i8</td><td>str</td></tr></thead><tbody><tr><td>2021-09-11</td><td>&quot;BROOKLYN&quot;</td><td>40.667202</td><td>-73.8665</td><td>9</td><td>2021</td><td>09:35:00</td><td>9</td><td>&quot;#0044ff&quot;</td></tr><tr><td>2021-12-14</td><td>&quot;BROOKLYN&quot;</td><td>40.683304</td><td>-73.917274</td><td>12</td><td>2021</td><td>08:13:00</td><td>8</td><td>&quot;#0044ff&quot;</td></tr><tr><td>2021-12-14</td><td>&quot;BRONX&quot;</td><td>40.86816</td><td>-73.83148</td><td>12</td><td>2021</td><td>08:17:00</td><td>8</td><td>&quot;#00ff00&quot;</td></tr><tr><td>2021-12-14</td><td>&quot;BROOKLYN&quot;</td><td>40.67172</td><td>-73.8971</td><td>12</td><td>2021</td><td>21:10:00</td><td>21</td><td>&quot;#0044ff&quot;</td></tr><tr><td>2021-12-14</td><td>&quot;MANHATTAN&quot;</td><td>40.75144</td><td>-73.97397</td><td>12</td><td>2021</td><td>14:58:00</td><td>14</td><td>&quot;#2ca02c&quot;</td></tr></tbody></table></div>"
      ],
      "text/plain": [
       "shape: (5, 9)\n",
       "┌────────────┬───────────┬───────────┬────────────┬───┬──────┬──────────┬──────┬─────────┐\n",
       "│ date       ┆ borough   ┆ latitude  ┆ longitude  ┆ … ┆ year ┆ time     ┆ hour ┆ color   │\n",
       "│ ---        ┆ ---       ┆ ---       ┆ ---        ┆   ┆ ---  ┆ ---      ┆ ---  ┆ ---     │\n",
       "│ date       ┆ str       ┆ f64       ┆ f64        ┆   ┆ i32  ┆ time     ┆ i8   ┆ str     │\n",
       "╞════════════╪═══════════╪═══════════╪════════════╪═══╪══════╪══════════╪══════╪═════════╡\n",
       "│ 2021-09-11 ┆ BROOKLYN  ┆ 40.667202 ┆ -73.8665   ┆ … ┆ 2021 ┆ 09:35:00 ┆ 9    ┆ #0044ff │\n",
       "│ 2021-12-14 ┆ BROOKLYN  ┆ 40.683304 ┆ -73.917274 ┆ … ┆ 2021 ┆ 08:13:00 ┆ 8    ┆ #0044ff │\n",
       "│ 2021-12-14 ┆ BRONX     ┆ 40.86816  ┆ -73.83148  ┆ … ┆ 2021 ┆ 08:17:00 ┆ 8    ┆ #00ff00 │\n",
       "│ 2021-12-14 ┆ BROOKLYN  ┆ 40.67172  ┆ -73.8971   ┆ … ┆ 2021 ┆ 21:10:00 ┆ 21   ┆ #0044ff │\n",
       "│ 2021-12-14 ┆ MANHATTAN ┆ 40.75144  ┆ -73.97397  ┆ … ┆ 2021 ┆ 14:58:00 ┆ 14   ┆ #2ca02c │\n",
       "└────────────┴───────────┴───────────┴────────────┴───┴──────┴──────────┴──────┴─────────┘"
      ]
     },
     "execution_count": 3,
     "metadata": {},
     "output_type": "execute_result"
    }
   ],
   "source": [
    "df.head()"
   ]
  },
  {
   "cell_type": "code",
   "execution_count": 5,
   "id": "6e4ccb46-1a40-469e-9b42-7d75e4cf8980",
   "metadata": {},
   "outputs": [
    {
     "data": {
      "text/plain": [
       "['STATEN ISLAND', 'QUEENS', 'BROOKLYN', 'BRONX', 'MANHATTAN']"
      ]
     },
     "execution_count": 5,
     "metadata": {},
     "output_type": "execute_result"
    }
   ],
   "source": [
    "boroughs = df['borough'].drop_nulls().unique().to_list()\n",
    "boroughs"
   ]
  },
  {
   "cell_type": "code",
   "execution_count": 6,
   "id": "050498dd-1692-41f3-bee7-10678e4263b2",
   "metadata": {},
   "outputs": [
    {
     "name": "stdout",
     "output_type": "stream",
     "text": [
      "shape: (5, 9)\n",
      "┌────────────┬───────────────┬───────────┬───────────┬───┬──────┬──────────┬──────┬─────────┐\n",
      "│ date       ┆ borough       ┆ latitude  ┆ longitude ┆ … ┆ year ┆ time     ┆ hour ┆ color   │\n",
      "│ ---        ┆ ---           ┆ ---       ┆ ---       ┆   ┆ ---  ┆ ---      ┆ ---  ┆ ---     │\n",
      "│ date       ┆ str           ┆ f64       ┆ f64       ┆   ┆ i32  ┆ time     ┆ i8   ┆ str     │\n",
      "╞════════════╪═══════════════╪═══════════╪═══════════╪═══╪══════╪══════════╪══════╪═════════╡\n",
      "│ 2021-12-13 ┆ STATEN ISLAND ┆ 40.63165  ┆ -74.08762 ┆ … ┆ 2021 ┆ 17:40:00 ┆ 17   ┆ #ffaa00 │\n",
      "│ 2021-12-08 ┆ STATEN ISLAND ┆ 40.62121  ┆ -74.12385 ┆ … ┆ 2021 ┆ 22:37:00 ┆ 22   ┆ #ffaa00 │\n",
      "│ 2022-03-26 ┆ STATEN ISLAND ┆ 40.637833 ┆ -74.08193 ┆ … ┆ 2022 ┆ 14:00:00 ┆ 14   ┆ #ffaa00 │\n",
      "│ 2022-03-26 ┆ STATEN ISLAND ┆ 40.596733 ┆ -74.07045 ┆ … ┆ 2022 ┆ 14:30:00 ┆ 14   ┆ #ffaa00 │\n",
      "│ 2022-03-26 ┆ STATEN ISLAND ┆ 40.609768 ┆ -74.06969 ┆ … ┆ 2022 ┆ 13:20:00 ┆ 13   ┆ #ffaa00 │\n",
      "└────────────┴───────────────┴───────────┴───────────┴───┴──────┴──────────┴──────┴─────────┘\n",
      "shape: (5, 9)\n",
      "┌────────────┬─────────┬───────────┬───────────┬───┬──────┬──────────┬──────┬─────────┐\n",
      "│ date       ┆ borough ┆ latitude  ┆ longitude ┆ … ┆ year ┆ time     ┆ hour ┆ color   │\n",
      "│ ---        ┆ ---     ┆ ---       ┆ ---       ┆   ┆ ---  ┆ ---      ┆ ---  ┆ ---     │\n",
      "│ date       ┆ str     ┆ f64       ┆ f64       ┆   ┆ i32  ┆ time     ┆ i8   ┆ str     │\n",
      "╞════════════╪═════════╪═══════════╪═══════════╪═══╪══════╪══════════╪══════╪═════════╡\n",
      "│ 2021-12-14 ┆ QUEENS  ┆ 40.675884 ┆ -73.75577 ┆ … ┆ 2021 ┆ 16:50:00 ┆ 16   ┆ #ff7f0e │\n",
      "│ 2021-12-14 ┆ QUEENS  ┆ 40.66684  ┆ -73.78941 ┆ … ┆ 2021 ┆ 23:10:00 ┆ 23   ┆ #ff7f0e │\n",
      "│ 2021-12-13 ┆ QUEENS  ┆ 40.75373  ┆ -73.88505 ┆ … ┆ 2021 ┆ 06:30:00 ┆ 6    ┆ #ff7f0e │\n",
      "│ 2021-12-12 ┆ QUEENS  ┆ 40.70447  ┆ -73.90148 ┆ … ┆ 2021 ┆ 09:00:00 ┆ 9    ┆ #ff7f0e │\n",
      "│ 2022-04-24 ┆ QUEENS  ┆ 40.69261  ┆ -73.81143 ┆ … ┆ 2022 ┆ 20:13:00 ┆ 20   ┆ #ff7f0e │\n",
      "└────────────┴─────────┴───────────┴───────────┴───┴──────┴──────────┴──────┴─────────┘\n",
      "shape: (5, 9)\n",
      "┌────────────┬──────────┬───────────┬────────────┬───┬──────┬──────────┬──────┬─────────┐\n",
      "│ date       ┆ borough  ┆ latitude  ┆ longitude  ┆ … ┆ year ┆ time     ┆ hour ┆ color   │\n",
      "│ ---        ┆ ---      ┆ ---       ┆ ---        ┆   ┆ ---  ┆ ---      ┆ ---  ┆ ---     │\n",
      "│ date       ┆ str      ┆ f64       ┆ f64        ┆   ┆ i32  ┆ time     ┆ i8   ┆ str     │\n",
      "╞════════════╪══════════╪═══════════╪════════════╪═══╪══════╪══════════╪══════╪═════════╡\n",
      "│ 2021-09-11 ┆ BROOKLYN ┆ 40.667202 ┆ -73.8665   ┆ … ┆ 2021 ┆ 09:35:00 ┆ 9    ┆ #0044ff │\n",
      "│ 2021-12-14 ┆ BROOKLYN ┆ 40.683304 ┆ -73.917274 ┆ … ┆ 2021 ┆ 08:13:00 ┆ 8    ┆ #0044ff │\n",
      "│ 2021-12-14 ┆ BROOKLYN ┆ 40.67172  ┆ -73.8971   ┆ … ┆ 2021 ┆ 21:10:00 ┆ 21   ┆ #0044ff │\n",
      "│ 2021-12-14 ┆ BROOKLYN ┆ 40.68158  ┆ -73.97463  ┆ … ┆ 2021 ┆ 17:58:00 ┆ 17   ┆ #0044ff │\n",
      "│ 2021-12-14 ┆ BROOKLYN ┆ 40.65068  ┆ -73.95881  ┆ … ┆ 2021 ┆ 20:03:00 ┆ 20   ┆ #0044ff │\n",
      "└────────────┴──────────┴───────────┴────────────┴───┴──────┴──────────┴──────┴─────────┘\n",
      "shape: (5, 9)\n",
      "┌────────────┬─────────┬───────────┬────────────┬───┬──────┬──────────┬──────┬─────────┐\n",
      "│ date       ┆ borough ┆ latitude  ┆ longitude  ┆ … ┆ year ┆ time     ┆ hour ┆ color   │\n",
      "│ ---        ┆ ---     ┆ ---       ┆ ---        ┆   ┆ ---  ┆ ---      ┆ ---  ┆ ---     │\n",
      "│ date       ┆ str     ┆ f64       ┆ f64        ┆   ┆ i32  ┆ time     ┆ i8   ┆ str     │\n",
      "╞════════════╪═════════╪═══════════╪════════════╪═══╪══════╪══════════╪══════╪═════════╡\n",
      "│ 2021-12-14 ┆ BRONX   ┆ 40.86816  ┆ -73.83148  ┆ … ┆ 2021 ┆ 08:17:00 ┆ 8    ┆ #00ff00 │\n",
      "│ 2021-12-11 ┆ BRONX   ┆ 40.87262  ┆ -73.904686 ┆ … ┆ 2021 ┆ 19:43:00 ┆ 19   ┆ #00ff00 │\n",
      "│ 2021-12-14 ┆ BRONX   ┆ 40.81813  ┆ -73.910126 ┆ … ┆ 2021 ┆ 22:49:00 ┆ 22   ┆ #00ff00 │\n",
      "│ 2022-04-24 ┆ BRONX   ┆ 40.843906 ┆ -73.92413  ┆ … ┆ 2022 ┆ 21:40:00 ┆ 21   ┆ #00ff00 │\n",
      "│ 2022-04-24 ┆ BRONX   ┆ 40.89481  ┆ -73.86183  ┆ … ┆ 2022 ┆ 17:45:00 ┆ 17   ┆ #00ff00 │\n",
      "└────────────┴─────────┴───────────┴────────────┴───┴──────┴──────────┴──────┴─────────┘\n",
      "shape: (5, 9)\n",
      "┌────────────┬───────────┬───────────┬────────────┬───┬──────┬──────────┬──────┬─────────┐\n",
      "│ date       ┆ borough   ┆ latitude  ┆ longitude  ┆ … ┆ year ┆ time     ┆ hour ┆ color   │\n",
      "│ ---        ┆ ---       ┆ ---       ┆ ---        ┆   ┆ ---  ┆ ---      ┆ ---  ┆ ---     │\n",
      "│ date       ┆ str       ┆ f64       ┆ f64        ┆   ┆ i32  ┆ time     ┆ i8   ┆ str     │\n",
      "╞════════════╪═══════════╪═══════════╪════════════╪═══╪══════╪══════════╪══════╪═════════╡\n",
      "│ 2021-12-14 ┆ MANHATTAN ┆ 40.75144  ┆ -73.97397  ┆ … ┆ 2021 ┆ 14:58:00 ┆ 14   ┆ #2ca02c │\n",
      "│ 2021-12-11 ┆ MANHATTAN ┆ 40.748917 ┆ -73.993546 ┆ … ┆ 2021 ┆ 04:45:00 ┆ 4    ┆ #2ca02c │\n",
      "│ 2022-04-24 ┆ MANHATTAN ┆ 40.767242 ┆ -73.986206 ┆ … ┆ 2022 ┆ 15:35:00 ┆ 15   ┆ #2ca02c │\n",
      "│ 2022-04-07 ┆ MANHATTAN ┆ 40.748158 ┆ -73.97033  ┆ … ┆ 2022 ┆ 14:14:00 ┆ 14   ┆ #2ca02c │\n",
      "│ 2021-12-08 ┆ MANHATTAN ┆ 40.776237 ┆ -73.943825 ┆ … ┆ 2021 ┆ 16:20:00 ┆ 16   ┆ #2ca02c │\n",
      "└────────────┴───────────┴───────────┴────────────┴───┴──────┴──────────┴──────┴─────────┘\n"
     ]
    }
   ],
   "source": [
    "n = len(boroughs)\n",
    "for i in range(1, (1 << n)):\n",
    "    for j in range(n):"
   ]
  },
  {
   "cell_type": "code",
   "execution_count": 7,
   "id": "8c298336-2a83-401a-97ae-b325288f3260",
   "metadata": {},
   "outputs": [
    {
     "data": {
      "text/html": [
       "<div><style>\n",
       ".dataframe > thead > tr,\n",
       ".dataframe > tbody > tr {\n",
       "  text-align: right;\n",
       "  white-space: pre-wrap;\n",
       "}\n",
       "</style>\n",
       "<small>shape: (4_434,)</small><table border=\"1\" class=\"dataframe\"><thead><tr><th>date</th></tr><tr><td>u32</td></tr></thead><tbody><tr><td>217</td></tr><tr><td>218</td></tr><tr><td>190</td></tr><tr><td>193</td></tr><tr><td>169</td></tr><tr><td>&hellip;</td></tr><tr><td>1</td></tr><tr><td>1</td></tr><tr><td>2</td></tr><tr><td>1</td></tr><tr><td>1</td></tr></tbody></table></div>"
      ],
      "text/plain": [
       "shape: (4_434,)\n",
       "Series: 'date' [u32]\n",
       "[\n",
       "\t217\n",
       "\t218\n",
       "\t190\n",
       "\t193\n",
       "\t169\n",
       "\t…\n",
       "\t1\n",
       "\t1\n",
       "\t2\n",
       "\t1\n",
       "\t1\n",
       "]"
      ]
     },
     "execution_count": 7,
     "metadata": {},
     "output_type": "execute_result"
    }
   ],
   "source": []
  },
  {
   "cell_type": "code",
   "execution_count": null,
   "id": "18bab9a4-c794-4797-8b6d-b0935b87ff37",
   "metadata": {},
   "outputs": [],
   "source": []
  }
 ],
 "metadata": {
  "kernelspec": {
   "display_name": "Python 3 (ipykernel)",
   "language": "python",
   "name": "python3"
  },
  "language_info": {
   "codemirror_mode": {
    "name": "ipython",
    "version": 3
   },
   "file_extension": ".py",
   "mimetype": "text/x-python",
   "name": "python",
   "nbconvert_exporter": "python",
   "pygments_lexer": "ipython3",
   "version": "3.12.4"
  }
 },
 "nbformat": 4,
 "nbformat_minor": 5
}
