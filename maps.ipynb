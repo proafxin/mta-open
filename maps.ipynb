{
 "cells": [
  {
   "cell_type": "code",
   "execution_count": 1,
   "id": "a2588c0a-5acf-4c3c-8697-3c8ae3fea02e",
   "metadata": {},
   "outputs": [],
   "source": [
    "import polars as pl\n",
    "\n",
    "from common import form_mapfilename"
   ]
  },
  {
   "cell_type": "code",
   "execution_count": 2,
   "id": "0323ab50-c1d6-45b0-9d31-d4ff63faa973",
   "metadata": {},
   "outputs": [],
   "source": [
    "df = pl.read_parquet(\"data/clean_map.parquet\")"
   ]
  },
  {
   "cell_type": "code",
   "execution_count": 3,
   "id": "64597a71-c40f-4694-9905-1aceb729c5c8",
   "metadata": {},
   "outputs": [
    {
     "data": {
      "text/html": [
       "<div><style>\n",
       ".dataframe > thead > tr,\n",
       ".dataframe > tbody > tr {\n",
       "  text-align: right;\n",
       "  white-space: pre-wrap;\n",
       "}\n",
       "</style>\n",
       "<small>shape: (5, 14)</small><table border=\"1\" class=\"dataframe\"><thead><tr><th>date</th><th>borough</th><th>latitude</th><th>longitude</th><th>month</th><th>year</th><th>time</th><th>hour</th><th>coordinate</th><th>number_of_persons_injured</th><th>number_of_persons_killed</th><th>number_of_casualty</th><th>distance</th><th>code</th></tr><tr><td>date</td><td>str</td><td>f64</td><td>f64</td><td>i8</td><td>i32</td><td>time</td><td>i8</td><td>list[f64]</td><td>i64</td><td>i64</td><td>i64</td><td>f64</td><td>i8</td></tr></thead><tbody><tr><td>2021-09-11</td><td>&quot;BROOKLYN&quot;</td><td>40.667202</td><td>-73.8665</td><td>9</td><td>2021</td><td>09:35:00</td><td>9</td><td>[40.667202, -73.8665]</td><td>0</td><td>0</td><td>0</td><td>12.832897</td><td>3</td></tr><tr><td>2021-12-14</td><td>&quot;BROOKLYN&quot;</td><td>40.683304</td><td>-73.917274</td><td>12</td><td>2021</td><td>08:13:00</td><td>8</td><td>[40.683304, -73.917274]</td><td>0</td><td>0</td><td>0</td><td>8.183083</td><td>3</td></tr><tr><td>2021-12-14</td><td>&quot;BRONX&quot;</td><td>40.86816</td><td>-73.83148</td><td>12</td><td>2021</td><td>08:17:00</td><td>8</td><td>[40.86816, -73.83148]</td><td>2</td><td>0</td><td>2</td><td>22.685206</td><td>2</td></tr><tr><td>2021-12-14</td><td>&quot;BROOKLYN&quot;</td><td>40.67172</td><td>-73.8971</td><td>12</td><td>2021</td><td>21:10:00</td><td>21</td><td>[40.67172, -73.8971]</td><td>0</td><td>0</td><td>0</td><td>10.273211</td><td>3</td></tr><tr><td>2021-12-14</td><td>&quot;MANHATTAN&quot;</td><td>40.75144</td><td>-73.97397</td><td>12</td><td>2021</td><td>14:58:00</td><td>14</td><td>[40.75144, -73.97397]</td><td>0</td><td>0</td><td>0</td><td>5.07277</td><td>1</td></tr></tbody></table></div>"
      ],
      "text/plain": [
       "shape: (5, 14)\n",
       "┌────────────┬───────────┬───────────┬────────────┬───┬────────────┬────────────┬───────────┬──────┐\n",
       "│ date       ┆ borough   ┆ latitude  ┆ longitude  ┆ … ┆ number_of_ ┆ number_of_ ┆ distance  ┆ code │\n",
       "│ ---        ┆ ---       ┆ ---       ┆ ---        ┆   ┆ persons_ki ┆ casualty   ┆ ---       ┆ ---  │\n",
       "│ date       ┆ str       ┆ f64       ┆ f64        ┆   ┆ lled       ┆ ---        ┆ f64       ┆ i8   │\n",
       "│            ┆           ┆           ┆            ┆   ┆ ---        ┆ i64        ┆           ┆      │\n",
       "│            ┆           ┆           ┆            ┆   ┆ i64        ┆            ┆           ┆      │\n",
       "╞════════════╪═══════════╪═══════════╪════════════╪═══╪════════════╪════════════╪═══════════╪══════╡\n",
       "│ 2021-09-11 ┆ BROOKLYN  ┆ 40.667202 ┆ -73.8665   ┆ … ┆ 0          ┆ 0          ┆ 12.832897 ┆ 3    │\n",
       "│ 2021-12-14 ┆ BROOKLYN  ┆ 40.683304 ┆ -73.917274 ┆ … ┆ 0          ┆ 0          ┆ 8.183083  ┆ 3    │\n",
       "│ 2021-12-14 ┆ BRONX     ┆ 40.86816  ┆ -73.83148  ┆ … ┆ 0          ┆ 2          ┆ 22.685206 ┆ 2    │\n",
       "│ 2021-12-14 ┆ BROOKLYN  ┆ 40.67172  ┆ -73.8971   ┆ … ┆ 0          ┆ 0          ┆ 10.273211 ┆ 3    │\n",
       "│ 2021-12-14 ┆ MANHATTAN ┆ 40.75144  ┆ -73.97397  ┆ … ┆ 0          ┆ 0          ┆ 5.07277   ┆ 1    │\n",
       "└────────────┴───────────┴───────────┴────────────┴───┴────────────┴────────────┴───────────┴──────┘"
      ]
     },
     "execution_count": 3,
     "metadata": {},
     "output_type": "execute_result"
    }
   ],
   "source": [
    "df.head()"
   ]
  },
  {
   "cell_type": "code",
   "execution_count": 4,
   "id": "6e4ccb46-1a40-469e-9b42-7d75e4cf8980",
   "metadata": {},
   "outputs": [
    {
     "data": {
      "text/plain": [
       "['MANHATTAN', 'BROOKLYN', 'STATEN ISLAND', 'BRONX', 'QUEENS']"
      ]
     },
     "execution_count": 4,
     "metadata": {},
     "output_type": "execute_result"
    }
   ],
   "source": [
    "boroughs = df['borough'].drop_nulls().unique().to_list()\n",
    "boroughs"
   ]
  },
  {
   "cell_type": "code",
   "execution_count": 5,
   "id": "050498dd-1692-41f3-bee7-10678e4263b2",
   "metadata": {},
   "outputs": [
    {
     "name": "stdout",
     "output_type": "stream",
     "text": [
      "shape: (5, 14)\n",
      "┌────────────┬───────────┬───────────┬────────────┬───┬─────────────┬────────────┬──────────┬──────┐\n",
      "│ date       ┆ borough   ┆ latitude  ┆ longitude  ┆ … ┆ number_of_p ┆ number_of_ ┆ distance ┆ code │\n",
      "│ ---        ┆ ---       ┆ ---       ┆ ---        ┆   ┆ ersons_kill ┆ casualty   ┆ ---      ┆ ---  │\n",
      "│ date       ┆ str       ┆ f64       ┆ f64        ┆   ┆ ed          ┆ ---        ┆ f64      ┆ i8   │\n",
      "│            ┆           ┆           ┆            ┆   ┆ ---         ┆ i64        ┆          ┆      │\n",
      "│            ┆           ┆           ┆            ┆   ┆ i64         ┆            ┆          ┆      │\n",
      "╞════════════╪═══════════╪═══════════╪════════════╪═══╪═════════════╪════════════╪══════════╪══════╡\n",
      "│ 2021-12-14 ┆ MANHATTAN ┆ 40.75144  ┆ -73.97397  ┆ … ┆ 0           ┆ 0          ┆ 5.07277  ┆ 1    │\n",
      "│ 2021-12-11 ┆ MANHATTAN ┆ 40.748917 ┆ -73.993546 ┆ … ┆ 0           ┆ 0          ┆ 4.146437 ┆ 1    │\n",
      "│ 2022-04-24 ┆ MANHATTAN ┆ 40.767242 ┆ -73.986206 ┆ … ┆ 0           ┆ 1          ┆ 6.27264  ┆ 1    │\n",
      "│ 2022-04-07 ┆ MANHATTAN ┆ 40.748158 ┆ -73.97033  ┆ … ┆ 0           ┆ 0          ┆ 4.949447 ┆ 1    │\n",
      "│ 2021-12-08 ┆ MANHATTAN ┆ 40.776237 ┆ -73.943825 ┆ … ┆ 0           ┆ 0          ┆ 8.786479 ┆ 1    │\n",
      "└────────────┴───────────┴───────────┴────────────┴───┴─────────────┴────────────┴──────────┴──────┘\n",
      "shape: (5, 14)\n",
      "┌────────────┬──────────┬───────────┬────────────┬───┬─────────────┬────────────┬───────────┬──────┐\n",
      "│ date       ┆ borough  ┆ latitude  ┆ longitude  ┆ … ┆ number_of_p ┆ number_of_ ┆ distance  ┆ code │\n",
      "│ ---        ┆ ---      ┆ ---       ┆ ---        ┆   ┆ ersons_kill ┆ casualty   ┆ ---       ┆ ---  │\n",
      "│ date       ┆ str      ┆ f64       ┆ f64        ┆   ┆ ed          ┆ ---        ┆ f64       ┆ i8   │\n",
      "│            ┆          ┆           ┆            ┆   ┆ ---         ┆ i64        ┆           ┆      │\n",
      "│            ┆          ┆           ┆            ┆   ┆ i64         ┆            ┆           ┆      │\n",
      "╞════════════╪══════════╪═══════════╪════════════╪═══╪═════════════╪════════════╪═══════════╪══════╡\n",
      "│ 2021-09-11 ┆ BROOKLYN ┆ 40.667202 ┆ -73.8665   ┆ … ┆ 0           ┆ 0          ┆ 12.832897 ┆ 3    │\n",
      "│ 2021-12-14 ┆ BROOKLYN ┆ 40.683304 ┆ -73.917274 ┆ … ┆ 0           ┆ 0          ┆ 8.183083  ┆ 3    │\n",
      "│ 2021-12-14 ┆ BROOKLYN ┆ 40.67172  ┆ -73.8971   ┆ … ┆ 0           ┆ 0          ┆ 10.273211 ┆ 3    │\n",
      "│ 2021-12-14 ┆ BROOKLYN ┆ 40.68158  ┆ -73.97463  ┆ … ┆ 0           ┆ 0          ┆ 4.364546  ┆ 3    │\n",
      "│ 2021-12-14 ┆ BROOKLYN ┆ 40.65068  ┆ -73.95881  ┆ … ┆ 0           ┆ 4          ┆ 7.968781  ┆ 3    │\n",
      "└────────────┴──────────┴───────────┴────────────┴───┴─────────────┴────────────┴───────────┴──────┘\n",
      "shape: (5, 14)\n",
      "┌────────────┬─────────┬───────────┬───────────┬───┬──────────────┬─────────────┬───────────┬──────┐\n",
      "│ date       ┆ borough ┆ latitude  ┆ longitude ┆ … ┆ number_of_pe ┆ number_of_c ┆ distance  ┆ code │\n",
      "│ ---        ┆ ---     ┆ ---       ┆ ---       ┆   ┆ rsons_killed ┆ asualty     ┆ ---       ┆ ---  │\n",
      "│ date       ┆ str     ┆ f64       ┆ f64       ┆   ┆ ---          ┆ ---         ┆ f64       ┆ i8   │\n",
      "│            ┆         ┆           ┆           ┆   ┆ i64          ┆ i64         ┆           ┆      │\n",
      "╞════════════╪═════════╪═══════════╪═══════════╪═══╪══════════════╪═════════════╪═══════════╪══════╡\n",
      "│ 2021-12-13 ┆ STATEN  ┆ 40.63165  ┆ -74.08762 ┆ … ┆ 0            ┆ 1           ┆ 11.350391 ┆ 5    │\n",
      "│            ┆ ISLAND  ┆           ┆           ┆   ┆              ┆             ┆           ┆      │\n",
      "│ 2021-12-08 ┆ STATEN  ┆ 40.62121  ┆ -74.12385 ┆ … ┆ 0            ┆ 0           ┆ 14.238975 ┆ 5    │\n",
      "│            ┆ ISLAND  ┆           ┆           ┆   ┆              ┆             ┆           ┆      │\n",
      "│ 2022-03-26 ┆ STATEN  ┆ 40.637833 ┆ -74.08193 ┆ … ┆ 0            ┆ 0           ┆ 10.512646 ┆ 5    │\n",
      "│            ┆ ISLAND  ┆           ┆           ┆   ┆              ┆             ┆           ┆      │\n",
      "│ 2022-03-26 ┆ STATEN  ┆ 40.596733 ┆ -74.07045 ┆ … ┆ 0            ┆ 0           ┆ 13.994086 ┆ 5    │\n",
      "│            ┆ ISLAND  ┆           ┆           ┆   ┆              ┆             ┆           ┆      │\n",
      "│ 2022-03-26 ┆ STATEN  ┆ 40.609768 ┆ -74.06969 ┆ … ┆ 0            ┆ 1           ┆ 12.645725 ┆ 5    │\n",
      "│            ┆ ISLAND  ┆           ┆           ┆   ┆              ┆             ┆           ┆      │\n",
      "└────────────┴─────────┴───────────┴───────────┴───┴──────────────┴─────────────┴───────────┴──────┘\n",
      "shape: (5, 14)\n",
      "┌────────────┬─────────┬───────────┬────────────┬───┬─────────────┬─────────────┬───────────┬──────┐\n",
      "│ date       ┆ borough ┆ latitude  ┆ longitude  ┆ … ┆ number_of_p ┆ number_of_c ┆ distance  ┆ code │\n",
      "│ ---        ┆ ---     ┆ ---       ┆ ---        ┆   ┆ ersons_kill ┆ asualty     ┆ ---       ┆ ---  │\n",
      "│ date       ┆ str     ┆ f64       ┆ f64        ┆   ┆ ed          ┆ ---         ┆ f64       ┆ i8   │\n",
      "│            ┆         ┆           ┆            ┆   ┆ ---         ┆ i64         ┆           ┆      │\n",
      "│            ┆         ┆           ┆            ┆   ┆ i64         ┆             ┆           ┆      │\n",
      "╞════════════╪═════════╪═══════════╪════════════╪═══╪═════════════╪═════════════╪═══════════╪══════╡\n",
      "│ 2021-12-14 ┆ BRONX   ┆ 40.86816  ┆ -73.83148  ┆ … ┆ 0           ┆ 2           ┆ 22.685206 ┆ 2    │\n",
      "│ 2021-12-11 ┆ BRONX   ┆ 40.87262  ┆ -73.904686 ┆ … ┆ 0           ┆ 1           ┆ 19.700407 ┆ 2    │\n",
      "│ 2021-12-14 ┆ BRONX   ┆ 40.81813  ┆ -73.910126 ┆ … ┆ 0           ┆ 0           ┆ 14.22474  ┆ 2    │\n",
      "│ 2022-04-24 ┆ BRONX   ┆ 40.843906 ┆ -73.92413  ┆ … ┆ 0           ┆ 0           ┆ 16.116346 ┆ 2    │\n",
      "│ 2022-04-24 ┆ BRONX   ┆ 40.89481  ┆ -73.86183  ┆ … ┆ 0           ┆ 0           ┆ 23.591043 ┆ 2    │\n",
      "└────────────┴─────────┴───────────┴────────────┴───┴─────────────┴─────────────┴───────────┴──────┘\n",
      "shape: (5, 14)\n",
      "┌────────────┬─────────┬───────────┬───────────┬───┬──────────────┬─────────────┬───────────┬──────┐\n",
      "│ date       ┆ borough ┆ latitude  ┆ longitude ┆ … ┆ number_of_pe ┆ number_of_c ┆ distance  ┆ code │\n",
      "│ ---        ┆ ---     ┆ ---       ┆ ---       ┆   ┆ rsons_killed ┆ asualty     ┆ ---       ┆ ---  │\n",
      "│ date       ┆ str     ┆ f64       ┆ f64       ┆   ┆ ---          ┆ ---         ┆ f64       ┆ i8   │\n",
      "│            ┆         ┆           ┆           ┆   ┆ i64          ┆ i64         ┆           ┆      │\n",
      "╞════════════╪═════════╪═══════════╪═══════════╪═══╪══════════════╪═════════════╪═══════════╪══════╡\n",
      "│ 2021-12-14 ┆ QUEENS  ┆ 40.675884 ┆ -73.75577 ┆ … ┆ 0            ┆ 0           ┆ 21.543724 ┆ 4    │\n",
      "│ 2021-12-14 ┆ QUEENS  ┆ 40.66684  ┆ -73.78941 ┆ … ┆ 0            ┆ 2           ┆ 19.006079 ┆ 4    │\n",
      "│ 2021-12-13 ┆ QUEENS  ┆ 40.75373  ┆ -73.88505 ┆ … ┆ 0            ┆ 0           ┆ 11.182461 ┆ 4    │\n",
      "│ 2021-12-12 ┆ QUEENS  ┆ 40.70447  ┆ -73.90148 ┆ … ┆ 0            ┆ 0           ┆ 8.880727  ┆ 4    │\n",
      "│ 2022-04-24 ┆ QUEENS  ┆ 40.69261  ┆ -73.81143 ┆ … ┆ 0            ┆ 0           ┆ 16.595661 ┆ 4    │\n",
      "└────────────┴─────────┴───────────┴───────────┴───┴──────────────┴─────────────┴───────────┴──────┘\n"
     ]
    }
   ],
   "source": [
    "for col in boroughs:\n",
    "    data = df.filter(pl.col(\"borough\").eq(col))\n",
    "    print(data.head())\n",
    "    data.write_parquet(form_mapfilename(cols=[col]))"
   ]
  },
  {
   "cell_type": "code",
   "execution_count": null,
   "id": "8c298336-2a83-401a-97ae-b325288f3260",
   "metadata": {},
   "outputs": [],
   "source": []
  },
  {
   "cell_type": "code",
   "execution_count": null,
   "id": "18bab9a4-c794-4797-8b6d-b0935b87ff37",
   "metadata": {},
   "outputs": [],
   "source": []
  }
 ],
 "metadata": {
  "kernelspec": {
   "display_name": "Python 3 (ipykernel)",
   "language": "python",
   "name": "python3"
  },
  "language_info": {
   "codemirror_mode": {
    "name": "ipython",
    "version": 3
   },
   "file_extension": ".py",
   "mimetype": "text/x-python",
   "name": "python",
   "nbconvert_exporter": "python",
   "pygments_lexer": "ipython3",
   "version": "3.11.2"
  }
 },
 "nbformat": 4,
 "nbformat_minor": 5
}
