{
 "cells": [
  {
   "cell_type": "code",
   "execution_count": 1,
   "id": "a2588c0a-5acf-4c3c-8697-3c8ae3fea02e",
   "metadata": {},
   "outputs": [],
   "source": [
    "import polars as pl\n",
    "\n",
    "from common import form_mapfilename"
   ]
  },
  {
   "cell_type": "code",
   "execution_count": 2,
   "id": "0323ab50-c1d6-45b0-9d31-d4ff63faa973",
   "metadata": {},
   "outputs": [],
   "source": [
    "df = pl.read_parquet(\"data/clean_map.parquet\")"
   ]
  },
  {
   "cell_type": "code",
   "execution_count": 3,
   "id": "64597a71-c40f-4694-9905-1aceb729c5c8",
   "metadata": {},
   "outputs": [
    {
     "data": {
      "text/html": [
       "<div><style>\n",
       ".dataframe > thead > tr,\n",
       ".dataframe > tbody > tr {\n",
       "  text-align: right;\n",
       "  white-space: pre-wrap;\n",
       "}\n",
       "</style>\n",
       "<small>shape: (5, 9)</small><table border=\"1\" class=\"dataframe\"><thead><tr><th>date</th><th>borough</th><th>latitude</th><th>longitude</th><th>month</th><th>year</th><th>time</th><th>hour</th><th>color</th></tr><tr><td>date</td><td>str</td><td>f64</td><td>f64</td><td>i8</td><td>i32</td><td>time</td><td>i8</td><td>str</td></tr></thead><tbody><tr><td>2021-09-11</td><td>&quot;BROOKLYN&quot;</td><td>40.667202</td><td>-73.8665</td><td>9</td><td>2021</td><td>09:35:00</td><td>9</td><td>&quot;#0044ff&quot;</td></tr><tr><td>2021-12-14</td><td>&quot;BROOKLYN&quot;</td><td>40.683304</td><td>-73.917274</td><td>12</td><td>2021</td><td>08:13:00</td><td>8</td><td>&quot;#0044ff&quot;</td></tr><tr><td>2021-12-14</td><td>&quot;BRONX&quot;</td><td>40.86816</td><td>-73.83148</td><td>12</td><td>2021</td><td>08:17:00</td><td>8</td><td>&quot;#2ca02c&quot;</td></tr><tr><td>2021-12-14</td><td>&quot;BROOKLYN&quot;</td><td>40.67172</td><td>-73.8971</td><td>12</td><td>2021</td><td>21:10:00</td><td>21</td><td>&quot;#0044ff&quot;</td></tr><tr><td>2021-12-14</td><td>&quot;MANHATTAN&quot;</td><td>40.75144</td><td>-73.97397</td><td>12</td><td>2021</td><td>14:58:00</td><td>14</td><td>&quot;#ffaa00&quot;</td></tr></tbody></table></div>"
      ],
      "text/plain": [
       "shape: (5, 9)\n",
       "┌────────────┬───────────┬───────────┬────────────┬───┬──────┬──────────┬──────┬─────────┐\n",
       "│ date       ┆ borough   ┆ latitude  ┆ longitude  ┆ … ┆ year ┆ time     ┆ hour ┆ color   │\n",
       "│ ---        ┆ ---       ┆ ---       ┆ ---        ┆   ┆ ---  ┆ ---      ┆ ---  ┆ ---     │\n",
       "│ date       ┆ str       ┆ f64       ┆ f64        ┆   ┆ i32  ┆ time     ┆ i8   ┆ str     │\n",
       "╞════════════╪═══════════╪═══════════╪════════════╪═══╪══════╪══════════╪══════╪═════════╡\n",
       "│ 2021-09-11 ┆ BROOKLYN  ┆ 40.667202 ┆ -73.8665   ┆ … ┆ 2021 ┆ 09:35:00 ┆ 9    ┆ #0044ff │\n",
       "│ 2021-12-14 ┆ BROOKLYN  ┆ 40.683304 ┆ -73.917274 ┆ … ┆ 2021 ┆ 08:13:00 ┆ 8    ┆ #0044ff │\n",
       "│ 2021-12-14 ┆ BRONX     ┆ 40.86816  ┆ -73.83148  ┆ … ┆ 2021 ┆ 08:17:00 ┆ 8    ┆ #2ca02c │\n",
       "│ 2021-12-14 ┆ BROOKLYN  ┆ 40.67172  ┆ -73.8971   ┆ … ┆ 2021 ┆ 21:10:00 ┆ 21   ┆ #0044ff │\n",
       "│ 2021-12-14 ┆ MANHATTAN ┆ 40.75144  ┆ -73.97397  ┆ … ┆ 2021 ┆ 14:58:00 ┆ 14   ┆ #ffaa00 │\n",
       "└────────────┴───────────┴───────────┴────────────┴───┴──────┴──────────┴──────┴─────────┘"
      ]
     },
     "execution_count": 3,
     "metadata": {},
     "output_type": "execute_result"
    }
   ],
   "source": [
    "df.head()"
   ]
  },
  {
   "cell_type": "code",
   "execution_count": 4,
   "id": "6e4ccb46-1a40-469e-9b42-7d75e4cf8980",
   "metadata": {},
   "outputs": [
    {
     "data": {
      "text/plain": [
       "['BROOKLYN', 'STATEN ISLAND', 'QUEENS', 'MANHATTAN', 'BRONX']"
      ]
     },
     "execution_count": 4,
     "metadata": {},
     "output_type": "execute_result"
    }
   ],
   "source": [
    "boroughs = df['borough'].drop_nulls().unique().to_list()\n",
    "boroughs"
   ]
  },
  {
   "cell_type": "code",
   "execution_count": 5,
   "id": "050498dd-1692-41f3-bee7-10678e4263b2",
   "metadata": {},
   "outputs": [],
   "source": [
    "for col in boroughs:\n",
    "    data = df.filter(pl.col(\"borough\").eq(col))\n",
    "    data = data.select([\"date\", \"borough\", \"latitude\", \"longitude\"])\n",
    "    data.write_parquet(form_mapfilename(cols=[col]))"
   ]
  },
  {
   "cell_type": "code",
   "execution_count": null,
   "id": "8c298336-2a83-401a-97ae-b325288f3260",
   "metadata": {},
   "outputs": [],
   "source": []
  },
  {
   "cell_type": "code",
   "execution_count": null,
   "id": "18bab9a4-c794-4797-8b6d-b0935b87ff37",
   "metadata": {},
   "outputs": [],
   "source": []
  }
 ],
 "metadata": {
  "kernelspec": {
   "display_name": "Python 3 (ipykernel)",
   "language": "python",
   "name": "python3"
  },
  "language_info": {
   "codemirror_mode": {
    "name": "ipython",
    "version": 3
   },
   "file_extension": ".py",
   "mimetype": "text/x-python",
   "name": "python",
   "nbconvert_exporter": "python",
   "pygments_lexer": "ipython3",
   "version": "3.12.4"
  }
 },
 "nbformat": 4,
 "nbformat_minor": 5
}
