{
 "cells": [
  {
   "cell_type": "code",
   "execution_count": 1,
   "id": "6d74daf0-d635-48be-935e-e525ee98f643",
   "metadata": {},
   "outputs": [],
   "source": [
    "import polars as pl\n",
    "import json"
   ]
  },
  {
   "cell_type": "code",
   "execution_count": 2,
   "id": "2564f68b-f50b-42aa-96ce-8532fc67b3c5",
   "metadata": {},
   "outputs": [],
   "source": [
    "data = pl.read_parquet(\"data/processed.parquet\")\n",
    "invalid = pl.read_parquet(\"data/invalid_coordinate.parquet\")"
   ]
  },
  {
   "cell_type": "code",
   "execution_count": 3,
   "id": "92239703-17eb-4a48-bbb0-ba82917a1ca2",
   "metadata": {},
   "outputs": [
    {
     "data": {
      "text/html": [
       "<div><style>\n",
       ".dataframe > thead > tr,\n",
       ".dataframe > tbody > tr {\n",
       "  text-align: right;\n",
       "  white-space: pre-wrap;\n",
       "}\n",
       "</style>\n",
       "<small>shape: (5, 31)</small><table border=\"1\" class=\"dataframe\"><thead><tr><th>borough</th><th>zip_code</th><th>latitude</th><th>longitude</th><th>on_street_name</th><th>cross_street_name</th><th>off_street_name</th><th>number_of_persons_injured</th><th>number_of_persons_killed</th><th>number_of_pedestrians_injured</th><th>number_of_pedestrians_killed</th><th>number_of_cyclist_injured</th><th>number_of_cyclist_killed</th><th>number_of_motorist_injured</th><th>number_of_motorist_killed</th><th>contributing_factor_vehicle_1</th><th>contributing_factor_vehicle_2</th><th>contributing_factor_vehicle_3</th><th>contributing_factor_vehicle_4</th><th>contributing_factor_vehicle_5</th><th>vehicle_type_code_1</th><th>vehicle_type_code_2</th><th>vehicle_type_code_3</th><th>vehicle_type_code_4</th><th>vehicle_type_code_5</th><th>date</th><th>year</th><th>month</th><th>time</th><th>hour</th><th>number_of_casualty</th></tr><tr><td>str</td><td>i64</td><td>f64</td><td>f64</td><td>str</td><td>str</td><td>str</td><td>i64</td><td>i64</td><td>i64</td><td>i64</td><td>i64</td><td>i64</td><td>i64</td><td>i64</td><td>str</td><td>str</td><td>str</td><td>str</td><td>str</td><td>str</td><td>str</td><td>str</td><td>str</td><td>str</td><td>date</td><td>i32</td><td>i8</td><td>time</td><td>i8</td><td>i64</td></tr></thead><tbody><tr><td>null</td><td>null</td><td>null</td><td>null</td><td>&quot;WHITESTONE EXPRESSWAY&quot;</td><td>&quot;20 AVENUE&quot;</td><td>null</td><td>2</td><td>0</td><td>0</td><td>0</td><td>0</td><td>0</td><td>2</td><td>0</td><td>&quot;Aggressive Driving/Road Rage&quot;</td><td>&quot;Unspecified&quot;</td><td>null</td><td>null</td><td>null</td><td>&quot;Sedan&quot;</td><td>&quot;Sedan&quot;</td><td>null</td><td>null</td><td>null</td><td>2021-09-11</td><td>2021</td><td>9</td><td>02:39:00</td><td>2</td><td>2</td></tr><tr><td>null</td><td>null</td><td>null</td><td>null</td><td>&quot;QUEENSBORO BRIDGE UPPER&quot;</td><td>null</td><td>null</td><td>1</td><td>0</td><td>0</td><td>0</td><td>0</td><td>0</td><td>1</td><td>0</td><td>&quot;Pavement Slippery&quot;</td><td>null</td><td>null</td><td>null</td><td>null</td><td>&quot;Sedan&quot;</td><td>null</td><td>null</td><td>null</td><td>null</td><td>2022-03-26</td><td>2022</td><td>3</td><td>11:45:00</td><td>11</td><td>1</td></tr><tr><td>null</td><td>null</td><td>null</td><td>null</td><td>&quot;THROGS NECK BRIDGE&quot;</td><td>null</td><td>null</td><td>0</td><td>0</td><td>0</td><td>0</td><td>0</td><td>0</td><td>0</td><td>0</td><td>&quot;Following Too Closely&quot;</td><td>&quot;Unspecified&quot;</td><td>null</td><td>null</td><td>null</td><td>&quot;Sedan&quot;</td><td>&quot;Pick-up Truck&quot;</td><td>null</td><td>null</td><td>null</td><td>2022-06-29</td><td>2022</td><td>6</td><td>06:55:00</td><td>6</td><td>0</td></tr><tr><td>&quot;BROOKLYN&quot;</td><td>11208</td><td>40.667202</td><td>-73.8665</td><td>null</td><td>null</td><td>&quot;1211      LORING AVENUE&quot;</td><td>0</td><td>0</td><td>0</td><td>0</td><td>0</td><td>0</td><td>0</td><td>0</td><td>&quot;Unspecified&quot;</td><td>null</td><td>null</td><td>null</td><td>null</td><td>&quot;Sedan&quot;</td><td>null</td><td>null</td><td>null</td><td>null</td><td>2021-09-11</td><td>2021</td><td>9</td><td>09:35:00</td><td>9</td><td>0</td></tr><tr><td>&quot;BROOKLYN&quot;</td><td>11233</td><td>40.683304</td><td>-73.917274</td><td>&quot;SARATOGA AVENUE&quot;</td><td>&quot;DECATUR STREET&quot;</td><td>null</td><td>0</td><td>0</td><td>0</td><td>0</td><td>0</td><td>0</td><td>0</td><td>0</td><td>null</td><td>null</td><td>null</td><td>null</td><td>null</td><td>null</td><td>null</td><td>null</td><td>null</td><td>null</td><td>2021-12-14</td><td>2021</td><td>12</td><td>08:13:00</td><td>8</td><td>0</td></tr></tbody></table></div>"
      ],
      "text/plain": [
       "shape: (5, 31)\n",
       "┌──────────┬──────────┬───────────┬────────────┬───┬───────┬──────────┬──────┬────────────────────┐\n",
       "│ borough  ┆ zip_code ┆ latitude  ┆ longitude  ┆ … ┆ month ┆ time     ┆ hour ┆ number_of_casualty │\n",
       "│ ---      ┆ ---      ┆ ---       ┆ ---        ┆   ┆ ---   ┆ ---      ┆ ---  ┆ ---                │\n",
       "│ str      ┆ i64      ┆ f64       ┆ f64        ┆   ┆ i8    ┆ time     ┆ i8   ┆ i64                │\n",
       "╞══════════╪══════════╪═══════════╪════════════╪═══╪═══════╪══════════╪══════╪════════════════════╡\n",
       "│ null     ┆ null     ┆ null      ┆ null       ┆ … ┆ 9     ┆ 02:39:00 ┆ 2    ┆ 2                  │\n",
       "│ null     ┆ null     ┆ null      ┆ null       ┆ … ┆ 3     ┆ 11:45:00 ┆ 11   ┆ 1                  │\n",
       "│ null     ┆ null     ┆ null      ┆ null       ┆ … ┆ 6     ┆ 06:55:00 ┆ 6    ┆ 0                  │\n",
       "│ BROOKLYN ┆ 11208    ┆ 40.667202 ┆ -73.8665   ┆ … ┆ 9     ┆ 09:35:00 ┆ 9    ┆ 0                  │\n",
       "│ BROOKLYN ┆ 11233    ┆ 40.683304 ┆ -73.917274 ┆ … ┆ 12    ┆ 08:13:00 ┆ 8    ┆ 0                  │\n",
       "└──────────┴──────────┴───────────┴────────────┴───┴───────┴──────────┴──────┴────────────────────┘"
      ]
     },
     "execution_count": 3,
     "metadata": {},
     "output_type": "execute_result"
    }
   ],
   "source": [
    "data.head()"
   ]
  },
  {
   "cell_type": "code",
   "execution_count": 4,
   "id": "e6403f17-d66f-4c6d-a9d1-386b57f8af7c",
   "metadata": {},
   "outputs": [],
   "source": [
    "marked = data.drop_nulls(subset=[\"latitude\"])\n",
    "marked = marked.drop_nulls(subset=[\"longitude\"])"
   ]
  },
  {
   "cell_type": "code",
   "execution_count": 5,
   "id": "cba81b8a-4dc4-4e12-8bd7-14e4afd1c000",
   "metadata": {},
   "outputs": [
    {
     "name": "stdout",
     "output_type": "stream",
     "text": [
      "shape: (5, 4)\n",
      "┌───────────────┬───────────────────────────┬──────────────────────────┬────────────────────┐\n",
      "│ borough       ┆ number_of_persons_injured ┆ number_of_persons_killed ┆ number_of_casualty │\n",
      "│ ---           ┆ ---                       ┆ ---                      ┆ ---                │\n",
      "│ str           ┆ i64                       ┆ i64                      ┆ i64                │\n",
      "╞═══════════════╪═══════════════════════════╪══════════════════════════╪════════════════════╡\n",
      "│ BRONX         ┆ 72466                     ┆ 291                      ┆ 72757              │\n",
      "│ BROOKLYN      ┆ 157539                    ┆ 648                      ┆ 158187             │\n",
      "│ MANHATTAN     ┆ 70563                     ┆ 351                      ┆ 70914              │\n",
      "│ QUEENS        ┆ 120793                    ┆ 545                      ┆ 121338             │\n",
      "│ STATEN ISLAND ┆ 17809                     ┆ 97                       ┆ 17906              │\n",
      "└───────────────┴───────────────────────────┴──────────────────────────┴────────────────────┘\n",
      "shape: (5, 4)\n",
      "┌──────┬───────────────────────────┬──────────────────────────┬────────────────────┐\n",
      "│ year ┆ number_of_persons_injured ┆ number_of_persons_killed ┆ number_of_casualty │\n",
      "│ ---  ┆ ---                       ┆ ---                      ┆ ---                │\n",
      "│ i32  ┆ i64                       ┆ i64                      ┆ i64                │\n",
      "╞══════╪═══════════════════════════╪══════════════════════════╪════════════════════╡\n",
      "│ 2012 ┆ 27453                     ┆ 137                      ┆ 27590              │\n",
      "│ 2013 ┆ 55128                     ┆ 297                      ┆ 55425              │\n",
      "│ 2014 ┆ 51226                     ┆ 262                      ┆ 51488              │\n",
      "│ 2015 ┆ 51358                     ┆ 243                      ┆ 51601              │\n",
      "│ 2016 ┆ 60317                     ┆ 246                      ┆ 60563              │\n",
      "└──────┴───────────────────────────┴──────────────────────────┴────────────────────┘\n"
     ]
    }
   ],
   "source": [
    "by = [\"borough\", \"year\"]\n",
    "on = [\"number_of_persons_injured\", \"number_of_persons_killed\", \"number_of_casualty\"]\n",
    "for col in by:\n",
    "    metrics = data.drop_nulls(subset=[col]).group_by(col).agg(pl.col(on).sum())\n",
    "    metrics = metrics.sort(by=col)\n",
    "    print(metrics.head())\n",
    "    metrics.write_parquet(f\"data/metrics_{col}.parquet\")"
   ]
  },
  {
   "cell_type": "code",
   "execution_count": 6,
   "id": "ef8e1af0-5730-4b36-8664-ec9a4155940a",
   "metadata": {},
   "outputs": [],
   "source": [
    "row = {\n",
    "    \"Locations marked\": marked.shape[0],\n",
    "    \"Locations unmarked\": data.shape[0] - marked.shape[0],\n",
    "    \"Valid markings\": marked.shape[0] - invalid.shape[0],\n",
    "    \"Invalid markings\": invalid.shape[0],\n",
    "    \"Total number of crashes\": data.shape[0],\n",
    "    \"Crashes with time and location\": data.select([\"date\", \"borough\", \"time\", \"latitude\", \"longitude\"]).drop_nulls().shape[0],\n",
    "    \"Total killed\": data[\"number_of_persons_killed\"].sum(),\n",
    "    \"Total injured\": data[\"number_of_persons_injured\"].sum()\n",
    "}"
   ]
  },
  {
   "cell_type": "code",
   "execution_count": 7,
   "id": "cbcef516-bb85-4c5d-a707-c492203719c6",
   "metadata": {},
   "outputs": [
    {
     "data": {
      "text/plain": [
       "{'Locations marked': 1873166,\n",
       " 'Locations unmarked': 252597,\n",
       " 'Valid markings': 1869560,\n",
       " 'Invalid markings': 3606,\n",
       " 'Total number of crashes': 2125763,\n",
       " 'Crashes with time and location': 1414687,\n",
       " 'Total killed': 3249,\n",
       " 'Total injured': 673440}"
      ]
     },
     "execution_count": 7,
     "metadata": {},
     "output_type": "execute_result"
    }
   ],
   "source": [
    "row"
   ]
  },
  {
   "cell_type": "code",
   "execution_count": 8,
   "id": "40dcfdc4-f9fd-4b2c-a77e-d3b1e6889040",
   "metadata": {},
   "outputs": [],
   "source": [
    "with open(\"data/metrics.json\", mode='w') as f:\n",
    "    json.dump(row, f)"
   ]
  },
  {
   "cell_type": "code",
   "execution_count": null,
   "id": "a2605826-73be-4d92-ab11-a69efcf20471",
   "metadata": {},
   "outputs": [],
   "source": []
  }
 ],
 "metadata": {
  "kernelspec": {
   "display_name": "Python 3 (ipykernel)",
   "language": "python",
   "name": "python3"
  },
  "language_info": {
   "codemirror_mode": {
    "name": "ipython",
    "version": 3
   },
   "file_extension": ".py",
   "mimetype": "text/x-python",
   "name": "python",
   "nbconvert_exporter": "python",
   "pygments_lexer": "ipython3",
   "version": "3.12.4"
  }
 },
 "nbformat": 4,
 "nbformat_minor": 5
}
