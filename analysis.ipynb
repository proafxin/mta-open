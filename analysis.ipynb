{
 "cells": [
  {
   "cell_type": "code",
   "execution_count": 1,
   "id": "ae27dff1-cf41-47cc-91e5-7f425f652985",
   "metadata": {},
   "outputs": [],
   "source": [
    "import polars as pl\n",
    "from cleaner import sanitize\n",
    "from geopy import distance\n",
    "import math\n",
    "import pydeck"
   ]
  },
  {
   "cell_type": "code",
   "execution_count": 2,
   "id": "591edda8-29d5-4243-843d-e131de83a707",
   "metadata": {},
   "outputs": [],
   "source": [
    "df = pl.read_parquet(\"data/processed.parquet\")"
   ]
  },
  {
   "cell_type": "code",
   "execution_count": 3,
   "id": "8223fb9a-c935-4157-9e72-2ea037ef1fa1",
   "metadata": {},
   "outputs": [
    {
     "data": {
      "text/plain": [
       "(2125763, 32)"
      ]
     },
     "execution_count": 3,
     "metadata": {},
     "output_type": "execute_result"
    }
   ],
   "source": [
    "df.shape"
   ]
  },
  {
   "cell_type": "code",
   "execution_count": 4,
   "id": "838ed908-4e9f-4585-853e-2a8e463e000e",
   "metadata": {},
   "outputs": [
    {
     "data": {
      "text/html": [
       "<div><style>\n",
       ".dataframe > thead > tr,\n",
       ".dataframe > tbody > tr {\n",
       "  text-align: right;\n",
       "  white-space: pre-wrap;\n",
       "}\n",
       "</style>\n",
       "<small>shape: (5, 32)</small><table border=\"1\" class=\"dataframe\"><thead><tr><th>borough</th><th>zip_code</th><th>latitude</th><th>longitude</th><th>on_street_name</th><th>cross_street_name</th><th>off_street_name</th><th>number_of_persons_injured</th><th>number_of_persons_killed</th><th>number_of_pedestrians_injured</th><th>number_of_pedestrians_killed</th><th>number_of_cyclist_injured</th><th>number_of_cyclist_killed</th><th>number_of_motorist_injured</th><th>number_of_motorist_killed</th><th>contributing_factor_vehicle_1</th><th>contributing_factor_vehicle_2</th><th>contributing_factor_vehicle_3</th><th>contributing_factor_vehicle_4</th><th>contributing_factor_vehicle_5</th><th>vehicle_type_code_1</th><th>vehicle_type_code_2</th><th>vehicle_type_code_3</th><th>vehicle_type_code_4</th><th>vehicle_type_code_5</th><th>date</th><th>year</th><th>month</th><th>time</th><th>hour</th><th>number_of_casualty</th><th>weekday</th></tr><tr><td>str</td><td>i64</td><td>f64</td><td>f64</td><td>str</td><td>str</td><td>str</td><td>i64</td><td>i64</td><td>i64</td><td>i64</td><td>i64</td><td>i64</td><td>i64</td><td>i64</td><td>str</td><td>str</td><td>str</td><td>str</td><td>str</td><td>str</td><td>str</td><td>str</td><td>str</td><td>str</td><td>date</td><td>i32</td><td>i8</td><td>time</td><td>i8</td><td>i64</td><td>i8</td></tr></thead><tbody><tr><td>null</td><td>null</td><td>null</td><td>null</td><td>&quot;WHITESTONE EXPRESSWAY&quot;</td><td>&quot;20 AVENUE&quot;</td><td>null</td><td>2</td><td>0</td><td>0</td><td>0</td><td>0</td><td>0</td><td>2</td><td>0</td><td>&quot;Aggressive Driving/Road Rage&quot;</td><td>&quot;Unspecified&quot;</td><td>null</td><td>null</td><td>null</td><td>&quot;Sedan&quot;</td><td>&quot;Sedan&quot;</td><td>null</td><td>null</td><td>null</td><td>2021-09-11</td><td>2021</td><td>9</td><td>02:39:00</td><td>2</td><td>2</td><td>6</td></tr><tr><td>null</td><td>null</td><td>null</td><td>null</td><td>&quot;QUEENSBORO BRIDGE UPPER&quot;</td><td>null</td><td>null</td><td>1</td><td>0</td><td>0</td><td>0</td><td>0</td><td>0</td><td>1</td><td>0</td><td>&quot;Pavement Slippery&quot;</td><td>null</td><td>null</td><td>null</td><td>null</td><td>&quot;Sedan&quot;</td><td>null</td><td>null</td><td>null</td><td>null</td><td>2022-03-26</td><td>2022</td><td>3</td><td>11:45:00</td><td>11</td><td>1</td><td>6</td></tr><tr><td>null</td><td>null</td><td>null</td><td>null</td><td>&quot;THROGS NECK BRIDGE&quot;</td><td>null</td><td>null</td><td>0</td><td>0</td><td>0</td><td>0</td><td>0</td><td>0</td><td>0</td><td>0</td><td>&quot;Following Too Closely&quot;</td><td>&quot;Unspecified&quot;</td><td>null</td><td>null</td><td>null</td><td>&quot;Sedan&quot;</td><td>&quot;Pick-up Truck&quot;</td><td>null</td><td>null</td><td>null</td><td>2022-06-29</td><td>2022</td><td>6</td><td>06:55:00</td><td>6</td><td>0</td><td>3</td></tr><tr><td>&quot;BROOKLYN&quot;</td><td>11208</td><td>40.667202</td><td>-73.8665</td><td>null</td><td>null</td><td>&quot;1211      LORING AVENUE&quot;</td><td>0</td><td>0</td><td>0</td><td>0</td><td>0</td><td>0</td><td>0</td><td>0</td><td>&quot;Unspecified&quot;</td><td>null</td><td>null</td><td>null</td><td>null</td><td>&quot;Sedan&quot;</td><td>null</td><td>null</td><td>null</td><td>null</td><td>2021-09-11</td><td>2021</td><td>9</td><td>09:35:00</td><td>9</td><td>0</td><td>6</td></tr><tr><td>&quot;BROOKLYN&quot;</td><td>11233</td><td>40.683304</td><td>-73.917274</td><td>&quot;SARATOGA AVENUE&quot;</td><td>&quot;DECATUR STREET&quot;</td><td>null</td><td>0</td><td>0</td><td>0</td><td>0</td><td>0</td><td>0</td><td>0</td><td>0</td><td>null</td><td>null</td><td>null</td><td>null</td><td>null</td><td>null</td><td>null</td><td>null</td><td>null</td><td>null</td><td>2021-12-14</td><td>2021</td><td>12</td><td>08:13:00</td><td>8</td><td>0</td><td>2</td></tr></tbody></table></div>"
      ],
      "text/plain": [
       "shape: (5, 32)\n",
       "┌──────────┬──────────┬───────────┬────────────┬───┬──────────┬──────┬───────────────────┬─────────┐\n",
       "│ borough  ┆ zip_code ┆ latitude  ┆ longitude  ┆ … ┆ time     ┆ hour ┆ number_of_casualt ┆ weekday │\n",
       "│ ---      ┆ ---      ┆ ---       ┆ ---        ┆   ┆ ---      ┆ ---  ┆ y                 ┆ ---     │\n",
       "│ str      ┆ i64      ┆ f64       ┆ f64        ┆   ┆ time     ┆ i8   ┆ ---               ┆ i8      │\n",
       "│          ┆          ┆           ┆            ┆   ┆          ┆      ┆ i64               ┆         │\n",
       "╞══════════╪══════════╪═══════════╪════════════╪═══╪══════════╪══════╪═══════════════════╪═════════╡\n",
       "│ null     ┆ null     ┆ null      ┆ null       ┆ … ┆ 02:39:00 ┆ 2    ┆ 2                 ┆ 6       │\n",
       "│ null     ┆ null     ┆ null      ┆ null       ┆ … ┆ 11:45:00 ┆ 11   ┆ 1                 ┆ 6       │\n",
       "│ null     ┆ null     ┆ null      ┆ null       ┆ … ┆ 06:55:00 ┆ 6    ┆ 0                 ┆ 3       │\n",
       "│ BROOKLYN ┆ 11208    ┆ 40.667202 ┆ -73.8665   ┆ … ┆ 09:35:00 ┆ 9    ┆ 0                 ┆ 6       │\n",
       "│ BROOKLYN ┆ 11233    ┆ 40.683304 ┆ -73.917274 ┆ … ┆ 08:13:00 ┆ 8    ┆ 0                 ┆ 2       │\n",
       "└──────────┴──────────┴───────────┴────────────┴───┴──────────┴──────┴───────────────────┴─────────┘"
      ]
     },
     "execution_count": 4,
     "metadata": {},
     "output_type": "execute_result"
    }
   ],
   "source": [
    "df.head()"
   ]
  },
  {
   "cell_type": "code",
   "execution_count": 5,
   "id": "54c1d147-6b77-4afc-a8f2-f5f3324ec905",
   "metadata": {},
   "outputs": [
    {
     "data": {
      "text/html": [
       "<div><style>\n",
       ".dataframe > thead > tr,\n",
       ".dataframe > tbody > tr {\n",
       "  text-align: right;\n",
       "  white-space: pre-wrap;\n",
       "}\n",
       "</style>\n",
       "<small>shape: (5, 32)</small><table border=\"1\" class=\"dataframe\"><thead><tr><th>borough</th><th>zip_code</th><th>latitude</th><th>longitude</th><th>on_street_name</th><th>cross_street_name</th><th>off_street_name</th><th>number_of_persons_injured</th><th>number_of_persons_killed</th><th>number_of_pedestrians_injured</th><th>number_of_pedestrians_killed</th><th>number_of_cyclist_injured</th><th>number_of_cyclist_killed</th><th>number_of_motorist_injured</th><th>number_of_motorist_killed</th><th>contributing_factor_vehicle_1</th><th>contributing_factor_vehicle_2</th><th>contributing_factor_vehicle_3</th><th>contributing_factor_vehicle_4</th><th>contributing_factor_vehicle_5</th><th>vehicle_type_code_1</th><th>vehicle_type_code_2</th><th>vehicle_type_code_3</th><th>vehicle_type_code_4</th><th>vehicle_type_code_5</th><th>date</th><th>year</th><th>month</th><th>time</th><th>hour</th><th>number_of_casualty</th><th>weekday</th></tr><tr><td>str</td><td>i64</td><td>f64</td><td>f64</td><td>str</td><td>str</td><td>str</td><td>i64</td><td>i64</td><td>i64</td><td>i64</td><td>i64</td><td>i64</td><td>i64</td><td>i64</td><td>str</td><td>str</td><td>str</td><td>str</td><td>str</td><td>str</td><td>str</td><td>str</td><td>str</td><td>str</td><td>date</td><td>i32</td><td>i8</td><td>time</td><td>i8</td><td>i64</td><td>i8</td></tr></thead><tbody><tr><td>null</td><td>null</td><td>null</td><td>null</td><td>&quot;WHITESTONE EXPRESSWAY&quot;</td><td>&quot;20 AVENUE&quot;</td><td>null</td><td>2</td><td>0</td><td>0</td><td>0</td><td>0</td><td>0</td><td>2</td><td>0</td><td>&quot;Aggressive Driving/Road Rage&quot;</td><td>&quot;Unspecified&quot;</td><td>null</td><td>null</td><td>null</td><td>&quot;Sedan&quot;</td><td>&quot;Sedan&quot;</td><td>null</td><td>null</td><td>null</td><td>2021-09-11</td><td>2021</td><td>9</td><td>02:39:00</td><td>2</td><td>2</td><td>6</td></tr><tr><td>null</td><td>null</td><td>null</td><td>null</td><td>&quot;QUEENSBORO BRIDGE UPPER&quot;</td><td>null</td><td>null</td><td>1</td><td>0</td><td>0</td><td>0</td><td>0</td><td>0</td><td>1</td><td>0</td><td>&quot;Pavement Slippery&quot;</td><td>null</td><td>null</td><td>null</td><td>null</td><td>&quot;Sedan&quot;</td><td>null</td><td>null</td><td>null</td><td>null</td><td>2022-03-26</td><td>2022</td><td>3</td><td>11:45:00</td><td>11</td><td>1</td><td>6</td></tr><tr><td>null</td><td>null</td><td>null</td><td>null</td><td>&quot;THROGS NECK BRIDGE&quot;</td><td>null</td><td>null</td><td>0</td><td>0</td><td>0</td><td>0</td><td>0</td><td>0</td><td>0</td><td>0</td><td>&quot;Following Too Closely&quot;</td><td>&quot;Unspecified&quot;</td><td>null</td><td>null</td><td>null</td><td>&quot;Sedan&quot;</td><td>&quot;Pick-up Truck&quot;</td><td>null</td><td>null</td><td>null</td><td>2022-06-29</td><td>2022</td><td>6</td><td>06:55:00</td><td>6</td><td>0</td><td>3</td></tr><tr><td>&quot;BROOKLYN&quot;</td><td>11208</td><td>40.667202</td><td>-73.8665</td><td>null</td><td>null</td><td>&quot;1211      LORING AVENUE&quot;</td><td>0</td><td>0</td><td>0</td><td>0</td><td>0</td><td>0</td><td>0</td><td>0</td><td>&quot;Unspecified&quot;</td><td>null</td><td>null</td><td>null</td><td>null</td><td>&quot;Sedan&quot;</td><td>null</td><td>null</td><td>null</td><td>null</td><td>2021-09-11</td><td>2021</td><td>9</td><td>09:35:00</td><td>9</td><td>0</td><td>6</td></tr><tr><td>&quot;BROOKLYN&quot;</td><td>11233</td><td>40.683304</td><td>-73.917274</td><td>&quot;SARATOGA AVENUE&quot;</td><td>&quot;DECATUR STREET&quot;</td><td>null</td><td>0</td><td>0</td><td>0</td><td>0</td><td>0</td><td>0</td><td>0</td><td>0</td><td>null</td><td>null</td><td>null</td><td>null</td><td>null</td><td>null</td><td>null</td><td>null</td><td>null</td><td>null</td><td>2021-12-14</td><td>2021</td><td>12</td><td>08:13:00</td><td>8</td><td>0</td><td>2</td></tr></tbody></table></div>"
      ],
      "text/plain": [
       "shape: (5, 32)\n",
       "┌──────────┬──────────┬───────────┬────────────┬───┬──────────┬──────┬───────────────────┬─────────┐\n",
       "│ borough  ┆ zip_code ┆ latitude  ┆ longitude  ┆ … ┆ time     ┆ hour ┆ number_of_casualt ┆ weekday │\n",
       "│ ---      ┆ ---      ┆ ---       ┆ ---        ┆   ┆ ---      ┆ ---  ┆ y                 ┆ ---     │\n",
       "│ str      ┆ i64      ┆ f64       ┆ f64        ┆   ┆ time     ┆ i8   ┆ ---               ┆ i8      │\n",
       "│          ┆          ┆           ┆            ┆   ┆          ┆      ┆ i64               ┆         │\n",
       "╞══════════╪══════════╪═══════════╪════════════╪═══╪══════════╪══════╪═══════════════════╪═════════╡\n",
       "│ null     ┆ null     ┆ null      ┆ null       ┆ … ┆ 02:39:00 ┆ 2    ┆ 2                 ┆ 6       │\n",
       "│ null     ┆ null     ┆ null      ┆ null       ┆ … ┆ 11:45:00 ┆ 11   ┆ 1                 ┆ 6       │\n",
       "│ null     ┆ null     ┆ null      ┆ null       ┆ … ┆ 06:55:00 ┆ 6    ┆ 0                 ┆ 3       │\n",
       "│ BROOKLYN ┆ 11208    ┆ 40.667202 ┆ -73.8665   ┆ … ┆ 09:35:00 ┆ 9    ┆ 0                 ┆ 6       │\n",
       "│ BROOKLYN ┆ 11233    ┆ 40.683304 ┆ -73.917274 ┆ … ┆ 08:13:00 ┆ 8    ┆ 0                 ┆ 2       │\n",
       "└──────────┴──────────┴───────────┴────────────┴───┴──────────┴──────┴───────────────────┴─────────┘"
      ]
     },
     "execution_count": 5,
     "metadata": {},
     "output_type": "execute_result"
    }
   ],
   "source": [
    "df = df.with_columns(pl.col(\"date\").dt.weekday().alias(\"weekday\"))\n",
    "df.head()"
   ]
  },
  {
   "cell_type": "code",
   "execution_count": 6,
   "id": "312556e7-81e7-4672-b4b9-f395fbaaa716",
   "metadata": {},
   "outputs": [],
   "source": [
    "# df = df.with_columns(pl.col(\"crash_date\").str.to_date(\"%m/%d/%Y\").alias(\"date\"))\n",
    "# df = df.with_columns(pl.col(\"date\").dt.year().alias(\"year\"))\n",
    "# df = df.with_columns(pl.col(\"date\").dt.month().alias(\"month\"))\n",
    "# df = df.with_columns(pl.col(\"crash_time\").str.to_time(\"%H:%M\").alias(\"time\"))\n",
    "# df = df.with_columns(pl.col(\"time\").dt.hour().alias(\"hour\"))\n",
    "\n",
    "# # df[[\"date\", \"year\", \"month\", \"time\", \"hour\"]].head()"
   ]
  },
  {
   "cell_type": "code",
   "execution_count": 7,
   "id": "c053ab0a-6262-40b6-8d67-dcf2f27dfda3",
   "metadata": {},
   "outputs": [],
   "source": [
    "# df = df.drop([\"crash_date\", \"crash_time\", \"location\"])\n",
    "# df = df.drop('collision_id')\n",
    "df.write_parquet('data/processed.parquet', use_pyarrow=True)"
   ]
  },
  {
   "cell_type": "code",
   "execution_count": 8,
   "id": "38b01108-6c12-46eb-aa1e-b7fd12091565",
   "metadata": {},
   "outputs": [],
   "source": [
    "# df[[\"date\", \"borough\", \"year\", \"month\", \"time\", \"hour\"]].write_parquet(\"data/time_only.parquet\", use_pyarrow=True)"
   ]
  },
  {
   "cell_type": "code",
   "execution_count": 9,
   "id": "b41942e3-58c5-4278-9535-bf80054313d9",
   "metadata": {},
   "outputs": [],
   "source": [
    "clean = pl.read_parquet(\"data/clean_data.parquet\")"
   ]
  },
  {
   "cell_type": "code",
   "execution_count": 10,
   "id": "0c859024-47e2-4cd5-b079-cc177f1642c5",
   "metadata": {},
   "outputs": [
    {
     "data": {
      "text/html": [
       "<div><style>\n",
       ".dataframe > thead > tr,\n",
       ".dataframe > tbody > tr {\n",
       "  text-align: right;\n",
       "  white-space: pre-wrap;\n",
       "}\n",
       "</style>\n",
       "<small>shape: (5, 32)</small><table border=\"1\" class=\"dataframe\"><thead><tr><th>borough</th><th>zip_code</th><th>latitude</th><th>longitude</th><th>on_street_name</th><th>cross_street_name</th><th>off_street_name</th><th>number_of_persons_injured</th><th>number_of_persons_killed</th><th>number_of_pedestrians_injured</th><th>number_of_pedestrians_killed</th><th>number_of_cyclist_injured</th><th>number_of_cyclist_killed</th><th>number_of_motorist_injured</th><th>number_of_motorist_killed</th><th>contributing_factor_vehicle_1</th><th>contributing_factor_vehicle_2</th><th>contributing_factor_vehicle_3</th><th>contributing_factor_vehicle_4</th><th>contributing_factor_vehicle_5</th><th>vehicle_type_code_1</th><th>vehicle_type_code_2</th><th>vehicle_type_code_3</th><th>vehicle_type_code_4</th><th>vehicle_type_code_5</th><th>date</th><th>year</th><th>month</th><th>time</th><th>hour</th><th>number_of_casualty</th><th>distance</th></tr><tr><td>str</td><td>i64</td><td>f64</td><td>f64</td><td>str</td><td>str</td><td>str</td><td>i64</td><td>i64</td><td>i64</td><td>i64</td><td>i64</td><td>i64</td><td>i64</td><td>i64</td><td>str</td><td>str</td><td>str</td><td>str</td><td>str</td><td>str</td><td>str</td><td>str</td><td>str</td><td>str</td><td>date</td><td>i32</td><td>i8</td><td>time</td><td>i8</td><td>i64</td><td>f64</td></tr></thead><tbody><tr><td>&quot;BROOKLYN&quot;</td><td>11208</td><td>40.667202</td><td>-73.8665</td><td>null</td><td>null</td><td>&quot;1211      LORING AVENUE&quot;</td><td>0</td><td>0</td><td>0</td><td>0</td><td>0</td><td>0</td><td>0</td><td>0</td><td>&quot;Unspecified&quot;</td><td>null</td><td>null</td><td>null</td><td>null</td><td>&quot;Sedan&quot;</td><td>null</td><td>null</td><td>null</td><td>null</td><td>2021-09-11</td><td>2021</td><td>9</td><td>09:35:00</td><td>9</td><td>0</td><td>12.832897</td></tr><tr><td>&quot;BROOKLYN&quot;</td><td>11233</td><td>40.683304</td><td>-73.917274</td><td>&quot;SARATOGA AVENUE&quot;</td><td>&quot;DECATUR STREET&quot;</td><td>null</td><td>0</td><td>0</td><td>0</td><td>0</td><td>0</td><td>0</td><td>0</td><td>0</td><td>null</td><td>null</td><td>null</td><td>null</td><td>null</td><td>null</td><td>null</td><td>null</td><td>null</td><td>null</td><td>2021-12-14</td><td>2021</td><td>12</td><td>08:13:00</td><td>8</td><td>0</td><td>8.183083</td></tr><tr><td>&quot;BRONX&quot;</td><td>10475</td><td>40.86816</td><td>-73.83148</td><td>null</td><td>null</td><td>&quot;344       BAYCHESTER AVENUE&quot;</td><td>2</td><td>0</td><td>0</td><td>0</td><td>0</td><td>0</td><td>2</td><td>0</td><td>&quot;Unspecified&quot;</td><td>&quot;Unspecified&quot;</td><td>null</td><td>null</td><td>null</td><td>&quot;Sedan&quot;</td><td>&quot;Sedan&quot;</td><td>null</td><td>null</td><td>null</td><td>2021-12-14</td><td>2021</td><td>12</td><td>08:17:00</td><td>8</td><td>2</td><td>22.685206</td></tr><tr><td>&quot;BROOKLYN&quot;</td><td>11207</td><td>40.67172</td><td>-73.8971</td><td>null</td><td>null</td><td>&quot;2047      PITKIN AVENUE&quot;</td><td>0</td><td>0</td><td>0</td><td>0</td><td>0</td><td>0</td><td>0</td><td>0</td><td>&quot;Driver Inexperience&quot;</td><td>&quot;Unspecified&quot;</td><td>null</td><td>null</td><td>null</td><td>&quot;Sedan&quot;</td><td>null</td><td>null</td><td>null</td><td>null</td><td>2021-12-14</td><td>2021</td><td>12</td><td>21:10:00</td><td>21</td><td>0</td><td>10.273211</td></tr><tr><td>&quot;MANHATTAN&quot;</td><td>10017</td><td>40.75144</td><td>-73.97397</td><td>&quot;3 AVENUE&quot;</td><td>&quot;EAST 43 STREET&quot;</td><td>null</td><td>0</td><td>0</td><td>0</td><td>0</td><td>0</td><td>0</td><td>0</td><td>0</td><td>&quot;Passing Too Closely&quot;</td><td>&quot;Unspecified&quot;</td><td>null</td><td>null</td><td>null</td><td>&quot;Sedan&quot;</td><td>&quot;Station Wagon/Sport Utility Ve…</td><td>null</td><td>null</td><td>null</td><td>2021-12-14</td><td>2021</td><td>12</td><td>14:58:00</td><td>14</td><td>0</td><td>5.07277</td></tr></tbody></table></div>"
      ],
      "text/plain": [
       "shape: (5, 32)\n",
       "┌───────────┬──────────┬───────────┬────────────┬───┬──────────┬──────┬────────────────┬───────────┐\n",
       "│ borough   ┆ zip_code ┆ latitude  ┆ longitude  ┆ … ┆ time     ┆ hour ┆ number_of_casu ┆ distance  │\n",
       "│ ---       ┆ ---      ┆ ---       ┆ ---        ┆   ┆ ---      ┆ ---  ┆ alty           ┆ ---       │\n",
       "│ str       ┆ i64      ┆ f64       ┆ f64        ┆   ┆ time     ┆ i8   ┆ ---            ┆ f64       │\n",
       "│           ┆          ┆           ┆            ┆   ┆          ┆      ┆ i64            ┆           │\n",
       "╞═══════════╪══════════╪═══════════╪════════════╪═══╪══════════╪══════╪════════════════╪═══════════╡\n",
       "│ BROOKLYN  ┆ 11208    ┆ 40.667202 ┆ -73.8665   ┆ … ┆ 09:35:00 ┆ 9    ┆ 0              ┆ 12.832897 │\n",
       "│ BROOKLYN  ┆ 11233    ┆ 40.683304 ┆ -73.917274 ┆ … ┆ 08:13:00 ┆ 8    ┆ 0              ┆ 8.183083  │\n",
       "│ BRONX     ┆ 10475    ┆ 40.86816  ┆ -73.83148  ┆ … ┆ 08:17:00 ┆ 8    ┆ 2              ┆ 22.685206 │\n",
       "│ BROOKLYN  ┆ 11207    ┆ 40.67172  ┆ -73.8971   ┆ … ┆ 21:10:00 ┆ 21   ┆ 0              ┆ 10.273211 │\n",
       "│ MANHATTAN ┆ 10017    ┆ 40.75144  ┆ -73.97397  ┆ … ┆ 14:58:00 ┆ 14   ┆ 0              ┆ 5.07277   │\n",
       "└───────────┴──────────┴───────────┴────────────┴───┴──────────┴──────┴────────────────┴───────────┘"
      ]
     },
     "execution_count": 10,
     "metadata": {},
     "output_type": "execute_result"
    }
   ],
   "source": [
    "clean.head()"
   ]
  },
  {
   "cell_type": "code",
   "execution_count": 11,
   "id": "561a4d96-a472-4dd0-b1c4-fe76fd643f63",
   "metadata": {},
   "outputs": [],
   "source": [
    "# clean = df.drop_nulls(subset=[\"latitude\"])\n",
    "# clean = clean.drop_nulls(subset=[\"longitude\"])\n",
    "# clean = clean.drop_nulls(subset=[\"borough\"])"
   ]
  },
  {
   "cell_type": "code",
   "execution_count": 12,
   "id": "1249bab9-6df4-4a1f-a352-b729d3c7d453",
   "metadata": {},
   "outputs": [],
   "source": [
    "# clean.shape"
   ]
  },
  {
   "cell_type": "code",
   "execution_count": 13,
   "id": "d689e945-a6d8-44c1-aa9d-feee4188eea1",
   "metadata": {},
   "outputs": [],
   "source": [
    "clean = clean.with_columns((pl.concat_list(pl.col(\"latitude\"), pl.col(\"longitude\")).alias(\"coordinate\")))"
   ]
  },
  {
   "cell_type": "code",
   "execution_count": 14,
   "id": "4af5c290-bfac-4a68-a617-e987c4b4dd0b",
   "metadata": {},
   "outputs": [],
   "source": [
    "clean = clean.with_columns(pl.lit((40.7128, -74.0060)).alias('ny'))\n",
    "# clean.head()"
   ]
  },
  {
   "cell_type": "code",
   "execution_count": 15,
   "id": "5d947983-fa89-4952-814a-dfeabfcc7d61",
   "metadata": {},
   "outputs": [],
   "source": [
    "# clean = clean.with_columns((pl.concat_list(pl.col(\"coordinate\"), pl.col(\"ny\")).alias(\"geodesic\")))\n",
    "# clean.head()"
   ]
  },
  {
   "cell_type": "code",
   "execution_count": 16,
   "id": "3c258ab5-8f3b-40b8-be3d-89c103ed5dfe",
   "metadata": {},
   "outputs": [],
   "source": [
    "# clean['geodesic'].dtype"
   ]
  },
  {
   "cell_type": "code",
   "execution_count": 17,
   "id": "02c15805-a63c-4443-9cbb-297edfc86a20",
   "metadata": {},
   "outputs": [],
   "source": [
    "# clean = clean.with_columns(pl.col(\"geodesic\").map_elements(lambda x: distance.geodesic((x[0], x[1]), (x[2], x[3])).km, return_dtype=float).alias(\"distance\"))\n",
    "# clean.head()"
   ]
  },
  {
   "cell_type": "code",
   "execution_count": 18,
   "id": "9b2c2b23-3b21-4c92-8cf5-2ca073a324e2",
   "metadata": {},
   "outputs": [],
   "source": [
    "# clean = clean.drop([\"geodesic\", \"ny\", \"coordinate\"])"
   ]
  },
  {
   "cell_type": "code",
   "execution_count": 19,
   "id": "9f1d7df5-1c3d-4b4f-b0c4-15e672bb6db1",
   "metadata": {},
   "outputs": [
    {
     "data": {
      "text/plain": [
       "(1411081, 34)"
      ]
     },
     "execution_count": 19,
     "metadata": {},
     "output_type": "execute_result"
    }
   ],
   "source": [
    "clean.shape"
   ]
  },
  {
   "cell_type": "code",
   "execution_count": 20,
   "id": "12d90de5-d1cf-4fe6-a4a3-011218307453",
   "metadata": {},
   "outputs": [],
   "source": [
    "# clean.filter(pl.col('distance') > 530).write_parquet(\"data/invalid_coordinate.parquet\")\n",
    "# clean = clean.filter(pl.col(\"distance\") < threshold)"
   ]
  },
  {
   "cell_type": "code",
   "execution_count": 21,
   "id": "460356aa-46f2-43b0-9063-0e961f2d6de7",
   "metadata": {},
   "outputs": [],
   "source": [
    "# threshold = 3*clean['distance'].mean()\n",
    "# clean = clean.filter(pl.col(\"distance\") < threshold)\n",
    "# clean.shape"
   ]
  },
  {
   "cell_type": "code",
   "execution_count": 22,
   "id": "fc637e5d-083a-46a1-add1-b88c93659491",
   "metadata": {},
   "outputs": [],
   "source": [
    "colors = [\n",
    "    '#0044ff',  # muted blue\n",
    "    '#ffaa00',  # muted purple\n",
    "    '#00ff00',  # chestnut brown\n",
    "    '#ff7f0e',  # safety orange\n",
    "    '#2ca02c',  # cooked asparagus green\n",
    "    \n",
    "]\n",
    "boroughs = clean['borough'].unique()\n",
    "colors = colors[:boroughs.shape[0]]"
   ]
  },
  {
   "cell_type": "code",
   "execution_count": 23,
   "id": "e20079f7-7080-420d-933b-da85ab7abe42",
   "metadata": {},
   "outputs": [
    {
     "data": {
      "text/html": [
       "<div><style>\n",
       ".dataframe > thead > tr,\n",
       ".dataframe > tbody > tr {\n",
       "  text-align: right;\n",
       "  white-space: pre-wrap;\n",
       "}\n",
       "</style>\n",
       "<small>shape: (5, 34)</small><table border=\"1\" class=\"dataframe\"><thead><tr><th>borough</th><th>zip_code</th><th>latitude</th><th>longitude</th><th>on_street_name</th><th>cross_street_name</th><th>off_street_name</th><th>number_of_persons_injured</th><th>number_of_persons_killed</th><th>number_of_pedestrians_injured</th><th>number_of_pedestrians_killed</th><th>number_of_cyclist_injured</th><th>number_of_cyclist_killed</th><th>number_of_motorist_injured</th><th>number_of_motorist_killed</th><th>contributing_factor_vehicle_1</th><th>contributing_factor_vehicle_2</th><th>contributing_factor_vehicle_3</th><th>contributing_factor_vehicle_4</th><th>contributing_factor_vehicle_5</th><th>vehicle_type_code_1</th><th>vehicle_type_code_2</th><th>vehicle_type_code_3</th><th>vehicle_type_code_4</th><th>vehicle_type_code_5</th><th>date</th><th>year</th><th>month</th><th>time</th><th>hour</th><th>number_of_casualty</th><th>distance</th><th>coordinate</th><th>ny</th></tr><tr><td>str</td><td>i64</td><td>f64</td><td>f64</td><td>str</td><td>str</td><td>str</td><td>i64</td><td>i64</td><td>i64</td><td>i64</td><td>i64</td><td>i64</td><td>i64</td><td>i64</td><td>str</td><td>str</td><td>str</td><td>str</td><td>str</td><td>str</td><td>str</td><td>str</td><td>str</td><td>str</td><td>date</td><td>i32</td><td>i8</td><td>time</td><td>i8</td><td>i64</td><td>f64</td><td>list[f64]</td><td>list[f64]</td></tr></thead><tbody><tr><td>&quot;BROOKLYN&quot;</td><td>11208</td><td>40.667202</td><td>-73.8665</td><td>null</td><td>null</td><td>&quot;1211      LORING AVENUE&quot;</td><td>0</td><td>0</td><td>0</td><td>0</td><td>0</td><td>0</td><td>0</td><td>0</td><td>&quot;Unspecified&quot;</td><td>null</td><td>null</td><td>null</td><td>null</td><td>&quot;Sedan&quot;</td><td>null</td><td>null</td><td>null</td><td>null</td><td>2021-09-11</td><td>2021</td><td>9</td><td>09:35:00</td><td>9</td><td>0</td><td>12.832897</td><td>[40.667202, -73.8665]</td><td>[40.7128, -74.006]</td></tr><tr><td>&quot;BROOKLYN&quot;</td><td>11233</td><td>40.683304</td><td>-73.917274</td><td>&quot;SARATOGA AVENUE&quot;</td><td>&quot;DECATUR STREET&quot;</td><td>null</td><td>0</td><td>0</td><td>0</td><td>0</td><td>0</td><td>0</td><td>0</td><td>0</td><td>null</td><td>null</td><td>null</td><td>null</td><td>null</td><td>null</td><td>null</td><td>null</td><td>null</td><td>null</td><td>2021-12-14</td><td>2021</td><td>12</td><td>08:13:00</td><td>8</td><td>0</td><td>8.183083</td><td>[40.683304, -73.917274]</td><td>[40.7128, -74.006]</td></tr><tr><td>&quot;BRONX&quot;</td><td>10475</td><td>40.86816</td><td>-73.83148</td><td>null</td><td>null</td><td>&quot;344       BAYCHESTER AVENUE&quot;</td><td>2</td><td>0</td><td>0</td><td>0</td><td>0</td><td>0</td><td>2</td><td>0</td><td>&quot;Unspecified&quot;</td><td>&quot;Unspecified&quot;</td><td>null</td><td>null</td><td>null</td><td>&quot;Sedan&quot;</td><td>&quot;Sedan&quot;</td><td>null</td><td>null</td><td>null</td><td>2021-12-14</td><td>2021</td><td>12</td><td>08:17:00</td><td>8</td><td>2</td><td>22.685206</td><td>[40.86816, -73.83148]</td><td>[40.7128, -74.006]</td></tr><tr><td>&quot;BROOKLYN&quot;</td><td>11207</td><td>40.67172</td><td>-73.8971</td><td>null</td><td>null</td><td>&quot;2047      PITKIN AVENUE&quot;</td><td>0</td><td>0</td><td>0</td><td>0</td><td>0</td><td>0</td><td>0</td><td>0</td><td>&quot;Driver Inexperience&quot;</td><td>&quot;Unspecified&quot;</td><td>null</td><td>null</td><td>null</td><td>&quot;Sedan&quot;</td><td>null</td><td>null</td><td>null</td><td>null</td><td>2021-12-14</td><td>2021</td><td>12</td><td>21:10:00</td><td>21</td><td>0</td><td>10.273211</td><td>[40.67172, -73.8971]</td><td>[40.7128, -74.006]</td></tr><tr><td>&quot;MANHATTAN&quot;</td><td>10017</td><td>40.75144</td><td>-73.97397</td><td>&quot;3 AVENUE&quot;</td><td>&quot;EAST 43 STREET&quot;</td><td>null</td><td>0</td><td>0</td><td>0</td><td>0</td><td>0</td><td>0</td><td>0</td><td>0</td><td>&quot;Passing Too Closely&quot;</td><td>&quot;Unspecified&quot;</td><td>null</td><td>null</td><td>null</td><td>&quot;Sedan&quot;</td><td>&quot;Station Wagon/Sport Utility Ve…</td><td>null</td><td>null</td><td>null</td><td>2021-12-14</td><td>2021</td><td>12</td><td>14:58:00</td><td>14</td><td>0</td><td>5.07277</td><td>[40.75144, -73.97397]</td><td>[40.7128, -74.006]</td></tr></tbody></table></div>"
      ],
      "text/plain": [
       "shape: (5, 34)\n",
       "┌───────────┬──────────┬───────────┬───────────┬───┬───────────┬───────────┬───────────┬───────────┐\n",
       "│ borough   ┆ zip_code ┆ latitude  ┆ longitude ┆ … ┆ number_of ┆ distance  ┆ coordinat ┆ ny        │\n",
       "│ ---       ┆ ---      ┆ ---       ┆ ---       ┆   ┆ _casualty ┆ ---       ┆ e         ┆ ---       │\n",
       "│ str       ┆ i64      ┆ f64       ┆ f64       ┆   ┆ ---       ┆ f64       ┆ ---       ┆ list[f64] │\n",
       "│           ┆          ┆           ┆           ┆   ┆ i64       ┆           ┆ list[f64] ┆           │\n",
       "╞═══════════╪══════════╪═══════════╪═══════════╪═══╪═══════════╪═══════════╪═══════════╪═══════════╡\n",
       "│ BROOKLYN  ┆ 11208    ┆ 40.667202 ┆ -73.8665  ┆ … ┆ 0         ┆ 12.832897 ┆ [40.66720 ┆ [40.7128, │\n",
       "│           ┆          ┆           ┆           ┆   ┆           ┆           ┆ 2,        ┆ -74.006]  │\n",
       "│           ┆          ┆           ┆           ┆   ┆           ┆           ┆ -73.8665] ┆           │\n",
       "│ BROOKLYN  ┆ 11233    ┆ 40.683304 ┆ -73.91727 ┆ … ┆ 0         ┆ 8.183083  ┆ [40.68330 ┆ [40.7128, │\n",
       "│           ┆          ┆           ┆ 4         ┆   ┆           ┆           ┆ 4, -73.91 ┆ -74.006]  │\n",
       "│           ┆          ┆           ┆           ┆   ┆           ┆           ┆ 7274]     ┆           │\n",
       "│ BRONX     ┆ 10475    ┆ 40.86816  ┆ -73.83148 ┆ … ┆ 2         ┆ 22.685206 ┆ [40.86816 ┆ [40.7128, │\n",
       "│           ┆          ┆           ┆           ┆   ┆           ┆           ┆ , -73.831 ┆ -74.006]  │\n",
       "│           ┆          ┆           ┆           ┆   ┆           ┆           ┆ 48]       ┆           │\n",
       "│ BROOKLYN  ┆ 11207    ┆ 40.67172  ┆ -73.8971  ┆ … ┆ 0         ┆ 10.273211 ┆ [40.67172 ┆ [40.7128, │\n",
       "│           ┆          ┆           ┆           ┆   ┆           ┆           ┆ ,         ┆ -74.006]  │\n",
       "│           ┆          ┆           ┆           ┆   ┆           ┆           ┆ -73.8971] ┆           │\n",
       "│ MANHATTAN ┆ 10017    ┆ 40.75144  ┆ -73.97397 ┆ … ┆ 0         ┆ 5.07277   ┆ [40.75144 ┆ [40.7128, │\n",
       "│           ┆          ┆           ┆           ┆   ┆           ┆           ┆ , -73.973 ┆ -74.006]  │\n",
       "│           ┆          ┆           ┆           ┆   ┆           ┆           ┆ 97]       ┆           │\n",
       "└───────────┴──────────┴───────────┴───────────┴───┴───────────┴───────────┴───────────┴───────────┘"
      ]
     },
     "execution_count": 23,
     "metadata": {},
     "output_type": "execute_result"
    }
   ],
   "source": [
    "clean.head()"
   ]
  },
  {
   "cell_type": "code",
   "execution_count": 24,
   "id": "6ab17230-c120-40fa-b2b8-9dd93d035991",
   "metadata": {},
   "outputs": [],
   "source": [
    "# color_lookup = pydeck.data_utils.assign_random_colors(clean['borough'])\n",
    "# colors = list(color_lookup.values())"
   ]
  },
  {
   "cell_type": "code",
   "execution_count": 25,
   "id": "3852b31d-02de-4ebe-990b-7b2d14044aca",
   "metadata": {},
   "outputs": [],
   "source": [
    "# clean = clean.with_columns(pl.col(\"borough\").map_elements(lambda x: color_lookup[x], return_dtype=list[int]).alias(\"color\"))\n",
    "# clean = clean.with_columns(pl.col(\"borough\").str.replace_many(boroughs, colors).alias(\"color\"))"
   ]
  },
  {
   "cell_type": "code",
   "execution_count": 26,
   "id": "466d5de2-16ad-4605-ae71-8cdbf853ff8b",
   "metadata": {},
   "outputs": [],
   "source": [
    "clean.write_parquet(\"data/clean_data.parquet\", use_pyarrow=True)"
   ]
  },
  {
   "cell_type": "code",
   "execution_count": 27,
   "id": "5cb52792-49b2-4de5-a35b-0864e6f885f9",
   "metadata": {},
   "outputs": [],
   "source": [
    "map_cols = [\"date\", \"borough\", \"latitude\", \"longitude\", \"month\", \"year\", \"time\", \"hour\", \"coordinate\", \"number_of_persons_injured\", \"number_of_persons_killed\", \"number_of_casualty\", \"distance\"]\n",
    "clean.select(map_cols).write_parquet(\"data/clean_map.parquet\", use_pyarrow=True)"
   ]
  },
  {
   "cell_type": "code",
   "execution_count": null,
   "id": "6202050e-c0ad-41f9-a739-840c62abb558",
   "metadata": {},
   "outputs": [],
   "source": []
  }
 ],
 "metadata": {
  "kernelspec": {
   "display_name": "Python 3 (ipykernel)",
   "language": "python",
   "name": "python3"
  },
  "language_info": {
   "codemirror_mode": {
    "name": "ipython",
    "version": 3
   },
   "file_extension": ".py",
   "mimetype": "text/x-python",
   "name": "python",
   "nbconvert_exporter": "python",
   "pygments_lexer": "ipython3",
   "version": "3.11.2"
  }
 },
 "nbformat": 4,
 "nbformat_minor": 5
}
