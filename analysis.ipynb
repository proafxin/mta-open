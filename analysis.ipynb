{
 "cells": [
  {
   "cell_type": "code",
   "execution_count": 1,
   "id": "ae27dff1-cf41-47cc-91e5-7f425f652985",
   "metadata": {},
   "outputs": [],
   "source": [
    "import polars as pl"
   ]
  },
  {
   "cell_type": "code",
   "execution_count": 2,
   "id": "591edda8-29d5-4243-843d-e131de83a707",
   "metadata": {},
   "outputs": [
    {
     "data": {
      "text/html": [
       "<div><style>\n",
       ".dataframe > thead > tr,\n",
       ".dataframe > tbody > tr {\n",
       "  text-align: right;\n",
       "  white-space: pre-wrap;\n",
       "}\n",
       "</style>\n",
       "<small>shape: (5, 19)</small><table border=\"1\" class=\"dataframe\"><thead><tr><th>Year</th><th>Case Vehicle ID</th><th>Vehicle Body Type</th><th>Registration Class</th><th>Action Prior to Accident</th><th>Type / Axles of Truck or Bus</th><th>Direction of Travel</th><th>Fuel Type</th><th>Vehicle Year</th><th>State of Registration</th><th>Number of Occupants</th><th>Engine Cylinders</th><th>Vehicle Make</th><th>Contributing Factor 1</th><th>Contributing Factor 1 Description</th><th>Contributing Factor 2</th><th>Contributing Factor 2 Description</th><th>Event Type</th><th>Partial VIN</th></tr><tr><td>i64</td><td>i64</td><td>str</td><td>str</td><td>str</td><td>str</td><td>str</td><td>str</td><td>i64</td><td>str</td><td>i64</td><td>i64</td><td>str</td><td>str</td><td>str</td><td>str</td><td>str</td><td>str</td><td>str</td></tr></thead><tbody><tr><td>2018</td><td>15232120</td><td>&quot;VAN TRUCK&quot;</td><td>&quot;AGRICULTURAL TRUCK&quot;</td><td>&quot;Parked&quot;</td><td>&quot;Not Entered&quot;</td><td>&quot;North&quot;</td><td>&quot;Gas&quot;</td><td>2015</td><td>&quot;NY&quot;</td><td>0</td><td>4</td><td>&quot;NISSA&quot;</td><td>&quot;HUMAN&quot;</td><td>&quot;Not Entered&quot;</td><td>&quot;HUMAN&quot;</td><td>&quot;Not Entered&quot;</td><td>&quot;Not Entered&quot;</td><td>&quot;3N6CM0KN2FK713460&quot;</td></tr><tr><td>2018</td><td>15232535</td><td>&quot;SUBURBAN&quot;</td><td>&quot;PASSENGER OR SUBURBAN&quot;</td><td>&quot;Making U Turn&quot;</td><td>&quot;Not Entered&quot;</td><td>&quot;South&quot;</td><td>&quot;Gas&quot;</td><td>2015</td><td>&quot;NY&quot;</td><td>1</td><td>6</td><td>&quot;HONDA&quot;</td><td>&quot;HUMAN&quot;</td><td>&quot;Not Entered&quot;</td><td>&quot;HUMAN&quot;</td><td>&quot;Unknown&quot;</td><td>&quot;Not Entered&quot;</td><td>&quot;5J6TF2H55FL001556&quot;</td></tr><tr><td>2018</td><td>15232536</td><td>&quot;SEDAN&quot;</td><td>&quot;Not Entered&quot;</td><td>&quot;Going Straight Ahead&quot;</td><td>&quot;Not Entered&quot;</td><td>&quot;North&quot;</td><td>&quot;Not Entered&quot;</td><td>null</td><td>&quot;PA&quot;</td><td>1</td><td>null</td><td>null</td><td>&quot;HUMAN&quot;</td><td>&quot;Not Entered&quot;</td><td>&quot;HUMAN&quot;</td><td>&quot;Unknown&quot;</td><td>&quot;Not Entered&quot;</td><td>null</td></tr><tr><td>2018</td><td>15232557</td><td>&quot;4 DOOR SEDAN&quot;</td><td>&quot;PASSENGER OR SUBURBAN&quot;</td><td>&quot;Parked&quot;</td><td>&quot;Not Entered&quot;</td><td>&quot;South&quot;</td><td>&quot;Gas&quot;</td><td>2013</td><td>&quot;NY&quot;</td><td>5</td><td>4</td><td>&quot;NISSA&quot;</td><td>&quot;HUMAN&quot;</td><td>&quot;Passenger Distraction&quot;</td><td>&quot;VEHICLE&quot;</td><td>&quot;Other*&quot;</td><td>&quot;Not Entered&quot;</td><td>&quot;1N4AL3AP8DC229156&quot;</td></tr><tr><td>2018</td><td>15232556</td><td>&quot;SUBURBAN&quot;</td><td>&quot;PASSENGER OR SUBURBAN&quot;</td><td>&quot;Going Straight Ahead&quot;</td><td>&quot;Not Entered&quot;</td><td>&quot;South&quot;</td><td>&quot;Gas&quot;</td><td>2009</td><td>&quot;NY&quot;</td><td>2</td><td>8</td><td>&quot;CADIL&quot;</td><td>&quot;HUMAN&quot;</td><td>&quot;Not Applicable&quot;</td><td>&quot;HUMAN&quot;</td><td>&quot;Not Applicable&quot;</td><td>&quot;Not Entered&quot;</td><td>&quot;3GYFK22209G213337&quot;</td></tr></tbody></table></div>"
      ],
      "text/plain": [
       "shape: (5, 19)\n",
       "┌──────┬────────────┬────────────┬────────────┬───┬────────────┬───────────┬───────────┬───────────┐\n",
       "│ Year ┆ Case       ┆ Vehicle    ┆ Registrati ┆ … ┆ Contributi ┆ Contribut ┆ Event     ┆ Partial   │\n",
       "│ ---  ┆ Vehicle ID ┆ Body Type  ┆ on Class   ┆   ┆ ng Factor  ┆ ing       ┆ Type      ┆ VIN       │\n",
       "│ i64  ┆ ---        ┆ ---        ┆ ---        ┆   ┆ 2          ┆ Factor 2  ┆ ---       ┆ ---       │\n",
       "│      ┆ i64        ┆ str        ┆ str        ┆   ┆ ---        ┆ Descript… ┆ str       ┆ str       │\n",
       "│      ┆            ┆            ┆            ┆   ┆ str        ┆ ---       ┆           ┆           │\n",
       "│      ┆            ┆            ┆            ┆   ┆            ┆ str       ┆           ┆           │\n",
       "╞══════╪════════════╪════════════╪════════════╪═══╪════════════╪═══════════╪═══════════╪═══════════╡\n",
       "│ 2018 ┆ 15232120   ┆ VAN TRUCK  ┆ AGRICULTUR ┆ … ┆ HUMAN      ┆ Not       ┆ Not       ┆ 3N6CM0KN2 │\n",
       "│      ┆            ┆            ┆ AL TRUCK   ┆   ┆            ┆ Entered   ┆ Entered   ┆ FK713460  │\n",
       "│ 2018 ┆ 15232535   ┆ SUBURBAN   ┆ PASSENGER  ┆ … ┆ HUMAN      ┆ Unknown   ┆ Not       ┆ 5J6TF2H55 │\n",
       "│      ┆            ┆            ┆ OR         ┆   ┆            ┆           ┆ Entered   ┆ FL001556  │\n",
       "│      ┆            ┆            ┆ SUBURBAN   ┆   ┆            ┆           ┆           ┆           │\n",
       "│ 2018 ┆ 15232536   ┆ SEDAN      ┆ Not        ┆ … ┆ HUMAN      ┆ Unknown   ┆ Not       ┆ null      │\n",
       "│      ┆            ┆            ┆ Entered    ┆   ┆            ┆           ┆ Entered   ┆           │\n",
       "│ 2018 ┆ 15232557   ┆ 4 DOOR     ┆ PASSENGER  ┆ … ┆ VEHICLE    ┆ Other*    ┆ Not       ┆ 1N4AL3AP8 │\n",
       "│      ┆            ┆ SEDAN      ┆ OR         ┆   ┆            ┆           ┆ Entered   ┆ DC229156  │\n",
       "│      ┆            ┆            ┆ SUBURBAN   ┆   ┆            ┆           ┆           ┆           │\n",
       "│ 2018 ┆ 15232556   ┆ SUBURBAN   ┆ PASSENGER  ┆ … ┆ HUMAN      ┆ Not Appli ┆ Not       ┆ 3GYFK2220 │\n",
       "│      ┆            ┆            ┆ OR         ┆   ┆            ┆ cable     ┆ Entered   ┆ 9G213337  │\n",
       "│      ┆            ┆            ┆ SUBURBAN   ┆   ┆            ┆           ┆           ┆           │\n",
       "└──────┴────────────┴────────────┴────────────┴───┴────────────┴───────────┴───────────┴───────────┘"
      ]
     },
     "execution_count": 2,
     "metadata": {},
     "output_type": "execute_result"
    }
   ],
   "source": [
    "df = pl.read_csv('data/Motor_Vehicle_Crashes_-_Vehicle_Information__Three_Year_Window_20240925.csv')\n",
    "df.head()"
   ]
  },
  {
   "cell_type": "code",
   "execution_count": 3,
   "id": "45219681-1dd1-4602-8147-fa84272df273",
   "metadata": {},
   "outputs": [
    {
     "data": {
      "text/plain": [
       "(3659841, 19)"
      ]
     },
     "execution_count": 3,
     "metadata": {},
     "output_type": "execute_result"
    }
   ],
   "source": [
    "df.shape"
   ]
  },
  {
   "cell_type": "code",
   "execution_count": 4,
   "id": "7305406a-f54a-4e77-94c2-0ebe416d4167",
   "metadata": {},
   "outputs": [
    {
     "data": {
      "text/html": [
       "<div><style>\n",
       ".dataframe > thead > tr,\n",
       ".dataframe > tbody > tr {\n",
       "  text-align: right;\n",
       "  white-space: pre-wrap;\n",
       "}\n",
       "</style>\n",
       "<small>shape: (5, 19)</small><table border=\"1\" class=\"dataframe\"><thead><tr><th>Year</th><th>Case Vehicle ID</th><th>Vehicle Body Type</th><th>Registration Class</th><th>Action Prior to Accident</th><th>Type / Axles of Truck or Bus</th><th>Direction of Travel</th><th>Fuel Type</th><th>Vehicle Year</th><th>State of Registration</th><th>Number of Occupants</th><th>Engine Cylinders</th><th>Vehicle Make</th><th>Contributing Factor 1</th><th>Contributing Factor 1 Description</th><th>Contributing Factor 2</th><th>Contributing Factor 2 Description</th><th>Event Type</th><th>Partial VIN</th></tr><tr><td>i64</td><td>i64</td><td>str</td><td>str</td><td>str</td><td>str</td><td>str</td><td>str</td><td>i64</td><td>str</td><td>i64</td><td>i64</td><td>str</td><td>str</td><td>str</td><td>str</td><td>str</td><td>str</td><td>str</td></tr></thead><tbody><tr><td>2022</td><td>20508555</td><td>&quot;4 DOOR SEDAN&quot;</td><td>&quot;PASSENGER OR SUBURBAN&quot;</td><td>&quot;Going Straight Ahead&quot;</td><td>&quot;Not Entered&quot;</td><td>&quot;North&quot;</td><td>&quot;Gas&quot;</td><td>2018</td><td>&quot;NY&quot;</td><td>1</td><td>4</td><td>&quot;SUBAR&quot;</td><td>&quot;HUMAN&quot;</td><td>&quot;Unsafe Speed&quot;</td><td>&quot;ENVMT&quot;</td><td>&quot;Pavement Slippery&quot;</td><td>&quot;Tree, Collision With Fixed Obj…</td><td>&quot;JF1VA1L63J8831039&quot;</td></tr><tr><td>2022</td><td>20508572</td><td>&quot;UNKNOWN VEHICLE&quot;</td><td>&quot;Not Entered&quot;</td><td>&quot;Going Straight Ahead&quot;</td><td>&quot;Not Entered&quot;</td><td>&quot;Unknown&quot;</td><td>&quot;Not Entered&quot;</td><td>null</td><td>null</td><td>null</td><td>null</td><td>null</td><td>&quot;HUMAN&quot;</td><td>&quot;Driver Inattention/Distraction…</td><td>&quot;HUMAN&quot;</td><td>&quot;Passing or Lane Usage Improper&quot;</td><td>&quot;Not Entered&quot;</td><td>null</td></tr><tr><td>2022</td><td>20508559</td><td>&quot;4 DOOR SEDAN&quot;</td><td>&quot;PASSENGER OR SUBURBAN&quot;</td><td>&quot;Parked&quot;</td><td>&quot;Not Entered&quot;</td><td>&quot;North&quot;</td><td>&quot;Gas&quot;</td><td>2017</td><td>&quot;NY&quot;</td><td>0</td><td>6</td><td>&quot;NISSA&quot;</td><td>&quot;HUMAN&quot;</td><td>&quot;Not Applicable&quot;</td><td>&quot;HUMAN&quot;</td><td>&quot;Not Applicable&quot;</td><td>&quot;Not Entered&quot;</td><td>&quot;1N4AA6AP8HC426518&quot;</td></tr><tr><td>2022</td><td>20508562</td><td>&quot;SUBURBAN&quot;</td><td>&quot;PASSENGER OR SUBURBAN&quot;</td><td>&quot;Stopped in Traffic&quot;</td><td>&quot;Not Entered&quot;</td><td>&quot;South&quot;</td><td>&quot;Gas&quot;</td><td>2019</td><td>&quot;NY&quot;</td><td>1</td><td>6</td><td>&quot;TOYOT&quot;</td><td>&quot;HUMAN&quot;</td><td>&quot;Not Applicable&quot;</td><td>&quot;HUMAN&quot;</td><td>&quot;Not Applicable&quot;</td><td>&quot;Not Applicable&quot;</td><td>&quot;5TDBZRFH2KS736051&quot;</td></tr><tr><td>2022</td><td>20508561</td><td>&quot;SUBURBAN&quot;</td><td>&quot;PASSENGER OR SUBURBAN&quot;</td><td>&quot;Changing Lanes&quot;</td><td>&quot;Not Entered&quot;</td><td>&quot;South&quot;</td><td>&quot;Gas&quot;</td><td>2022</td><td>&quot;NY&quot;</td><td>2</td><td>6</td><td>&quot;CHEVR&quot;</td><td>&quot;HUMAN&quot;</td><td>&quot;Not Applicable&quot;</td><td>&quot;HUMAN&quot;</td><td>&quot;Unsafe Lane Changing&quot;</td><td>&quot;Not Applicable&quot;</td><td>&quot;1GNERGKW4NJ192103&quot;</td></tr></tbody></table></div>"
      ],
      "text/plain": [
       "shape: (5, 19)\n",
       "┌──────┬────────────┬────────────┬────────────┬───┬────────────┬───────────┬───────────┬───────────┐\n",
       "│ Year ┆ Case       ┆ Vehicle    ┆ Registrati ┆ … ┆ Contributi ┆ Contribut ┆ Event     ┆ Partial   │\n",
       "│ ---  ┆ Vehicle ID ┆ Body Type  ┆ on Class   ┆   ┆ ng Factor  ┆ ing       ┆ Type      ┆ VIN       │\n",
       "│ i64  ┆ ---        ┆ ---        ┆ ---        ┆   ┆ 2          ┆ Factor 2  ┆ ---       ┆ ---       │\n",
       "│      ┆ i64        ┆ str        ┆ str        ┆   ┆ ---        ┆ Descript… ┆ str       ┆ str       │\n",
       "│      ┆            ┆            ┆            ┆   ┆ str        ┆ ---       ┆           ┆           │\n",
       "│      ┆            ┆            ┆            ┆   ┆            ┆ str       ┆           ┆           │\n",
       "╞══════╪════════════╪════════════╪════════════╪═══╪════════════╪═══════════╪═══════════╪═══════════╡\n",
       "│ 2022 ┆ 20508555   ┆ 4 DOOR     ┆ PASSENGER  ┆ … ┆ ENVMT      ┆ Pavement  ┆ Tree,     ┆ JF1VA1L63 │\n",
       "│      ┆            ┆ SEDAN      ┆ OR         ┆   ┆            ┆ Slippery  ┆ Collision ┆ J8831039  │\n",
       "│      ┆            ┆            ┆ SUBURBAN   ┆   ┆            ┆           ┆ With      ┆           │\n",
       "│      ┆            ┆            ┆            ┆   ┆            ┆           ┆ Fixed     ┆           │\n",
       "│      ┆            ┆            ┆            ┆   ┆            ┆           ┆ Obj…      ┆           │\n",
       "│ 2022 ┆ 20508572   ┆ UNKNOWN    ┆ Not        ┆ … ┆ HUMAN      ┆ Passing   ┆ Not       ┆ null      │\n",
       "│      ┆            ┆ VEHICLE    ┆ Entered    ┆   ┆            ┆ or Lane   ┆ Entered   ┆           │\n",
       "│      ┆            ┆            ┆            ┆   ┆            ┆ Usage     ┆           ┆           │\n",
       "│      ┆            ┆            ┆            ┆   ┆            ┆ Improper  ┆           ┆           │\n",
       "│ 2022 ┆ 20508559   ┆ 4 DOOR     ┆ PASSENGER  ┆ … ┆ HUMAN      ┆ Not Appli ┆ Not       ┆ 1N4AA6AP8 │\n",
       "│      ┆            ┆ SEDAN      ┆ OR         ┆   ┆            ┆ cable     ┆ Entered   ┆ HC426518  │\n",
       "│      ┆            ┆            ┆ SUBURBAN   ┆   ┆            ┆           ┆           ┆           │\n",
       "│ 2022 ┆ 20508562   ┆ SUBURBAN   ┆ PASSENGER  ┆ … ┆ HUMAN      ┆ Not Appli ┆ Not Appli ┆ 5TDBZRFH2 │\n",
       "│      ┆            ┆            ┆ OR         ┆   ┆            ┆ cable     ┆ cable     ┆ KS736051  │\n",
       "│      ┆            ┆            ┆ SUBURBAN   ┆   ┆            ┆           ┆           ┆           │\n",
       "│ 2022 ┆ 20508561   ┆ SUBURBAN   ┆ PASSENGER  ┆ … ┆ HUMAN      ┆ Unsafe    ┆ Not Appli ┆ 1GNERGKW4 │\n",
       "│      ┆            ┆            ┆ OR         ┆   ┆            ┆ Lane      ┆ cable     ┆ NJ192103  │\n",
       "│      ┆            ┆            ┆ SUBURBAN   ┆   ┆            ┆ Changing  ┆           ┆           │\n",
       "└──────┴────────────┴────────────┴────────────┴───┴────────────┴───────────┴───────────┴───────────┘"
      ]
     },
     "execution_count": 4,
     "metadata": {},
     "output_type": "execute_result"
    }
   ],
   "source": [
    "df.tail()"
   ]
  },
  {
   "cell_type": "code",
   "execution_count": 5,
   "id": "fd4d29d8-5050-4889-8e76-16a71382a00f",
   "metadata": {},
   "outputs": [
    {
     "data": {
      "text/plain": [
       "Schema([('Year', Int64),\n",
       "        ('Case Vehicle ID', Int64),\n",
       "        ('Vehicle Body Type', String),\n",
       "        ('Registration Class', String),\n",
       "        ('Action Prior to Accident', String),\n",
       "        ('Type / Axles of Truck or Bus', String),\n",
       "        ('Direction of Travel', String),\n",
       "        ('Fuel Type', String),\n",
       "        ('Vehicle Year', Int64),\n",
       "        ('State of Registration', String),\n",
       "        ('Number of Occupants', Int64),\n",
       "        ('Engine Cylinders', Int64),\n",
       "        ('Vehicle Make', String),\n",
       "        ('Contributing Factor 1', String),\n",
       "        ('Contributing Factor 1 Description', String),\n",
       "        ('Contributing Factor 2', String),\n",
       "        ('Contributing Factor 2 Description', String),\n",
       "        ('Event Type', String),\n",
       "        ('Partial VIN', String)])"
      ]
     },
     "execution_count": 5,
     "metadata": {},
     "output_type": "execute_result"
    }
   ],
   "source": [
    "df.collect_schema()"
   ]
  },
  {
   "cell_type": "code",
   "execution_count": 6,
   "id": "86d45937-7b5d-4c16-b6c2-21e5e16fd48e",
   "metadata": {},
   "outputs": [
    {
     "data": {
      "text/html": [
       "<div><style>\n",
       ".dataframe > thead > tr,\n",
       ".dataframe > tbody > tr {\n",
       "  text-align: right;\n",
       "  white-space: pre-wrap;\n",
       "}\n",
       "</style>\n",
       "<small>shape: (9, 20)</small><table border=\"1\" class=\"dataframe\"><thead><tr><th>statistic</th><th>Year</th><th>Case Vehicle ID</th><th>Vehicle Body Type</th><th>Registration Class</th><th>Action Prior to Accident</th><th>Type / Axles of Truck or Bus</th><th>Direction of Travel</th><th>Fuel Type</th><th>Vehicle Year</th><th>State of Registration</th><th>Number of Occupants</th><th>Engine Cylinders</th><th>Vehicle Make</th><th>Contributing Factor 1</th><th>Contributing Factor 1 Description</th><th>Contributing Factor 2</th><th>Contributing Factor 2 Description</th><th>Event Type</th><th>Partial VIN</th></tr><tr><td>str</td><td>f64</td><td>f64</td><td>str</td><td>str</td><td>str</td><td>str</td><td>str</td><td>str</td><td>f64</td><td>str</td><td>f64</td><td>f64</td><td>str</td><td>str</td><td>str</td><td>str</td><td>str</td><td>str</td><td>str</td></tr></thead><tbody><tr><td>&quot;count&quot;</td><td>3.659841e6</td><td>3.659841e6</td><td>&quot;3659841&quot;</td><td>&quot;3659841&quot;</td><td>&quot;3659841&quot;</td><td>&quot;3659841&quot;</td><td>&quot;3659841&quot;</td><td>&quot;3659841&quot;</td><td>3.011509e6</td><td>&quot;3353527&quot;</td><td>3.31337e6</td><td>2.810205e6</td><td>&quot;3015408&quot;</td><td>&quot;3659841&quot;</td><td>&quot;3659841&quot;</td><td>&quot;3659841&quot;</td><td>&quot;3659841&quot;</td><td>&quot;3588870&quot;</td><td>&quot;2936903&quot;</td></tr><tr><td>&quot;null_count&quot;</td><td>0.0</td><td>0.0</td><td>&quot;0&quot;</td><td>&quot;0&quot;</td><td>&quot;0&quot;</td><td>&quot;0&quot;</td><td>&quot;0&quot;</td><td>&quot;0&quot;</td><td>648332.0</td><td>&quot;306314&quot;</td><td>346471.0</td><td>849636.0</td><td>&quot;644433&quot;</td><td>&quot;0&quot;</td><td>&quot;0&quot;</td><td>&quot;0&quot;</td><td>&quot;0&quot;</td><td>&quot;70971&quot;</td><td>&quot;722938&quot;</td></tr><tr><td>&quot;mean&quot;</td><td>2019.910059</td><td>1.7671e7</td><td>null</td><td>null</td><td>null</td><td>null</td><td>null</td><td>null</td><td>2012.428067</td><td>null</td><td>1.239651</td><td>5.148022</td><td>null</td><td>null</td><td>null</td><td>null</td><td>null</td><td>null</td><td>null</td></tr><tr><td>&quot;std&quot;</td><td>1.444028</td><td>1.3545e6</td><td>null</td><td>null</td><td>null</td><td>null</td><td>null</td><td>null</td><td>6.289321</td><td>null</td><td>1.256277</td><td>1.452636</td><td>null</td><td>null</td><td>null</td><td>null</td><td>null</td><td>null</td><td>null</td></tr><tr><td>&quot;min&quot;</td><td>2018.0</td><td>1.4378647e7</td><td>&quot;2 DOOR SEDAN&quot;</td><td>&quot;AGRICULTURAL COMMERCIAL&quot;</td><td>&quot;Avoiding Object in Roadway&quot;</td><td>&quot;2 axle box trailer and 3 axle …</td><td>&quot;East&quot;</td><td>&quot;Compressed Natural Gas&quot;</td><td>20.0</td><td>&quot;AB&quot;</td><td>0.0</td><td>0.0</td><td>&quot;A&quot;</td><td>&quot;ENVMT&quot;</td><td>&quot;Accelerator Defective&quot;</td><td>&quot;ENVMT&quot;</td><td>&quot;Accelerator Defective&quot;</td><td>&quot;Animal, Collision With&quot;</td><td>&quot;0&quot;</td></tr><tr><td>&quot;25%&quot;</td><td>2019.0</td><td>1.6506852e7</td><td>null</td><td>null</td><td>null</td><td>null</td><td>null</td><td>null</td><td>2008.0</td><td>null</td><td>1.0</td><td>4.0</td><td>null</td><td>null</td><td>null</td><td>null</td><td>null</td><td>null</td><td>null</td></tr><tr><td>&quot;50%&quot;</td><td>2020.0</td><td>1.7682515e7</td><td>null</td><td>null</td><td>null</td><td>null</td><td>null</td><td>null</td><td>2014.0</td><td>null</td><td>1.0</td><td>4.0</td><td>null</td><td>null</td><td>null</td><td>null</td><td>null</td><td>null</td><td>null</td></tr><tr><td>&quot;75%&quot;</td><td>2021.0</td><td>1.8855223e7</td><td>null</td><td>null</td><td>null</td><td>null</td><td>null</td><td>null</td><td>2017.0</td><td>null</td><td>1.0</td><td>6.0</td><td>null</td><td>null</td><td>null</td><td>null</td><td>null</td><td>null</td><td>null</td></tr><tr><td>&quot;max&quot;</td><td>2022.0</td><td>2.0508759e7</td><td>&quot;WELL SERVICING RIG&quot;</td><td>&quot;VAS VOLUNTEER AMBULANCE&quot;</td><td>&quot;Unknown&quot;</td><td>&quot;Unknown&quot;</td><td>&quot;West&quot;</td><td>&quot;Unknown&quot;</td><td>2023.0</td><td>&quot;pa&quot;</td><td>687.0</td><td>16.0</td><td>&quot;ZZ&quot;</td><td>&quot;VEHICLE&quot;</td><td>&quot;Windshield Inadequate&quot;</td><td>&quot;VEHICLE&quot;</td><td>&quot;Windshield Inadequate&quot;</td><td>&quot;Unknown&quot;</td><td>&quot;yv1ah99x81054962&quot;</td></tr></tbody></table></div>"
      ],
      "text/plain": [
       "shape: (9, 20)\n",
       "┌───────────┬───────────┬───────────┬───────────┬───┬───────────┬───────────┬───────────┬──────────┐\n",
       "│ statistic ┆ Year      ┆ Case      ┆ Vehicle   ┆ … ┆ Contribut ┆ Contribut ┆ Event     ┆ Partial  │\n",
       "│ ---       ┆ ---       ┆ Vehicle   ┆ Body Type ┆   ┆ ing       ┆ ing       ┆ Type      ┆ VIN      │\n",
       "│ str       ┆ f64       ┆ ID        ┆ ---       ┆   ┆ Factor 2  ┆ Factor 2  ┆ ---       ┆ ---      │\n",
       "│           ┆           ┆ ---       ┆ str       ┆   ┆ ---       ┆ Descript… ┆ str       ┆ str      │\n",
       "│           ┆           ┆ f64       ┆           ┆   ┆ str       ┆ ---       ┆           ┆          │\n",
       "│           ┆           ┆           ┆           ┆   ┆           ┆ str       ┆           ┆          │\n",
       "╞═══════════╪═══════════╪═══════════╪═══════════╪═══╪═══════════╪═══════════╪═══════════╪══════════╡\n",
       "│ count     ┆ 3.659841e ┆ 3.659841e ┆ 3659841   ┆ … ┆ 3659841   ┆ 3659841   ┆ 3588870   ┆ 2936903  │\n",
       "│           ┆ 6         ┆ 6         ┆           ┆   ┆           ┆           ┆           ┆          │\n",
       "│ null_coun ┆ 0.0       ┆ 0.0       ┆ 0         ┆ … ┆ 0         ┆ 0         ┆ 70971     ┆ 722938   │\n",
       "│ t         ┆           ┆           ┆           ┆   ┆           ┆           ┆           ┆          │\n",
       "│ mean      ┆ 2019.9100 ┆ 1.7671e7  ┆ null      ┆ … ┆ null      ┆ null      ┆ null      ┆ null     │\n",
       "│           ┆ 59        ┆           ┆           ┆   ┆           ┆           ┆           ┆          │\n",
       "│ std       ┆ 1.444028  ┆ 1.3545e6  ┆ null      ┆ … ┆ null      ┆ null      ┆ null      ┆ null     │\n",
       "│ min       ┆ 2018.0    ┆ 1.4378647 ┆ 2 DOOR    ┆ … ┆ ENVMT     ┆ Accelerat ┆ Animal,   ┆ 0        │\n",
       "│           ┆           ┆ e7        ┆ SEDAN     ┆   ┆           ┆ or        ┆ Collision ┆          │\n",
       "│           ┆           ┆           ┆           ┆   ┆           ┆ Defective ┆ With      ┆          │\n",
       "│ 25%       ┆ 2019.0    ┆ 1.6506852 ┆ null      ┆ … ┆ null      ┆ null      ┆ null      ┆ null     │\n",
       "│           ┆           ┆ e7        ┆           ┆   ┆           ┆           ┆           ┆          │\n",
       "│ 50%       ┆ 2020.0    ┆ 1.7682515 ┆ null      ┆ … ┆ null      ┆ null      ┆ null      ┆ null     │\n",
       "│           ┆           ┆ e7        ┆           ┆   ┆           ┆           ┆           ┆          │\n",
       "│ 75%       ┆ 2021.0    ┆ 1.8855223 ┆ null      ┆ … ┆ null      ┆ null      ┆ null      ┆ null     │\n",
       "│           ┆           ┆ e7        ┆           ┆   ┆           ┆           ┆           ┆          │\n",
       "│ max       ┆ 2022.0    ┆ 2.0508759 ┆ WELL      ┆ … ┆ VEHICLE   ┆ Windshiel ┆ Unknown   ┆ yv1ah99x │\n",
       "│           ┆           ┆ e7        ┆ SERVICING ┆   ┆           ┆ d Inadequ ┆           ┆ 81054962 │\n",
       "│           ┆           ┆           ┆ RIG       ┆   ┆           ┆ ate       ┆           ┆          │\n",
       "└───────────┴───────────┴───────────┴───────────┴───┴───────────┴───────────┴───────────┴──────────┘"
      ]
     },
     "execution_count": 6,
     "metadata": {},
     "output_type": "execute_result"
    }
   ],
   "source": [
    "df.describe()"
   ]
  },
  {
   "cell_type": "code",
   "execution_count": 8,
   "id": "1f4146c2-4334-458f-8827-92dd260fa238",
   "metadata": {},
   "outputs": [
    {
     "data": {
      "text/plain": [
       "(array(['Fire/Explosion, Non-Collision',\n",
       "        'Culver/Head Wall, Collision With Fixed Object',\n",
       "        'Other Motor Vehicle, Collision With',\n",
       "        'Ran Off Roadway Only, Non-Collision', 'Animal, Collision With',\n",
       "        'In-Line Skater, Collision With', 'Railroad Train, Collision With',\n",
       "        'Fire Hydrant, Collision With Fixed Object',\n",
       "        'Other Fixed Object*, Collision With Fixed Object',\n",
       "        'Other Pedestrian', 'Sign Post, Collision With Fixed Object',\n",
       "        'Other*, Non-Collision',\n",
       "        'Guide Rail - End, Collision With Fixed Object',\n",
       "        'Fence, Collision With Fixed Object',\n",
       "        'Tree, Collision With Fixed Object', 'Overturned, Non-Collision',\n",
       "        'Guide Rail - Not At End, Collision With Fixed Object',\n",
       "        'Curbing, Collision With Fixed Object', 'Not Entered',\n",
       "        'Barrier, Collision With Fixed Object',\n",
       "        'Building/Wall, Collision With Fixed Object',\n",
       "        'Earth Embankment/Rock Cut/Ditch, Collision With Fixed Object',\n",
       "        'Crash Cushion, Collision With Fixed Object', None,\n",
       "        'Snow Embankment, Collision With Fixed Object', 'Unknown',\n",
       "        'Median - Not At End, Collision With Fixed Object',\n",
       "        'Pedestrian, Collision With',\n",
       "        'Other Object (Not Fixed)*, Collision With', 'Not Applicable',\n",
       "        'Submersion, Non-Collision',\n",
       "        'Light Support/Utility Pole, Collision With Fixed Object', 'Deer',\n",
       "        'Median - End, Collision With Fixed Object',\n",
       "        'Bicyclist, Collision With',\n",
       "        'Bridge Structure, Collision With Fixed Object'], dtype=object),\n",
       " array([337, 800, 138252, 97, 608, 2, 32, 1152, 6808, 396, 7777, 1023,\n",
       "        1080, 4993, 13730, 7209, 11130, 4144, 1421516, 2337, 4640, 12952,\n",
       "        297, 70971, 2286, 1585, 2184, 4065, 2695, 1922556, 257, 10083, 691,\n",
       "        169, 554, 433], dtype=object))"
      ]
     },
     "execution_count": 8,
     "metadata": {},
     "output_type": "execute_result"
    }
   ],
   "source": [
    "value_counts = df['Event Type'].value_counts().to_numpy()\n",
    "indices = value_counts[:,0]\n",
    "counts = value_counts[:,1]\n",
    "indices, counts"
   ]
  },
  {
   "cell_type": "code",
   "execution_count": null,
   "id": "2296b3c8-e6da-460a-bc36-96f0fe499dc6",
   "metadata": {},
   "outputs": [],
   "source": []
  }
 ],
 "metadata": {
  "kernelspec": {
   "display_name": "Python 3 (ipykernel)",
   "language": "python",
   "name": "python3"
  },
  "language_info": {
   "codemirror_mode": {
    "name": "ipython",
    "version": 3
   },
   "file_extension": ".py",
   "mimetype": "text/x-python",
   "name": "python",
   "nbconvert_exporter": "python",
   "pygments_lexer": "ipython3",
   "version": "3.11.2"
  }
 },
 "nbformat": 4,
 "nbformat_minor": 5
}
