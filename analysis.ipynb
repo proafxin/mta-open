{
 "cells": [
  {
   "cell_type": "code",
   "execution_count": 1,
   "id": "ae27dff1-cf41-47cc-91e5-7f425f652985",
   "metadata": {},
   "outputs": [],
   "source": [
    "import polars as pl\n",
    "from cleaner import sanitize\n",
    "from geopy import distance\n",
    "import math\n",
    "import pydeck"
   ]
  },
  {
   "cell_type": "code",
   "execution_count": 2,
   "id": "591edda8-29d5-4243-843d-e131de83a707",
   "metadata": {},
   "outputs": [],
   "source": [
    "df = pl.read_parquet(\"data/processed.parquet\")"
   ]
  },
  {
   "cell_type": "code",
   "execution_count": 3,
   "id": "8223fb9a-c935-4157-9e72-2ea037ef1fa1",
   "metadata": {},
   "outputs": [
    {
     "data": {
      "text/plain": [
       "(2125763, 31)"
      ]
     },
     "execution_count": 3,
     "metadata": {},
     "output_type": "execute_result"
    }
   ],
   "source": [
    "df.shape"
   ]
  },
  {
   "cell_type": "code",
   "execution_count": 4,
   "id": "838ed908-4e9f-4585-853e-2a8e463e000e",
   "metadata": {},
   "outputs": [
    {
     "data": {
      "text/html": [
       "<div><style>\n",
       ".dataframe > thead > tr,\n",
       ".dataframe > tbody > tr {\n",
       "  text-align: right;\n",
       "  white-space: pre-wrap;\n",
       "}\n",
       "</style>\n",
       "<small>shape: (5, 31)</small><table border=\"1\" class=\"dataframe\"><thead><tr><th>borough</th><th>zip_code</th><th>latitude</th><th>longitude</th><th>on_street_name</th><th>cross_street_name</th><th>off_street_name</th><th>number_of_persons_injured</th><th>number_of_persons_killed</th><th>number_of_pedestrians_injured</th><th>number_of_pedestrians_killed</th><th>number_of_cyclist_injured</th><th>number_of_cyclist_killed</th><th>number_of_motorist_injured</th><th>number_of_motorist_killed</th><th>contributing_factor_vehicle_1</th><th>contributing_factor_vehicle_2</th><th>contributing_factor_vehicle_3</th><th>contributing_factor_vehicle_4</th><th>contributing_factor_vehicle_5</th><th>vehicle_type_code_1</th><th>vehicle_type_code_2</th><th>vehicle_type_code_3</th><th>vehicle_type_code_4</th><th>vehicle_type_code_5</th><th>date</th><th>year</th><th>month</th><th>time</th><th>hour</th><th>total_damage</th></tr><tr><td>str</td><td>i64</td><td>f64</td><td>f64</td><td>str</td><td>str</td><td>str</td><td>i64</td><td>i64</td><td>i64</td><td>i64</td><td>i64</td><td>i64</td><td>i64</td><td>i64</td><td>str</td><td>str</td><td>str</td><td>str</td><td>str</td><td>str</td><td>str</td><td>str</td><td>str</td><td>str</td><td>date</td><td>i32</td><td>i8</td><td>time</td><td>i8</td><td>i64</td></tr></thead><tbody><tr><td>null</td><td>null</td><td>null</td><td>null</td><td>&quot;WHITESTONE EXPRESSWAY&quot;</td><td>&quot;20 AVENUE&quot;</td><td>null</td><td>2</td><td>0</td><td>0</td><td>0</td><td>0</td><td>0</td><td>2</td><td>0</td><td>&quot;Aggressive Driving/Road Rage&quot;</td><td>&quot;Unspecified&quot;</td><td>null</td><td>null</td><td>null</td><td>&quot;Sedan&quot;</td><td>&quot;Sedan&quot;</td><td>null</td><td>null</td><td>null</td><td>2021-09-11</td><td>2021</td><td>9</td><td>02:39:00</td><td>2</td><td>2</td></tr><tr><td>null</td><td>null</td><td>null</td><td>null</td><td>&quot;QUEENSBORO BRIDGE UPPER&quot;</td><td>null</td><td>null</td><td>1</td><td>0</td><td>0</td><td>0</td><td>0</td><td>0</td><td>1</td><td>0</td><td>&quot;Pavement Slippery&quot;</td><td>null</td><td>null</td><td>null</td><td>null</td><td>&quot;Sedan&quot;</td><td>null</td><td>null</td><td>null</td><td>null</td><td>2022-03-26</td><td>2022</td><td>3</td><td>11:45:00</td><td>11</td><td>1</td></tr><tr><td>null</td><td>null</td><td>null</td><td>null</td><td>&quot;THROGS NECK BRIDGE&quot;</td><td>null</td><td>null</td><td>0</td><td>0</td><td>0</td><td>0</td><td>0</td><td>0</td><td>0</td><td>0</td><td>&quot;Following Too Closely&quot;</td><td>&quot;Unspecified&quot;</td><td>null</td><td>null</td><td>null</td><td>&quot;Sedan&quot;</td><td>&quot;Pick-up Truck&quot;</td><td>null</td><td>null</td><td>null</td><td>2022-06-29</td><td>2022</td><td>6</td><td>06:55:00</td><td>6</td><td>0</td></tr><tr><td>&quot;BROOKLYN&quot;</td><td>11208</td><td>40.667202</td><td>-73.8665</td><td>null</td><td>null</td><td>&quot;1211      LORING AVENUE&quot;</td><td>0</td><td>0</td><td>0</td><td>0</td><td>0</td><td>0</td><td>0</td><td>0</td><td>&quot;Unspecified&quot;</td><td>null</td><td>null</td><td>null</td><td>null</td><td>&quot;Sedan&quot;</td><td>null</td><td>null</td><td>null</td><td>null</td><td>2021-09-11</td><td>2021</td><td>9</td><td>09:35:00</td><td>9</td><td>0</td></tr><tr><td>&quot;BROOKLYN&quot;</td><td>11233</td><td>40.683304</td><td>-73.917274</td><td>&quot;SARATOGA AVENUE&quot;</td><td>&quot;DECATUR STREET&quot;</td><td>null</td><td>0</td><td>0</td><td>0</td><td>0</td><td>0</td><td>0</td><td>0</td><td>0</td><td>null</td><td>null</td><td>null</td><td>null</td><td>null</td><td>null</td><td>null</td><td>null</td><td>null</td><td>null</td><td>2021-12-14</td><td>2021</td><td>12</td><td>08:13:00</td><td>8</td><td>0</td></tr></tbody></table></div>"
      ],
      "text/plain": [
       "shape: (5, 31)\n",
       "┌──────────┬──────────┬───────────┬────────────┬───┬───────┬──────────┬──────┬──────────────┐\n",
       "│ borough  ┆ zip_code ┆ latitude  ┆ longitude  ┆ … ┆ month ┆ time     ┆ hour ┆ total_damage │\n",
       "│ ---      ┆ ---      ┆ ---       ┆ ---        ┆   ┆ ---   ┆ ---      ┆ ---  ┆ ---          │\n",
       "│ str      ┆ i64      ┆ f64       ┆ f64        ┆   ┆ i8    ┆ time     ┆ i8   ┆ i64          │\n",
       "╞══════════╪══════════╪═══════════╪════════════╪═══╪═══════╪══════════╪══════╪══════════════╡\n",
       "│ null     ┆ null     ┆ null      ┆ null       ┆ … ┆ 9     ┆ 02:39:00 ┆ 2    ┆ 2            │\n",
       "│ null     ┆ null     ┆ null      ┆ null       ┆ … ┆ 3     ┆ 11:45:00 ┆ 11   ┆ 1            │\n",
       "│ null     ┆ null     ┆ null      ┆ null       ┆ … ┆ 6     ┆ 06:55:00 ┆ 6    ┆ 0            │\n",
       "│ BROOKLYN ┆ 11208    ┆ 40.667202 ┆ -73.8665   ┆ … ┆ 9     ┆ 09:35:00 ┆ 9    ┆ 0            │\n",
       "│ BROOKLYN ┆ 11233    ┆ 40.683304 ┆ -73.917274 ┆ … ┆ 12    ┆ 08:13:00 ┆ 8    ┆ 0            │\n",
       "└──────────┴──────────┴───────────┴────────────┴───┴───────┴──────────┴──────┴──────────────┘"
      ]
     },
     "execution_count": 4,
     "metadata": {},
     "output_type": "execute_result"
    }
   ],
   "source": [
    "df.head()"
   ]
  },
  {
   "cell_type": "code",
   "execution_count": null,
   "id": "54c1d147-6b77-4afc-a8f2-f5f3324ec905",
   "metadata": {},
   "outputs": [],
   "source": []
  },
  {
   "cell_type": "code",
   "execution_count": 5,
   "id": "312556e7-81e7-4672-b4b9-f395fbaaa716",
   "metadata": {},
   "outputs": [],
   "source": [
    "# df = df.with_columns(pl.col(\"crash_date\").str.to_date(\"%m/%d/%Y\").alias(\"date\"))\n",
    "# df = df.with_columns(pl.col(\"date\").dt.year().alias(\"year\"))\n",
    "# df = df.with_columns(pl.col(\"date\").dt.month().alias(\"month\"))\n",
    "# df = df.with_columns(pl.col(\"crash_time\").str.to_time(\"%H:%M\").alias(\"time\"))\n",
    "# df = df.with_columns(pl.col(\"time\").dt.hour().alias(\"hour\"))\n",
    "\n",
    "# # df[[\"date\", \"year\", \"month\", \"time\", \"hour\"]].head()"
   ]
  },
  {
   "cell_type": "code",
   "execution_count": 6,
   "id": "c053ab0a-6262-40b6-8d67-dcf2f27dfda3",
   "metadata": {},
   "outputs": [],
   "source": [
    "# df = df.drop([\"crash_date\", \"crash_time\", \"location\"])\n",
    "# df = df.drop('collision_id')\n",
    "# df.write_parquet('data/processed.parquet', use_pyarrow=True)"
   ]
  },
  {
   "cell_type": "code",
   "execution_count": 7,
   "id": "38b01108-6c12-46eb-aa1e-b7fd12091565",
   "metadata": {},
   "outputs": [],
   "source": [
    "# df[[\"date\", \"borough\", \"year\", \"month\", \"time\", \"hour\"]].write_parquet(\"data/time_only.parquet\", use_pyarrow=True)"
   ]
  },
  {
   "cell_type": "code",
   "execution_count": 8,
   "id": "b41942e3-58c5-4278-9535-bf80054313d9",
   "metadata": {},
   "outputs": [],
   "source": [
    "clean = pl.read_parquet(\"data/clean_data.parquet\")"
   ]
  },
  {
   "cell_type": "code",
   "execution_count": 9,
   "id": "561a4d96-a472-4dd0-b1c4-fe76fd643f63",
   "metadata": {},
   "outputs": [
    {
     "data": {
      "text/html": [
       "<div><style>\n",
       ".dataframe > thead > tr,\n",
       ".dataframe > tbody > tr {\n",
       "  text-align: right;\n",
       "  white-space: pre-wrap;\n",
       "}\n",
       "</style>\n",
       "<small>shape: (5, 32)</small><table border=\"1\" class=\"dataframe\"><thead><tr><th>borough</th><th>zip_code</th><th>latitude</th><th>longitude</th><th>on_street_name</th><th>cross_street_name</th><th>off_street_name</th><th>number_of_persons_injured</th><th>number_of_persons_killed</th><th>number_of_pedestrians_injured</th><th>number_of_pedestrians_killed</th><th>number_of_cyclist_injured</th><th>number_of_cyclist_killed</th><th>number_of_motorist_injured</th><th>number_of_motorist_killed</th><th>contributing_factor_vehicle_1</th><th>contributing_factor_vehicle_2</th><th>contributing_factor_vehicle_3</th><th>contributing_factor_vehicle_4</th><th>contributing_factor_vehicle_5</th><th>vehicle_type_code_1</th><th>vehicle_type_code_2</th><th>vehicle_type_code_3</th><th>vehicle_type_code_4</th><th>vehicle_type_code_5</th><th>date</th><th>year</th><th>month</th><th>time</th><th>hour</th><th>distance</th><th>color</th></tr><tr><td>str</td><td>i64</td><td>f64</td><td>f64</td><td>str</td><td>str</td><td>str</td><td>i64</td><td>i64</td><td>i64</td><td>i64</td><td>i64</td><td>i64</td><td>i64</td><td>i64</td><td>str</td><td>str</td><td>str</td><td>str</td><td>str</td><td>str</td><td>str</td><td>str</td><td>str</td><td>str</td><td>date</td><td>i32</td><td>i8</td><td>time</td><td>i8</td><td>f64</td><td>str</td></tr></thead><tbody><tr><td>&quot;BROOKLYN&quot;</td><td>11208</td><td>40.667202</td><td>-73.8665</td><td>null</td><td>null</td><td>&quot;1211      LORING AVENUE&quot;</td><td>0</td><td>0</td><td>0</td><td>0</td><td>0</td><td>0</td><td>0</td><td>0</td><td>&quot;Unspecified&quot;</td><td>null</td><td>null</td><td>null</td><td>null</td><td>&quot;Sedan&quot;</td><td>null</td><td>null</td><td>null</td><td>null</td><td>2021-09-11</td><td>2021</td><td>9</td><td>09:35:00</td><td>9</td><td>12.832897</td><td>&quot;#0044ff&quot;</td></tr><tr><td>&quot;BROOKLYN&quot;</td><td>11233</td><td>40.683304</td><td>-73.917274</td><td>&quot;SARATOGA AVENUE&quot;</td><td>&quot;DECATUR STREET&quot;</td><td>null</td><td>0</td><td>0</td><td>0</td><td>0</td><td>0</td><td>0</td><td>0</td><td>0</td><td>null</td><td>null</td><td>null</td><td>null</td><td>null</td><td>null</td><td>null</td><td>null</td><td>null</td><td>null</td><td>2021-12-14</td><td>2021</td><td>12</td><td>08:13:00</td><td>8</td><td>8.183083</td><td>&quot;#0044ff&quot;</td></tr><tr><td>&quot;BRONX&quot;</td><td>10475</td><td>40.86816</td><td>-73.83148</td><td>null</td><td>null</td><td>&quot;344       BAYCHESTER AVENUE&quot;</td><td>2</td><td>0</td><td>0</td><td>0</td><td>0</td><td>0</td><td>2</td><td>0</td><td>&quot;Unspecified&quot;</td><td>&quot;Unspecified&quot;</td><td>null</td><td>null</td><td>null</td><td>&quot;Sedan&quot;</td><td>&quot;Sedan&quot;</td><td>null</td><td>null</td><td>null</td><td>2021-12-14</td><td>2021</td><td>12</td><td>08:17:00</td><td>8</td><td>22.685206</td><td>&quot;#00ff00&quot;</td></tr><tr><td>&quot;BROOKLYN&quot;</td><td>11207</td><td>40.67172</td><td>-73.8971</td><td>null</td><td>null</td><td>&quot;2047      PITKIN AVENUE&quot;</td><td>0</td><td>0</td><td>0</td><td>0</td><td>0</td><td>0</td><td>0</td><td>0</td><td>&quot;Driver Inexperience&quot;</td><td>&quot;Unspecified&quot;</td><td>null</td><td>null</td><td>null</td><td>&quot;Sedan&quot;</td><td>null</td><td>null</td><td>null</td><td>null</td><td>2021-12-14</td><td>2021</td><td>12</td><td>21:10:00</td><td>21</td><td>10.273211</td><td>&quot;#0044ff&quot;</td></tr><tr><td>&quot;MANHATTAN&quot;</td><td>10017</td><td>40.75144</td><td>-73.97397</td><td>&quot;3 AVENUE&quot;</td><td>&quot;EAST 43 STREET&quot;</td><td>null</td><td>0</td><td>0</td><td>0</td><td>0</td><td>0</td><td>0</td><td>0</td><td>0</td><td>&quot;Passing Too Closely&quot;</td><td>&quot;Unspecified&quot;</td><td>null</td><td>null</td><td>null</td><td>&quot;Sedan&quot;</td><td>&quot;Station Wagon/Sport Utility Ve…</td><td>null</td><td>null</td><td>null</td><td>2021-12-14</td><td>2021</td><td>12</td><td>14:58:00</td><td>14</td><td>5.07277</td><td>&quot;#2ca02c&quot;</td></tr></tbody></table></div>"
      ],
      "text/plain": [
       "shape: (5, 32)\n",
       "┌───────────┬──────────┬───────────┬────────────┬───┬──────────┬──────┬───────────┬─────────┐\n",
       "│ borough   ┆ zip_code ┆ latitude  ┆ longitude  ┆ … ┆ time     ┆ hour ┆ distance  ┆ color   │\n",
       "│ ---       ┆ ---      ┆ ---       ┆ ---        ┆   ┆ ---      ┆ ---  ┆ ---       ┆ ---     │\n",
       "│ str       ┆ i64      ┆ f64       ┆ f64        ┆   ┆ time     ┆ i8   ┆ f64       ┆ str     │\n",
       "╞═══════════╪══════════╪═══════════╪════════════╪═══╪══════════╪══════╪═══════════╪═════════╡\n",
       "│ BROOKLYN  ┆ 11208    ┆ 40.667202 ┆ -73.8665   ┆ … ┆ 09:35:00 ┆ 9    ┆ 12.832897 ┆ #0044ff │\n",
       "│ BROOKLYN  ┆ 11233    ┆ 40.683304 ┆ -73.917274 ┆ … ┆ 08:13:00 ┆ 8    ┆ 8.183083  ┆ #0044ff │\n",
       "│ BRONX     ┆ 10475    ┆ 40.86816  ┆ -73.83148  ┆ … ┆ 08:17:00 ┆ 8    ┆ 22.685206 ┆ #00ff00 │\n",
       "│ BROOKLYN  ┆ 11207    ┆ 40.67172  ┆ -73.8971   ┆ … ┆ 21:10:00 ┆ 21   ┆ 10.273211 ┆ #0044ff │\n",
       "│ MANHATTAN ┆ 10017    ┆ 40.75144  ┆ -73.97397  ┆ … ┆ 14:58:00 ┆ 14   ┆ 5.07277   ┆ #2ca02c │\n",
       "└───────────┴──────────┴───────────┴────────────┴───┴──────────┴──────┴───────────┴─────────┘"
      ]
     },
     "execution_count": 9,
     "metadata": {},
     "output_type": "execute_result"
    }
   ],
   "source": [
    "# clean = df.drop_nulls(subset=[\"latitude\"])\n",
    "# clean = clean.drop_nulls(subset=[\"longitude\"])\n",
    "# clean = clean.drop_nulls(subset=[\"borough\"])\n",
    "\n",
    "clean.head()"
   ]
  },
  {
   "cell_type": "code",
   "execution_count": 10,
   "id": "1249bab9-6df4-4a1f-a352-b729d3c7d453",
   "metadata": {},
   "outputs": [],
   "source": [
    "# clean.shape"
   ]
  },
  {
   "cell_type": "code",
   "execution_count": 11,
   "id": "d689e945-a6d8-44c1-aa9d-feee4188eea1",
   "metadata": {},
   "outputs": [],
   "source": [
    "# clean = clean.with_columns((pl.concat_list(pl.col(\"latitude\"), pl.col(\"longitude\")).alias(\"coordinate\")))"
   ]
  },
  {
   "cell_type": "code",
   "execution_count": 12,
   "id": "4af5c290-bfac-4a68-a617-e987c4b4dd0b",
   "metadata": {},
   "outputs": [],
   "source": [
    "# clean = clean.with_columns(pl.lit((40.7128, -74.0060)).alias('ny'))\n",
    "# clean.head()"
   ]
  },
  {
   "cell_type": "code",
   "execution_count": 13,
   "id": "5d947983-fa89-4952-814a-dfeabfcc7d61",
   "metadata": {},
   "outputs": [],
   "source": [
    "# clean = clean.with_columns((pl.concat_list(pl.col(\"coordinate\"), pl.col(\"ny\")).alias(\"geodesic\")))\n",
    "# clean.head()"
   ]
  },
  {
   "cell_type": "code",
   "execution_count": 14,
   "id": "3c258ab5-8f3b-40b8-be3d-89c103ed5dfe",
   "metadata": {},
   "outputs": [],
   "source": [
    "# clean['geodesic'].dtype"
   ]
  },
  {
   "cell_type": "code",
   "execution_count": 15,
   "id": "02c15805-a63c-4443-9cbb-297edfc86a20",
   "metadata": {},
   "outputs": [],
   "source": [
    "# clean = clean.with_columns(pl.col(\"geodesic\").map_elements(lambda x: distance.geodesic((x[0], x[1]), (x[2], x[3])).km, return_dtype=float).alias(\"distance\"))\n",
    "# clean.head()"
   ]
  },
  {
   "cell_type": "code",
   "execution_count": 16,
   "id": "9b2c2b23-3b21-4c92-8cf5-2ca073a324e2",
   "metadata": {},
   "outputs": [
    {
     "data": {
      "text/html": [
       "<div><style>\n",
       ".dataframe > thead > tr,\n",
       ".dataframe > tbody > tr {\n",
       "  text-align: right;\n",
       "  white-space: pre-wrap;\n",
       "}\n",
       "</style>\n",
       "<small>shape: (5, 32)</small><table border=\"1\" class=\"dataframe\"><thead><tr><th>borough</th><th>zip_code</th><th>latitude</th><th>longitude</th><th>on_street_name</th><th>cross_street_name</th><th>off_street_name</th><th>number_of_persons_injured</th><th>number_of_persons_killed</th><th>number_of_pedestrians_injured</th><th>number_of_pedestrians_killed</th><th>number_of_cyclist_injured</th><th>number_of_cyclist_killed</th><th>number_of_motorist_injured</th><th>number_of_motorist_killed</th><th>contributing_factor_vehicle_1</th><th>contributing_factor_vehicle_2</th><th>contributing_factor_vehicle_3</th><th>contributing_factor_vehicle_4</th><th>contributing_factor_vehicle_5</th><th>vehicle_type_code_1</th><th>vehicle_type_code_2</th><th>vehicle_type_code_3</th><th>vehicle_type_code_4</th><th>vehicle_type_code_5</th><th>date</th><th>year</th><th>month</th><th>time</th><th>hour</th><th>distance</th><th>color</th></tr><tr><td>str</td><td>i64</td><td>f64</td><td>f64</td><td>str</td><td>str</td><td>str</td><td>i64</td><td>i64</td><td>i64</td><td>i64</td><td>i64</td><td>i64</td><td>i64</td><td>i64</td><td>str</td><td>str</td><td>str</td><td>str</td><td>str</td><td>str</td><td>str</td><td>str</td><td>str</td><td>str</td><td>date</td><td>i32</td><td>i8</td><td>time</td><td>i8</td><td>f64</td><td>str</td></tr></thead><tbody><tr><td>&quot;BROOKLYN&quot;</td><td>11208</td><td>40.667202</td><td>-73.8665</td><td>null</td><td>null</td><td>&quot;1211      LORING AVENUE&quot;</td><td>0</td><td>0</td><td>0</td><td>0</td><td>0</td><td>0</td><td>0</td><td>0</td><td>&quot;Unspecified&quot;</td><td>null</td><td>null</td><td>null</td><td>null</td><td>&quot;Sedan&quot;</td><td>null</td><td>null</td><td>null</td><td>null</td><td>2021-09-11</td><td>2021</td><td>9</td><td>09:35:00</td><td>9</td><td>12.832897</td><td>&quot;#0044ff&quot;</td></tr><tr><td>&quot;BROOKLYN&quot;</td><td>11233</td><td>40.683304</td><td>-73.917274</td><td>&quot;SARATOGA AVENUE&quot;</td><td>&quot;DECATUR STREET&quot;</td><td>null</td><td>0</td><td>0</td><td>0</td><td>0</td><td>0</td><td>0</td><td>0</td><td>0</td><td>null</td><td>null</td><td>null</td><td>null</td><td>null</td><td>null</td><td>null</td><td>null</td><td>null</td><td>null</td><td>2021-12-14</td><td>2021</td><td>12</td><td>08:13:00</td><td>8</td><td>8.183083</td><td>&quot;#0044ff&quot;</td></tr><tr><td>&quot;BRONX&quot;</td><td>10475</td><td>40.86816</td><td>-73.83148</td><td>null</td><td>null</td><td>&quot;344       BAYCHESTER AVENUE&quot;</td><td>2</td><td>0</td><td>0</td><td>0</td><td>0</td><td>0</td><td>2</td><td>0</td><td>&quot;Unspecified&quot;</td><td>&quot;Unspecified&quot;</td><td>null</td><td>null</td><td>null</td><td>&quot;Sedan&quot;</td><td>&quot;Sedan&quot;</td><td>null</td><td>null</td><td>null</td><td>2021-12-14</td><td>2021</td><td>12</td><td>08:17:00</td><td>8</td><td>22.685206</td><td>&quot;#00ff00&quot;</td></tr><tr><td>&quot;BROOKLYN&quot;</td><td>11207</td><td>40.67172</td><td>-73.8971</td><td>null</td><td>null</td><td>&quot;2047      PITKIN AVENUE&quot;</td><td>0</td><td>0</td><td>0</td><td>0</td><td>0</td><td>0</td><td>0</td><td>0</td><td>&quot;Driver Inexperience&quot;</td><td>&quot;Unspecified&quot;</td><td>null</td><td>null</td><td>null</td><td>&quot;Sedan&quot;</td><td>null</td><td>null</td><td>null</td><td>null</td><td>2021-12-14</td><td>2021</td><td>12</td><td>21:10:00</td><td>21</td><td>10.273211</td><td>&quot;#0044ff&quot;</td></tr><tr><td>&quot;MANHATTAN&quot;</td><td>10017</td><td>40.75144</td><td>-73.97397</td><td>&quot;3 AVENUE&quot;</td><td>&quot;EAST 43 STREET&quot;</td><td>null</td><td>0</td><td>0</td><td>0</td><td>0</td><td>0</td><td>0</td><td>0</td><td>0</td><td>&quot;Passing Too Closely&quot;</td><td>&quot;Unspecified&quot;</td><td>null</td><td>null</td><td>null</td><td>&quot;Sedan&quot;</td><td>&quot;Station Wagon/Sport Utility Ve…</td><td>null</td><td>null</td><td>null</td><td>2021-12-14</td><td>2021</td><td>12</td><td>14:58:00</td><td>14</td><td>5.07277</td><td>&quot;#2ca02c&quot;</td></tr></tbody></table></div>"
      ],
      "text/plain": [
       "shape: (5, 32)\n",
       "┌───────────┬──────────┬───────────┬────────────┬───┬──────────┬──────┬───────────┬─────────┐\n",
       "│ borough   ┆ zip_code ┆ latitude  ┆ longitude  ┆ … ┆ time     ┆ hour ┆ distance  ┆ color   │\n",
       "│ ---       ┆ ---      ┆ ---       ┆ ---        ┆   ┆ ---      ┆ ---  ┆ ---       ┆ ---     │\n",
       "│ str       ┆ i64      ┆ f64       ┆ f64        ┆   ┆ time     ┆ i8   ┆ f64       ┆ str     │\n",
       "╞═══════════╪══════════╪═══════════╪════════════╪═══╪══════════╪══════╪═══════════╪═════════╡\n",
       "│ BROOKLYN  ┆ 11208    ┆ 40.667202 ┆ -73.8665   ┆ … ┆ 09:35:00 ┆ 9    ┆ 12.832897 ┆ #0044ff │\n",
       "│ BROOKLYN  ┆ 11233    ┆ 40.683304 ┆ -73.917274 ┆ … ┆ 08:13:00 ┆ 8    ┆ 8.183083  ┆ #0044ff │\n",
       "│ BRONX     ┆ 10475    ┆ 40.86816  ┆ -73.83148  ┆ … ┆ 08:17:00 ┆ 8    ┆ 22.685206 ┆ #00ff00 │\n",
       "│ BROOKLYN  ┆ 11207    ┆ 40.67172  ┆ -73.8971   ┆ … ┆ 21:10:00 ┆ 21   ┆ 10.273211 ┆ #0044ff │\n",
       "│ MANHATTAN ┆ 10017    ┆ 40.75144  ┆ -73.97397  ┆ … ┆ 14:58:00 ┆ 14   ┆ 5.07277   ┆ #2ca02c │\n",
       "└───────────┴──────────┴───────────┴────────────┴───┴──────────┴──────┴───────────┴─────────┘"
      ]
     },
     "execution_count": 16,
     "metadata": {},
     "output_type": "execute_result"
    }
   ],
   "source": [
    "# clean = clean.drop([\"geodesic\", \"ny\", \"coordinate\"])\n",
    "clean.head()"
   ]
  },
  {
   "cell_type": "code",
   "execution_count": 17,
   "id": "9f1d7df5-1c3d-4b4f-b0c4-15e672bb6db1",
   "metadata": {},
   "outputs": [
    {
     "data": {
      "text/plain": [
       "(1411081, 32)"
      ]
     },
     "execution_count": 17,
     "metadata": {},
     "output_type": "execute_result"
    }
   ],
   "source": [
    "clean.shape"
   ]
  },
  {
   "cell_type": "code",
   "execution_count": 18,
   "id": "e889cd9a-139d-4e4b-b511-097d0f2ac10e",
   "metadata": {},
   "outputs": [
    {
     "data": {
      "text/html": [
       "<div><style>\n",
       ".dataframe > thead > tr,\n",
       ".dataframe > tbody > tr {\n",
       "  text-align: right;\n",
       "  white-space: pre-wrap;\n",
       "}\n",
       "</style>\n",
       "<small>shape: (9, 2)</small><table border=\"1\" class=\"dataframe\"><thead><tr><th>statistic</th><th>value</th></tr><tr><td>str</td><td>f64</td></tr></thead><tbody><tr><td>&quot;count&quot;</td><td>1.411081e6</td></tr><tr><td>&quot;null_count&quot;</td><td>0.0</td></tr><tr><td>&quot;mean&quot;</td><td>11.839194</td></tr><tr><td>&quot;std&quot;</td><td>6.127597</td></tr><tr><td>&quot;min&quot;</td><td>0.078833</td></tr><tr><td>&quot;25%&quot;</td><td>7.035497</td></tr><tr><td>&quot;50%&quot;</td><td>11.337967</td></tr><tr><td>&quot;75%&quot;</td><td>16.337667</td></tr><tr><td>&quot;max&quot;</td><td>81.455009</td></tr></tbody></table></div>"
      ],
      "text/plain": [
       "shape: (9, 2)\n",
       "┌────────────┬────────────┐\n",
       "│ statistic  ┆ value      │\n",
       "│ ---        ┆ ---        │\n",
       "│ str        ┆ f64        │\n",
       "╞════════════╪════════════╡\n",
       "│ count      ┆ 1.411081e6 │\n",
       "│ null_count ┆ 0.0        │\n",
       "│ mean       ┆ 11.839194  │\n",
       "│ std        ┆ 6.127597   │\n",
       "│ min        ┆ 0.078833   │\n",
       "│ 25%        ┆ 7.035497   │\n",
       "│ 50%        ┆ 11.337967  │\n",
       "│ 75%        ┆ 16.337667  │\n",
       "│ max        ┆ 81.455009  │\n",
       "└────────────┴────────────┘"
      ]
     },
     "execution_count": 18,
     "metadata": {},
     "output_type": "execute_result"
    }
   ],
   "source": [
    "clean['distance'].describe()"
   ]
  },
  {
   "cell_type": "code",
   "execution_count": 19,
   "id": "8163bc2a-d0a9-4fb3-9203-9868e426b8b2",
   "metadata": {},
   "outputs": [
    {
     "data": {
      "text/plain": [
       "698.5162847063767"
      ]
     },
     "execution_count": 19,
     "metadata": {},
     "output_type": "execute_result"
    }
   ],
   "source": [
    "threshold = math.sqrt(530*530+455*455)\n",
    "threshold"
   ]
  },
  {
   "cell_type": "code",
   "execution_count": 20,
   "id": "12d90de5-d1cf-4fe6-a4a3-011218307453",
   "metadata": {},
   "outputs": [],
   "source": [
    "# clean.filter(pl.col('distance') > 530).write_parquet(\"data/invalid_coordinate.parquet\")\n",
    "# clean = clean.filter(pl.col(\"distance\") < threshold)"
   ]
  },
  {
   "cell_type": "code",
   "execution_count": 21,
   "id": "460356aa-46f2-43b0-9063-0e961f2d6de7",
   "metadata": {},
   "outputs": [
    {
     "data": {
      "text/html": [
       "<div><style>\n",
       ".dataframe > thead > tr,\n",
       ".dataframe > tbody > tr {\n",
       "  text-align: right;\n",
       "  white-space: pre-wrap;\n",
       "}\n",
       "</style>\n",
       "<small>shape: (5, 32)</small><table border=\"1\" class=\"dataframe\"><thead><tr><th>borough</th><th>zip_code</th><th>latitude</th><th>longitude</th><th>on_street_name</th><th>cross_street_name</th><th>off_street_name</th><th>number_of_persons_injured</th><th>number_of_persons_killed</th><th>number_of_pedestrians_injured</th><th>number_of_pedestrians_killed</th><th>number_of_cyclist_injured</th><th>number_of_cyclist_killed</th><th>number_of_motorist_injured</th><th>number_of_motorist_killed</th><th>contributing_factor_vehicle_1</th><th>contributing_factor_vehicle_2</th><th>contributing_factor_vehicle_3</th><th>contributing_factor_vehicle_4</th><th>contributing_factor_vehicle_5</th><th>vehicle_type_code_1</th><th>vehicle_type_code_2</th><th>vehicle_type_code_3</th><th>vehicle_type_code_4</th><th>vehicle_type_code_5</th><th>date</th><th>year</th><th>month</th><th>time</th><th>hour</th><th>distance</th><th>color</th></tr><tr><td>str</td><td>i64</td><td>f64</td><td>f64</td><td>str</td><td>str</td><td>str</td><td>i64</td><td>i64</td><td>i64</td><td>i64</td><td>i64</td><td>i64</td><td>i64</td><td>i64</td><td>str</td><td>str</td><td>str</td><td>str</td><td>str</td><td>str</td><td>str</td><td>str</td><td>str</td><td>str</td><td>date</td><td>i32</td><td>i8</td><td>time</td><td>i8</td><td>f64</td><td>str</td></tr></thead><tbody><tr><td>&quot;BROOKLYN&quot;</td><td>11208</td><td>40.667202</td><td>-73.8665</td><td>null</td><td>null</td><td>&quot;1211      LORING AVENUE&quot;</td><td>0</td><td>0</td><td>0</td><td>0</td><td>0</td><td>0</td><td>0</td><td>0</td><td>&quot;Unspecified&quot;</td><td>null</td><td>null</td><td>null</td><td>null</td><td>&quot;Sedan&quot;</td><td>null</td><td>null</td><td>null</td><td>null</td><td>2021-09-11</td><td>2021</td><td>9</td><td>09:35:00</td><td>9</td><td>12.832897</td><td>&quot;#0044ff&quot;</td></tr><tr><td>&quot;BROOKLYN&quot;</td><td>11233</td><td>40.683304</td><td>-73.917274</td><td>&quot;SARATOGA AVENUE&quot;</td><td>&quot;DECATUR STREET&quot;</td><td>null</td><td>0</td><td>0</td><td>0</td><td>0</td><td>0</td><td>0</td><td>0</td><td>0</td><td>null</td><td>null</td><td>null</td><td>null</td><td>null</td><td>null</td><td>null</td><td>null</td><td>null</td><td>null</td><td>2021-12-14</td><td>2021</td><td>12</td><td>08:13:00</td><td>8</td><td>8.183083</td><td>&quot;#0044ff&quot;</td></tr><tr><td>&quot;BRONX&quot;</td><td>10475</td><td>40.86816</td><td>-73.83148</td><td>null</td><td>null</td><td>&quot;344       BAYCHESTER AVENUE&quot;</td><td>2</td><td>0</td><td>0</td><td>0</td><td>0</td><td>0</td><td>2</td><td>0</td><td>&quot;Unspecified&quot;</td><td>&quot;Unspecified&quot;</td><td>null</td><td>null</td><td>null</td><td>&quot;Sedan&quot;</td><td>&quot;Sedan&quot;</td><td>null</td><td>null</td><td>null</td><td>2021-12-14</td><td>2021</td><td>12</td><td>08:17:00</td><td>8</td><td>22.685206</td><td>&quot;#00ff00&quot;</td></tr><tr><td>&quot;BROOKLYN&quot;</td><td>11207</td><td>40.67172</td><td>-73.8971</td><td>null</td><td>null</td><td>&quot;2047      PITKIN AVENUE&quot;</td><td>0</td><td>0</td><td>0</td><td>0</td><td>0</td><td>0</td><td>0</td><td>0</td><td>&quot;Driver Inexperience&quot;</td><td>&quot;Unspecified&quot;</td><td>null</td><td>null</td><td>null</td><td>&quot;Sedan&quot;</td><td>null</td><td>null</td><td>null</td><td>null</td><td>2021-12-14</td><td>2021</td><td>12</td><td>21:10:00</td><td>21</td><td>10.273211</td><td>&quot;#0044ff&quot;</td></tr><tr><td>&quot;MANHATTAN&quot;</td><td>10017</td><td>40.75144</td><td>-73.97397</td><td>&quot;3 AVENUE&quot;</td><td>&quot;EAST 43 STREET&quot;</td><td>null</td><td>0</td><td>0</td><td>0</td><td>0</td><td>0</td><td>0</td><td>0</td><td>0</td><td>&quot;Passing Too Closely&quot;</td><td>&quot;Unspecified&quot;</td><td>null</td><td>null</td><td>null</td><td>&quot;Sedan&quot;</td><td>&quot;Station Wagon/Sport Utility Ve…</td><td>null</td><td>null</td><td>null</td><td>2021-12-14</td><td>2021</td><td>12</td><td>14:58:00</td><td>14</td><td>5.07277</td><td>&quot;#2ca02c&quot;</td></tr></tbody></table></div>"
      ],
      "text/plain": [
       "shape: (5, 32)\n",
       "┌───────────┬──────────┬───────────┬────────────┬───┬──────────┬──────┬───────────┬─────────┐\n",
       "│ borough   ┆ zip_code ┆ latitude  ┆ longitude  ┆ … ┆ time     ┆ hour ┆ distance  ┆ color   │\n",
       "│ ---       ┆ ---      ┆ ---       ┆ ---        ┆   ┆ ---      ┆ ---  ┆ ---       ┆ ---     │\n",
       "│ str       ┆ i64      ┆ f64       ┆ f64        ┆   ┆ time     ┆ i8   ┆ f64       ┆ str     │\n",
       "╞═══════════╪══════════╪═══════════╪════════════╪═══╪══════════╪══════╪═══════════╪═════════╡\n",
       "│ BROOKLYN  ┆ 11208    ┆ 40.667202 ┆ -73.8665   ┆ … ┆ 09:35:00 ┆ 9    ┆ 12.832897 ┆ #0044ff │\n",
       "│ BROOKLYN  ┆ 11233    ┆ 40.683304 ┆ -73.917274 ┆ … ┆ 08:13:00 ┆ 8    ┆ 8.183083  ┆ #0044ff │\n",
       "│ BRONX     ┆ 10475    ┆ 40.86816  ┆ -73.83148  ┆ … ┆ 08:17:00 ┆ 8    ┆ 22.685206 ┆ #00ff00 │\n",
       "│ BROOKLYN  ┆ 11207    ┆ 40.67172  ┆ -73.8971   ┆ … ┆ 21:10:00 ┆ 21   ┆ 10.273211 ┆ #0044ff │\n",
       "│ MANHATTAN ┆ 10017    ┆ 40.75144  ┆ -73.97397  ┆ … ┆ 14:58:00 ┆ 14   ┆ 5.07277   ┆ #2ca02c │\n",
       "└───────────┴──────────┴───────────┴────────────┴───┴──────────┴──────┴───────────┴─────────┘"
      ]
     },
     "execution_count": 21,
     "metadata": {},
     "output_type": "execute_result"
    }
   ],
   "source": [
    "# threshold = 1.5*clean['distance'].mean()\n",
    "# clean = clean.filter(pl.col(\"distance\") < threshold)\n",
    "clean.head()"
   ]
  },
  {
   "cell_type": "code",
   "execution_count": 22,
   "id": "900f0148-286f-420d-a41c-3e6b191e1f64",
   "metadata": {},
   "outputs": [
    {
     "data": {
      "text/plain": [
       "(1411081, 32)"
      ]
     },
     "execution_count": 22,
     "metadata": {},
     "output_type": "execute_result"
    }
   ],
   "source": [
    "clean.shape"
   ]
  },
  {
   "cell_type": "code",
   "execution_count": 23,
   "id": "fc637e5d-083a-46a1-add1-b88c93659491",
   "metadata": {},
   "outputs": [
    {
     "data": {
      "text/plain": [
       "['#0044ff', '#ffaa00', '#00ff00', '#ff7f0e', '#2ca02c']"
      ]
     },
     "execution_count": 23,
     "metadata": {},
     "output_type": "execute_result"
    }
   ],
   "source": [
    "colors = [\n",
    "    '#0044ff',  # muted blue\n",
    "    '#ffaa00',  # muted purple\n",
    "    '#00ff00',  # chestnut brown\n",
    "    '#ff7f0e',  # safety orange\n",
    "    '#2ca02c',  # cooked asparagus green\n",
    "    \n",
    "]\n",
    "boroughs = clean['borough'].unique()\n",
    "colors = colors[:boroughs.shape[0]]\n",
    "colors"
   ]
  },
  {
   "cell_type": "code",
   "execution_count": 24,
   "id": "6ab17230-c120-40fa-b2b8-9dd93d035991",
   "metadata": {},
   "outputs": [],
   "source": [
    "# color_lookup = pydeck.data_utils.assign_random_colors(clean['borough'])\n",
    "# colors = list(color_lookup.values())"
   ]
  },
  {
   "cell_type": "code",
   "execution_count": 25,
   "id": "3852b31d-02de-4ebe-990b-7b2d14044aca",
   "metadata": {},
   "outputs": [
    {
     "data": {
      "text/html": [
       "<div><style>\n",
       ".dataframe > thead > tr,\n",
       ".dataframe > tbody > tr {\n",
       "  text-align: right;\n",
       "  white-space: pre-wrap;\n",
       "}\n",
       "</style>\n",
       "<small>shape: (5, 32)</small><table border=\"1\" class=\"dataframe\"><thead><tr><th>borough</th><th>zip_code</th><th>latitude</th><th>longitude</th><th>on_street_name</th><th>cross_street_name</th><th>off_street_name</th><th>number_of_persons_injured</th><th>number_of_persons_killed</th><th>number_of_pedestrians_injured</th><th>number_of_pedestrians_killed</th><th>number_of_cyclist_injured</th><th>number_of_cyclist_killed</th><th>number_of_motorist_injured</th><th>number_of_motorist_killed</th><th>contributing_factor_vehicle_1</th><th>contributing_factor_vehicle_2</th><th>contributing_factor_vehicle_3</th><th>contributing_factor_vehicle_4</th><th>contributing_factor_vehicle_5</th><th>vehicle_type_code_1</th><th>vehicle_type_code_2</th><th>vehicle_type_code_3</th><th>vehicle_type_code_4</th><th>vehicle_type_code_5</th><th>date</th><th>year</th><th>month</th><th>time</th><th>hour</th><th>distance</th><th>color</th></tr><tr><td>str</td><td>i64</td><td>f64</td><td>f64</td><td>str</td><td>str</td><td>str</td><td>i64</td><td>i64</td><td>i64</td><td>i64</td><td>i64</td><td>i64</td><td>i64</td><td>i64</td><td>str</td><td>str</td><td>str</td><td>str</td><td>str</td><td>str</td><td>str</td><td>str</td><td>str</td><td>str</td><td>date</td><td>i32</td><td>i8</td><td>time</td><td>i8</td><td>f64</td><td>str</td></tr></thead><tbody><tr><td>&quot;BROOKLYN&quot;</td><td>11208</td><td>40.667202</td><td>-73.8665</td><td>null</td><td>null</td><td>&quot;1211      LORING AVENUE&quot;</td><td>0</td><td>0</td><td>0</td><td>0</td><td>0</td><td>0</td><td>0</td><td>0</td><td>&quot;Unspecified&quot;</td><td>null</td><td>null</td><td>null</td><td>null</td><td>&quot;Sedan&quot;</td><td>null</td><td>null</td><td>null</td><td>null</td><td>2021-09-11</td><td>2021</td><td>9</td><td>09:35:00</td><td>9</td><td>12.832897</td><td>&quot;#0044ff&quot;</td></tr><tr><td>&quot;BROOKLYN&quot;</td><td>11233</td><td>40.683304</td><td>-73.917274</td><td>&quot;SARATOGA AVENUE&quot;</td><td>&quot;DECATUR STREET&quot;</td><td>null</td><td>0</td><td>0</td><td>0</td><td>0</td><td>0</td><td>0</td><td>0</td><td>0</td><td>null</td><td>null</td><td>null</td><td>null</td><td>null</td><td>null</td><td>null</td><td>null</td><td>null</td><td>null</td><td>2021-12-14</td><td>2021</td><td>12</td><td>08:13:00</td><td>8</td><td>8.183083</td><td>&quot;#0044ff&quot;</td></tr><tr><td>&quot;BRONX&quot;</td><td>10475</td><td>40.86816</td><td>-73.83148</td><td>null</td><td>null</td><td>&quot;344       BAYCHESTER AVENUE&quot;</td><td>2</td><td>0</td><td>0</td><td>0</td><td>0</td><td>0</td><td>2</td><td>0</td><td>&quot;Unspecified&quot;</td><td>&quot;Unspecified&quot;</td><td>null</td><td>null</td><td>null</td><td>&quot;Sedan&quot;</td><td>&quot;Sedan&quot;</td><td>null</td><td>null</td><td>null</td><td>2021-12-14</td><td>2021</td><td>12</td><td>08:17:00</td><td>8</td><td>22.685206</td><td>&quot;#ffaa00&quot;</td></tr><tr><td>&quot;BROOKLYN&quot;</td><td>11207</td><td>40.67172</td><td>-73.8971</td><td>null</td><td>null</td><td>&quot;2047      PITKIN AVENUE&quot;</td><td>0</td><td>0</td><td>0</td><td>0</td><td>0</td><td>0</td><td>0</td><td>0</td><td>&quot;Driver Inexperience&quot;</td><td>&quot;Unspecified&quot;</td><td>null</td><td>null</td><td>null</td><td>&quot;Sedan&quot;</td><td>null</td><td>null</td><td>null</td><td>null</td><td>2021-12-14</td><td>2021</td><td>12</td><td>21:10:00</td><td>21</td><td>10.273211</td><td>&quot;#0044ff&quot;</td></tr><tr><td>&quot;MANHATTAN&quot;</td><td>10017</td><td>40.75144</td><td>-73.97397</td><td>&quot;3 AVENUE&quot;</td><td>&quot;EAST 43 STREET&quot;</td><td>null</td><td>0</td><td>0</td><td>0</td><td>0</td><td>0</td><td>0</td><td>0</td><td>0</td><td>&quot;Passing Too Closely&quot;</td><td>&quot;Unspecified&quot;</td><td>null</td><td>null</td><td>null</td><td>&quot;Sedan&quot;</td><td>&quot;Station Wagon/Sport Utility Ve…</td><td>null</td><td>null</td><td>null</td><td>2021-12-14</td><td>2021</td><td>12</td><td>14:58:00</td><td>14</td><td>5.07277</td><td>&quot;#00ff00&quot;</td></tr></tbody></table></div>"
      ],
      "text/plain": [
       "shape: (5, 32)\n",
       "┌───────────┬──────────┬───────────┬────────────┬───┬──────────┬──────┬───────────┬─────────┐\n",
       "│ borough   ┆ zip_code ┆ latitude  ┆ longitude  ┆ … ┆ time     ┆ hour ┆ distance  ┆ color   │\n",
       "│ ---       ┆ ---      ┆ ---       ┆ ---        ┆   ┆ ---      ┆ ---  ┆ ---       ┆ ---     │\n",
       "│ str       ┆ i64      ┆ f64       ┆ f64        ┆   ┆ time     ┆ i8   ┆ f64       ┆ str     │\n",
       "╞═══════════╪══════════╪═══════════╪════════════╪═══╪══════════╪══════╪═══════════╪═════════╡\n",
       "│ BROOKLYN  ┆ 11208    ┆ 40.667202 ┆ -73.8665   ┆ … ┆ 09:35:00 ┆ 9    ┆ 12.832897 ┆ #0044ff │\n",
       "│ BROOKLYN  ┆ 11233    ┆ 40.683304 ┆ -73.917274 ┆ … ┆ 08:13:00 ┆ 8    ┆ 8.183083  ┆ #0044ff │\n",
       "│ BRONX     ┆ 10475    ┆ 40.86816  ┆ -73.83148  ┆ … ┆ 08:17:00 ┆ 8    ┆ 22.685206 ┆ #ffaa00 │\n",
       "│ BROOKLYN  ┆ 11207    ┆ 40.67172  ┆ -73.8971   ┆ … ┆ 21:10:00 ┆ 21   ┆ 10.273211 ┆ #0044ff │\n",
       "│ MANHATTAN ┆ 10017    ┆ 40.75144  ┆ -73.97397  ┆ … ┆ 14:58:00 ┆ 14   ┆ 5.07277   ┆ #00ff00 │\n",
       "└───────────┴──────────┴───────────┴────────────┴───┴──────────┴──────┴───────────┴─────────┘"
      ]
     },
     "execution_count": 25,
     "metadata": {},
     "output_type": "execute_result"
    }
   ],
   "source": [
    "# clean = clean.with_columns(pl.col(\"borough\").map_elements(lambda x: color_lookup[x], return_dtype=list[int]).alias(\"color\"))\n",
    "clean = clean.with_columns(pl.col(\"borough\").str.replace_many(boroughs, colors).alias(\"color\"))\n",
    "\n",
    "clean.head()"
   ]
  },
  {
   "cell_type": "code",
   "execution_count": 26,
   "id": "9dbf25a9-c756-40de-85fa-483389a328b1",
   "metadata": {},
   "outputs": [
    {
     "data": {
      "text/html": [
       "<div><style>\n",
       ".dataframe > thead > tr,\n",
       ".dataframe > tbody > tr {\n",
       "  text-align: right;\n",
       "  white-space: pre-wrap;\n",
       "}\n",
       "</style>\n",
       "<small>shape: (9, 2)</small><table border=\"1\" class=\"dataframe\"><thead><tr><th>statistic</th><th>value</th></tr><tr><td>str</td><td>f64</td></tr></thead><tbody><tr><td>&quot;count&quot;</td><td>1.411081e6</td></tr><tr><td>&quot;null_count&quot;</td><td>0.0</td></tr><tr><td>&quot;mean&quot;</td><td>11.839194</td></tr><tr><td>&quot;std&quot;</td><td>6.127597</td></tr><tr><td>&quot;min&quot;</td><td>0.078833</td></tr><tr><td>&quot;25%&quot;</td><td>7.035497</td></tr><tr><td>&quot;50%&quot;</td><td>11.337967</td></tr><tr><td>&quot;75%&quot;</td><td>16.337667</td></tr><tr><td>&quot;max&quot;</td><td>81.455009</td></tr></tbody></table></div>"
      ],
      "text/plain": [
       "shape: (9, 2)\n",
       "┌────────────┬────────────┐\n",
       "│ statistic  ┆ value      │\n",
       "│ ---        ┆ ---        │\n",
       "│ str        ┆ f64        │\n",
       "╞════════════╪════════════╡\n",
       "│ count      ┆ 1.411081e6 │\n",
       "│ null_count ┆ 0.0        │\n",
       "│ mean       ┆ 11.839194  │\n",
       "│ std        ┆ 6.127597   │\n",
       "│ min        ┆ 0.078833   │\n",
       "│ 25%        ┆ 7.035497   │\n",
       "│ 50%        ┆ 11.337967  │\n",
       "│ 75%        ┆ 16.337667  │\n",
       "│ max        ┆ 81.455009  │\n",
       "└────────────┴────────────┘"
      ]
     },
     "execution_count": 26,
     "metadata": {},
     "output_type": "execute_result"
    }
   ],
   "source": [
    "clean['distance'].describe()"
   ]
  },
  {
   "cell_type": "code",
   "execution_count": 33,
   "id": "f52fa0b7-2e23-4f19-922e-2b332b3d74c3",
   "metadata": {},
   "outputs": [
    {
     "data": {
      "text/html": [
       "<div><style>\n",
       ".dataframe > thead > tr,\n",
       ".dataframe > tbody > tr {\n",
       "  text-align: right;\n",
       "  white-space: pre-wrap;\n",
       "}\n",
       "</style>\n",
       "<small>shape: (3, 32)</small><table border=\"1\" class=\"dataframe\"><thead><tr><th>borough</th><th>zip_code</th><th>latitude</th><th>longitude</th><th>on_street_name</th><th>cross_street_name</th><th>off_street_name</th><th>number_of_persons_injured</th><th>number_of_persons_killed</th><th>number_of_pedestrians_injured</th><th>number_of_pedestrians_killed</th><th>number_of_cyclist_injured</th><th>number_of_cyclist_killed</th><th>number_of_motorist_injured</th><th>number_of_motorist_killed</th><th>contributing_factor_vehicle_1</th><th>contributing_factor_vehicle_2</th><th>contributing_factor_vehicle_3</th><th>contributing_factor_vehicle_4</th><th>contributing_factor_vehicle_5</th><th>vehicle_type_code_1</th><th>vehicle_type_code_2</th><th>vehicle_type_code_3</th><th>vehicle_type_code_4</th><th>vehicle_type_code_5</th><th>date</th><th>year</th><th>month</th><th>time</th><th>hour</th><th>distance</th><th>color</th></tr><tr><td>str</td><td>i64</td><td>f64</td><td>f64</td><td>str</td><td>str</td><td>str</td><td>i64</td><td>i64</td><td>i64</td><td>i64</td><td>i64</td><td>i64</td><td>i64</td><td>i64</td><td>str</td><td>str</td><td>str</td><td>str</td><td>str</td><td>str</td><td>str</td><td>str</td><td>str</td><td>str</td><td>date</td><td>i32</td><td>i8</td><td>time</td><td>i8</td><td>f64</td><td>str</td></tr></thead><tbody><tr><td>&quot;BROOKLYN&quot;</td><td>11201</td><td>41.12615</td><td>-73.71353</td><td>null</td><td>null</td><td>&quot;29        FLATBUSH AVENUE EXTE…</td><td>2</td><td>0</td><td>0</td><td>0</td><td>0</td><td>0</td><td>2</td><td>0</td><td>&quot;Driver Inattention/Distraction&quot;</td><td>&quot;Following Too Closely&quot;</td><td>null</td><td>null</td><td>null</td><td>&quot;Sedan&quot;</td><td>&quot;Sedan&quot;</td><td>null</td><td>null</td><td>null</td><td>2017-07-26</td><td>2017</td><td>7</td><td>23:35:00</td><td>23</td><td>52.097026</td><td>&quot;#0044ff&quot;</td></tr><tr><td>&quot;BROOKLYN&quot;</td><td>11239</td><td>41.12615</td><td>-73.71353</td><td>null</td><td>null</td><td>&quot;360       GATEWAY DRIVE       …</td><td>0</td><td>0</td><td>0</td><td>0</td><td>0</td><td>0</td><td>0</td><td>0</td><td>&quot;Unspecified&quot;</td><td>&quot;Unspecified&quot;</td><td>null</td><td>null</td><td>null</td><td>&quot;Sedan&quot;</td><td>null</td><td>null</td><td>null</td><td>null</td><td>2017-07-26</td><td>2017</td><td>7</td><td>16:21:00</td><td>16</td><td>52.097026</td><td>&quot;#0044ff&quot;</td></tr><tr><td>&quot;BRONX&quot;</td><td>10457</td><td>41.403297</td><td>-74.332794</td><td>null</td><td>null</td><td>&quot;2259      RYER AVENUE&quot;</td><td>0</td><td>0</td><td>0</td><td>0</td><td>0</td><td>0</td><td>0</td><td>0</td><td>&quot;Reaction to Uninvolved Vehicle&quot;</td><td>&quot;Unspecified&quot;</td><td>null</td><td>null</td><td>null</td><td>&quot;Station Wagon/Sport Utility Ve…</td><td>&quot;Station Wagon/Sport Utility Ve…</td><td>null</td><td>null</td><td>null</td><td>2024-08-26</td><td>2024</td><td>8</td><td>05:35:00</td><td>5</td><td>81.455009</td><td>&quot;#ffaa00&quot;</td></tr></tbody></table></div>"
      ],
      "text/plain": [
       "shape: (3, 32)\n",
       "┌──────────┬──────────┬───────────┬────────────┬───┬──────────┬──────┬───────────┬─────────┐\n",
       "│ borough  ┆ zip_code ┆ latitude  ┆ longitude  ┆ … ┆ time     ┆ hour ┆ distance  ┆ color   │\n",
       "│ ---      ┆ ---      ┆ ---       ┆ ---        ┆   ┆ ---      ┆ ---  ┆ ---       ┆ ---     │\n",
       "│ str      ┆ i64      ┆ f64       ┆ f64        ┆   ┆ time     ┆ i8   ┆ f64       ┆ str     │\n",
       "╞══════════╪══════════╪═══════════╪════════════╪═══╪══════════╪══════╪═══════════╪═════════╡\n",
       "│ BROOKLYN ┆ 11201    ┆ 41.12615  ┆ -73.71353  ┆ … ┆ 23:35:00 ┆ 23   ┆ 52.097026 ┆ #0044ff │\n",
       "│ BROOKLYN ┆ 11239    ┆ 41.12615  ┆ -73.71353  ┆ … ┆ 16:21:00 ┆ 16   ┆ 52.097026 ┆ #0044ff │\n",
       "│ BRONX    ┆ 10457    ┆ 41.403297 ┆ -74.332794 ┆ … ┆ 05:35:00 ┆ 5    ┆ 81.455009 ┆ #ffaa00 │\n",
       "└──────────┴──────────┴───────────┴────────────┴───┴──────────┴──────┴───────────┴─────────┘"
      ]
     },
     "execution_count": 33,
     "metadata": {},
     "output_type": "execute_result"
    }
   ],
   "source": [
    "clean = clean.filter(pl.col(\"distance\") <= 3*pl.col(\"distance\").mean())"
   ]
  },
  {
   "cell_type": "code",
   "execution_count": 27,
   "id": "466d5de2-16ad-4605-ae71-8cdbf853ff8b",
   "metadata": {},
   "outputs": [],
   "source": [
    "# clean.write_parquet(\"data/clean_data.parquet\", use_pyarrow=True)"
   ]
  },
  {
   "cell_type": "code",
   "execution_count": 28,
   "id": "5cb52792-49b2-4de5-a35b-0864e6f885f9",
   "metadata": {},
   "outputs": [],
   "source": [
    "# clean.select([\"date\", \"borough\", \"latitude\", \"longitude\", \"month\", \"year\", \"time\", \"hour\", \"color\"]).write_parquet(\"data/clean_map.parquet\", use_pyarrow=True)"
   ]
  }
 ],
 "metadata": {
  "kernelspec": {
   "display_name": "Python 3 (ipykernel)",
   "language": "python",
   "name": "python3"
  },
  "language_info": {
   "codemirror_mode": {
    "name": "ipython",
    "version": 3
   },
   "file_extension": ".py",
   "mimetype": "text/x-python",
   "name": "python",
   "nbconvert_exporter": "python",
   "pygments_lexer": "ipython3",
   "version": "3.12.4"
  }
 },
 "nbformat": 4,
 "nbformat_minor": 5
}
